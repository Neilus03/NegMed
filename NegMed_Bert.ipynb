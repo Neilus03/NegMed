{
  "cells": [
    {
      "cell_type": "markdown",
      "metadata": {
        "id": "2NdRitT8329p"
      },
      "source": [
        "# **Building Custom Named Entity Recognition Model Using Spacy**"
      ]
    },
    {
      "cell_type": "markdown",
      "metadata": {
        "id": "Xh_gXGxU2bwE"
      },
      "source": [
        "https://newscatcherapi.com/blog/train-custom-named-entity-recognition-ner-model-with-spacy-v3"
      ]
    },
    {
      "cell_type": "markdown",
      "source": [
        "## **Introduction**"
      ],
      "metadata": {
        "id": "pc_Lcwi4_aph"
      }
    },
    {
      "cell_type": "markdown",
      "source": [
        "In this notebook we are going to adapt a name entity recognition model to our problem of detecting negations, uncertainties and their corresponding scopes. The data we have consists in 319 medical texts with some negations and uncertainties with scopes (or not) and the corresponing indices of start and end of each on of them in the text."
      ],
      "metadata": {
        "id": "HDDC6W35_yrM"
      }
    },
    {
      "cell_type": "markdown",
      "source": [
        "For this task we are going to use the spacy library an the corpus that it provides."
      ],
      "metadata": {
        "id": "7KYkgI6MBaH7"
      }
    },
    {
      "cell_type": "markdown",
      "source": [
        "## Spacy library and examples of NER (english)"
      ],
      "metadata": {
        "id": "q0Br-B33DezL"
      }
    },
    {
      "cell_type": "code",
      "execution_count": null,
      "metadata": {
        "id": "FFOiNNeP0giN"
      },
      "outputs": [],
      "source": [
        "import spacy"
      ]
    },
    {
      "cell_type": "markdown",
      "source": [
        "In the following you will see some examples of name entity recognition using the english corpus en_core_web_lg from spacy and its pretrained model for NER."
      ],
      "metadata": {
        "id": "8pEXtfqVBk1M"
      }
    },
    {
      "cell_type": "code",
      "execution_count": null,
      "metadata": {
        "colab": {
          "base_uri": "https://localhost:8080/"
        },
        "id": "enIOTr8y6hf9",
        "outputId": "2466816e-3c5d-4f91-ca28-4624f299df01"
      },
      "outputs": [
        {
          "output_type": "stream",
          "name": "stdout",
          "text": [
            "2023-05-26 08:08:50.799829: W tensorflow/compiler/tf2tensorrt/utils/py_utils.cc:38] TF-TRT Warning: Could not find TensorRT\n",
            "Looking in indexes: https://pypi.org/simple, https://us-python.pkg.dev/colab-wheels/public/simple/\n",
            "Collecting en-core-web-lg==3.5.0\n",
            "  Downloading https://github.com/explosion/spacy-models/releases/download/en_core_web_lg-3.5.0/en_core_web_lg-3.5.0-py3-none-any.whl (587.7 MB)\n",
            "\u001b[2K     \u001b[90m━━━━━━━━━━━━━━━━━━━━━━━━━━━━━━━━━━━━━━━\u001b[0m \u001b[32m587.7/587.7 MB\u001b[0m \u001b[31m2.6 MB/s\u001b[0m eta \u001b[36m0:00:00\u001b[0m\n",
            "\u001b[?25hRequirement already satisfied: spacy<3.6.0,>=3.5.0 in /usr/local/lib/python3.10/dist-packages (from en-core-web-lg==3.5.0) (3.5.2)\n",
            "Requirement already satisfied: spacy-legacy<3.1.0,>=3.0.11 in /usr/local/lib/python3.10/dist-packages (from spacy<3.6.0,>=3.5.0->en-core-web-lg==3.5.0) (3.0.12)\n",
            "Requirement already satisfied: spacy-loggers<2.0.0,>=1.0.0 in /usr/local/lib/python3.10/dist-packages (from spacy<3.6.0,>=3.5.0->en-core-web-lg==3.5.0) (1.0.4)\n",
            "Requirement already satisfied: murmurhash<1.1.0,>=0.28.0 in /usr/local/lib/python3.10/dist-packages (from spacy<3.6.0,>=3.5.0->en-core-web-lg==3.5.0) (1.0.9)\n",
            "Requirement already satisfied: cymem<2.1.0,>=2.0.2 in /usr/local/lib/python3.10/dist-packages (from spacy<3.6.0,>=3.5.0->en-core-web-lg==3.5.0) (2.0.7)\n",
            "Requirement already satisfied: preshed<3.1.0,>=3.0.2 in /usr/local/lib/python3.10/dist-packages (from spacy<3.6.0,>=3.5.0->en-core-web-lg==3.5.0) (3.0.8)\n",
            "Requirement already satisfied: thinc<8.2.0,>=8.1.8 in /usr/local/lib/python3.10/dist-packages (from spacy<3.6.0,>=3.5.0->en-core-web-lg==3.5.0) (8.1.9)\n",
            "Requirement already satisfied: wasabi<1.2.0,>=0.9.1 in /usr/local/lib/python3.10/dist-packages (from spacy<3.6.0,>=3.5.0->en-core-web-lg==3.5.0) (1.1.1)\n",
            "Requirement already satisfied: srsly<3.0.0,>=2.4.3 in /usr/local/lib/python3.10/dist-packages (from spacy<3.6.0,>=3.5.0->en-core-web-lg==3.5.0) (2.4.6)\n",
            "Requirement already satisfied: catalogue<2.1.0,>=2.0.6 in /usr/local/lib/python3.10/dist-packages (from spacy<3.6.0,>=3.5.0->en-core-web-lg==3.5.0) (2.0.8)\n",
            "Requirement already satisfied: typer<0.8.0,>=0.3.0 in /usr/local/lib/python3.10/dist-packages (from spacy<3.6.0,>=3.5.0->en-core-web-lg==3.5.0) (0.7.0)\n",
            "Requirement already satisfied: pathy>=0.10.0 in /usr/local/lib/python3.10/dist-packages (from spacy<3.6.0,>=3.5.0->en-core-web-lg==3.5.0) (0.10.1)\n",
            "Requirement already satisfied: smart-open<7.0.0,>=5.2.1 in /usr/local/lib/python3.10/dist-packages (from spacy<3.6.0,>=3.5.0->en-core-web-lg==3.5.0) (6.3.0)\n",
            "Requirement already satisfied: tqdm<5.0.0,>=4.38.0 in /usr/local/lib/python3.10/dist-packages (from spacy<3.6.0,>=3.5.0->en-core-web-lg==3.5.0) (4.65.0)\n",
            "Requirement already satisfied: numpy>=1.15.0 in /usr/local/lib/python3.10/dist-packages (from spacy<3.6.0,>=3.5.0->en-core-web-lg==3.5.0) (1.22.4)\n",
            "Requirement already satisfied: requests<3.0.0,>=2.13.0 in /usr/local/lib/python3.10/dist-packages (from spacy<3.6.0,>=3.5.0->en-core-web-lg==3.5.0) (2.27.1)\n",
            "Requirement already satisfied: pydantic!=1.8,!=1.8.1,<1.11.0,>=1.7.4 in /usr/local/lib/python3.10/dist-packages (from spacy<3.6.0,>=3.5.0->en-core-web-lg==3.5.0) (1.10.7)\n",
            "Requirement already satisfied: jinja2 in /usr/local/lib/python3.10/dist-packages (from spacy<3.6.0,>=3.5.0->en-core-web-lg==3.5.0) (3.1.2)\n",
            "Requirement already satisfied: setuptools in /usr/local/lib/python3.10/dist-packages (from spacy<3.6.0,>=3.5.0->en-core-web-lg==3.5.0) (67.7.2)\n",
            "Requirement already satisfied: packaging>=20.0 in /usr/local/lib/python3.10/dist-packages (from spacy<3.6.0,>=3.5.0->en-core-web-lg==3.5.0) (23.1)\n",
            "Requirement already satisfied: langcodes<4.0.0,>=3.2.0 in /usr/local/lib/python3.10/dist-packages (from spacy<3.6.0,>=3.5.0->en-core-web-lg==3.5.0) (3.3.0)\n",
            "Requirement already satisfied: typing-extensions>=4.2.0 in /usr/local/lib/python3.10/dist-packages (from pydantic!=1.8,!=1.8.1,<1.11.0,>=1.7.4->spacy<3.6.0,>=3.5.0->en-core-web-lg==3.5.0) (4.5.0)\n",
            "Requirement already satisfied: urllib3<1.27,>=1.21.1 in /usr/local/lib/python3.10/dist-packages (from requests<3.0.0,>=2.13.0->spacy<3.6.0,>=3.5.0->en-core-web-lg==3.5.0) (1.26.15)\n",
            "Requirement already satisfied: certifi>=2017.4.17 in /usr/local/lib/python3.10/dist-packages (from requests<3.0.0,>=2.13.0->spacy<3.6.0,>=3.5.0->en-core-web-lg==3.5.0) (2022.12.7)\n",
            "Requirement already satisfied: charset-normalizer~=2.0.0 in /usr/local/lib/python3.10/dist-packages (from requests<3.0.0,>=2.13.0->spacy<3.6.0,>=3.5.0->en-core-web-lg==3.5.0) (2.0.12)\n",
            "Requirement already satisfied: idna<4,>=2.5 in /usr/local/lib/python3.10/dist-packages (from requests<3.0.0,>=2.13.0->spacy<3.6.0,>=3.5.0->en-core-web-lg==3.5.0) (3.4)\n",
            "Requirement already satisfied: blis<0.8.0,>=0.7.8 in /usr/local/lib/python3.10/dist-packages (from thinc<8.2.0,>=8.1.8->spacy<3.6.0,>=3.5.0->en-core-web-lg==3.5.0) (0.7.9)\n",
            "Requirement already satisfied: confection<1.0.0,>=0.0.1 in /usr/local/lib/python3.10/dist-packages (from thinc<8.2.0,>=8.1.8->spacy<3.6.0,>=3.5.0->en-core-web-lg==3.5.0) (0.0.4)\n",
            "Requirement already satisfied: click<9.0.0,>=7.1.1 in /usr/local/lib/python3.10/dist-packages (from typer<0.8.0,>=0.3.0->spacy<3.6.0,>=3.5.0->en-core-web-lg==3.5.0) (8.1.3)\n",
            "Requirement already satisfied: MarkupSafe>=2.0 in /usr/local/lib/python3.10/dist-packages (from jinja2->spacy<3.6.0,>=3.5.0->en-core-web-lg==3.5.0) (2.1.2)\n",
            "Installing collected packages: en-core-web-lg\n",
            "Successfully installed en-core-web-lg-3.5.0\n",
            "\u001b[38;5;2m✔ Download and installation successful\u001b[0m\n",
            "You can now load the package via spacy.load('en_core_web_lg')\n"
          ]
        }
      ],
      "source": [
        "# !python -m spacy download en_core_web_sm\n",
        "!python -m spacy download en_core_web_lg"
      ]
    },
    {
      "cell_type": "code",
      "execution_count": null,
      "metadata": {
        "colab": {
          "base_uri": "https://localhost:8080/"
        },
        "id": "GGlQY8Ro2hw6",
        "outputId": "4230a9eb-924b-45b6-821a-38bc08032495"
      },
      "outputs": [
        {
          "output_type": "stream",
          "name": "stdout",
          "text": [
            "<class 'spacy.lang.en.English'>\n"
          ]
        }
      ],
      "source": [
        "# nlp is the model that performs name entity recgnition\n",
        "nlp = spacy.load(\"en_core_web_lg\")\n",
        "print(type(nlp))"
      ]
    },
    {
      "cell_type": "code",
      "execution_count": null,
      "metadata": {
        "id": "uGingzbmvgnL"
      },
      "outputs": [],
      "source": [
        "# nlp receives a text a returns a document object that contains the text and the entities of the text that are of type span object\n",
        "doc = nlp(\"Donad Trump was President of USA\")"
      ]
    },
    {
      "cell_type": "code",
      "execution_count": null,
      "metadata": {
        "colab": {
          "base_uri": "https://localhost:8080/"
        },
        "id": "OFPOI7gY-ha4",
        "outputId": "0fa641eb-6347-4ea5-d48a-e803a8626005"
      },
      "outputs": [
        {
          "output_type": "execute_result",
          "data": {
            "text/plain": [
              "Donad Trump was President of USA"
            ]
          },
          "metadata": {},
          "execution_count": 5
        }
      ],
      "source": [
        "doc"
      ]
    },
    {
      "cell_type": "code",
      "execution_count": null,
      "metadata": {
        "colab": {
          "base_uri": "https://localhost:8080/"
        },
        "id": "NWrodKDk-jwc",
        "outputId": "2c7a2a33-37e0-4904-d743-366abeffbeb9"
      },
      "outputs": [
        {
          "output_type": "execute_result",
          "data": {
            "text/plain": [
              "spacy.tokens.doc.Doc"
            ]
          },
          "metadata": {},
          "execution_count": 6
        }
      ],
      "source": [
        "type(doc)"
      ]
    },
    {
      "cell_type": "code",
      "execution_count": null,
      "metadata": {
        "colab": {
          "base_uri": "https://localhost:8080/"
        },
        "id": "y7WS3fl38D_0",
        "outputId": "65cc5b60-7830-4280-aa3d-36897d1b2a61"
      },
      "outputs": [
        {
          "output_type": "execute_result",
          "data": {
            "text/plain": [
              "(Donad Trump, USA)"
            ]
          },
          "metadata": {},
          "execution_count": 7
        }
      ],
      "source": [
        "doc.ents"
      ]
    },
    {
      "cell_type": "code",
      "execution_count": null,
      "metadata": {
        "colab": {
          "base_uri": "https://localhost:8080/"
        },
        "id": "AovSOSmKvlz9",
        "outputId": "c7beaa27-05cb-4e21-9062-b723f48d9640"
      },
      "outputs": [
        {
          "output_type": "stream",
          "name": "stdout",
          "text": [
            "Donad Trump <class 'spacy.tokens.span.Span'>\n"
          ]
        }
      ],
      "source": [
        "print(doc.ents[0], type(doc.ents[0]))"
      ]
    },
    {
      "cell_type": "markdown",
      "source": [
        "We use the displacy library to show the text process with the entities recognized in colors with the corresponding label"
      ],
      "metadata": {
        "id": "ab9o68P8DOI6"
      }
    },
    {
      "cell_type": "code",
      "execution_count": null,
      "metadata": {
        "colab": {
          "base_uri": "https://localhost:8080/",
          "height": 52
        },
        "id": "5ou7-MtW8gXW",
        "outputId": "bb80afc6-8511-4df0-b653-db49a4e61779"
      },
      "outputs": [
        {
          "output_type": "display_data",
          "data": {
            "text/plain": [
              "<IPython.core.display.HTML object>"
            ],
            "text/html": [
              "<span class=\"tex2jax_ignore\"><div class=\"entities\" style=\"line-height: 2.5; direction: ltr\">\n",
              "<mark class=\"entity\" style=\"background: #aa9cfc; padding: 0.45em 0.6em; margin: 0 0.25em; line-height: 1; border-radius: 0.35em;\">\n",
              "    Donad Trump\n",
              "    <span style=\"font-size: 0.8em; font-weight: bold; line-height: 1; border-radius: 0.35em; vertical-align: middle; margin-left: 0.5rem\">PERSON</span>\n",
              "</mark>\n",
              " was President of \n",
              "<mark class=\"entity\" style=\"background: #feca74; padding: 0.45em 0.6em; margin: 0 0.25em; line-height: 1; border-radius: 0.35em;\">\n",
              "    USA\n",
              "    <span style=\"font-size: 0.8em; font-weight: bold; line-height: 1; border-radius: 0.35em; vertical-align: middle; margin-left: 0.5rem\">GPE</span>\n",
              "</mark>\n",
              "</div></span>"
            ]
          },
          "metadata": {}
        }
      ],
      "source": [
        "from spacy import displacy\n",
        "displacy.render(doc, style=\"ent\", jupyter=True)"
      ]
    },
    {
      "cell_type": "markdown",
      "source": [
        "## Loading the data and preparing it for the model"
      ],
      "metadata": {
        "id": "w8HyipEWDcND"
      }
    },
    {
      "cell_type": "markdown",
      "source": [
        "In the following we load the data and save it in a DataFrame. The whole data is in a json file but for now we take only the texts with the id."
      ],
      "metadata": {
        "id": "rh_pzPRpDw6s"
      }
    },
    {
      "cell_type": "code",
      "execution_count": null,
      "metadata": {
        "id": "_QIeRdwg21l6"
      },
      "outputs": [],
      "source": [
        "import json\n",
        "import pandas as pd\n",
        " \n",
        "with open('/content/negacio_uab_revised_version.json', 'r') as f:\n",
        "    json_data = json.load(f)"
      ]
    },
    {
      "cell_type": "code",
      "execution_count": null,
      "metadata": {
        "id": "MguXG94EVRF4"
      },
      "outputs": [],
      "source": [
        "data = []\n",
        "for i in range(len(json_data)):\n",
        "\n",
        "  id = json_data[i]['data']['id']\n",
        "  text = json_data[i]['data']['text']\n",
        "  dict_patient = {'id': id, 'text': text}\n",
        "  data.append(dict_patient)\n",
        "  "
      ]
    },
    {
      "cell_type": "code",
      "execution_count": null,
      "metadata": {
        "id": "PD_HU4ZfVu7O"
      },
      "outputs": [],
      "source": [
        "data = pd.DataFrame(data)"
      ]
    },
    {
      "cell_type": "code",
      "execution_count": null,
      "metadata": {
        "colab": {
          "base_uri": "https://localhost:8080/",
          "height": 206
        },
        "id": "nkQET5sAVy2z",
        "outputId": "9179806c-cdbc-4d6a-fa5c-6cdde076480a"
      },
      "outputs": [
        {
          "output_type": "execute_result",
          "data": {
            "text/plain": [
              "         id                                               text\n",
              "0  18796742   nº historia clinica: ** *** *** nºepisodi: **...\n",
              "1  18819888   nº historia clinica: ** *** *** nºepisodi: **...\n",
              "2  18861858   nº historia clinica: ** *** *** nºepisodi: **...\n",
              "3  18847417   nº historia clinica: ** *** *** nºepisodi: **...\n",
              "4  18868762   nº historia clinica: ** *** *** nºepisodi: **..."
            ],
            "text/html": [
              "\n",
              "  <div id=\"df-da42ab73-9cdb-4583-bdda-ad6466c068cb\">\n",
              "    <div class=\"colab-df-container\">\n",
              "      <div>\n",
              "<style scoped>\n",
              "    .dataframe tbody tr th:only-of-type {\n",
              "        vertical-align: middle;\n",
              "    }\n",
              "\n",
              "    .dataframe tbody tr th {\n",
              "        vertical-align: top;\n",
              "    }\n",
              "\n",
              "    .dataframe thead th {\n",
              "        text-align: right;\n",
              "    }\n",
              "</style>\n",
              "<table border=\"1\" class=\"dataframe\">\n",
              "  <thead>\n",
              "    <tr style=\"text-align: right;\">\n",
              "      <th></th>\n",
              "      <th>id</th>\n",
              "      <th>text</th>\n",
              "    </tr>\n",
              "  </thead>\n",
              "  <tbody>\n",
              "    <tr>\n",
              "      <th>0</th>\n",
              "      <td>18796742</td>\n",
              "      <td>nº historia clinica: ** *** *** nºepisodi: **...</td>\n",
              "    </tr>\n",
              "    <tr>\n",
              "      <th>1</th>\n",
              "      <td>18819888</td>\n",
              "      <td>nº historia clinica: ** *** *** nºepisodi: **...</td>\n",
              "    </tr>\n",
              "    <tr>\n",
              "      <th>2</th>\n",
              "      <td>18861858</td>\n",
              "      <td>nº historia clinica: ** *** *** nºepisodi: **...</td>\n",
              "    </tr>\n",
              "    <tr>\n",
              "      <th>3</th>\n",
              "      <td>18847417</td>\n",
              "      <td>nº historia clinica: ** *** *** nºepisodi: **...</td>\n",
              "    </tr>\n",
              "    <tr>\n",
              "      <th>4</th>\n",
              "      <td>18868762</td>\n",
              "      <td>nº historia clinica: ** *** *** nºepisodi: **...</td>\n",
              "    </tr>\n",
              "  </tbody>\n",
              "</table>\n",
              "</div>\n",
              "      <button class=\"colab-df-convert\" onclick=\"convertToInteractive('df-da42ab73-9cdb-4583-bdda-ad6466c068cb')\"\n",
              "              title=\"Convert this dataframe to an interactive table.\"\n",
              "              style=\"display:none;\">\n",
              "        \n",
              "  <svg xmlns=\"http://www.w3.org/2000/svg\" height=\"24px\"viewBox=\"0 0 24 24\"\n",
              "       width=\"24px\">\n",
              "    <path d=\"M0 0h24v24H0V0z\" fill=\"none\"/>\n",
              "    <path d=\"M18.56 5.44l.94 2.06.94-2.06 2.06-.94-2.06-.94-.94-2.06-.94 2.06-2.06.94zm-11 1L8.5 8.5l.94-2.06 2.06-.94-2.06-.94L8.5 2.5l-.94 2.06-2.06.94zm10 10l.94 2.06.94-2.06 2.06-.94-2.06-.94-.94-2.06-.94 2.06-2.06.94z\"/><path d=\"M17.41 7.96l-1.37-1.37c-.4-.4-.92-.59-1.43-.59-.52 0-1.04.2-1.43.59L10.3 9.45l-7.72 7.72c-.78.78-.78 2.05 0 2.83L4 21.41c.39.39.9.59 1.41.59.51 0 1.02-.2 1.41-.59l7.78-7.78 2.81-2.81c.8-.78.8-2.07 0-2.86zM5.41 20L4 18.59l7.72-7.72 1.47 1.35L5.41 20z\"/>\n",
              "  </svg>\n",
              "      </button>\n",
              "      \n",
              "  <style>\n",
              "    .colab-df-container {\n",
              "      display:flex;\n",
              "      flex-wrap:wrap;\n",
              "      gap: 12px;\n",
              "    }\n",
              "\n",
              "    .colab-df-convert {\n",
              "      background-color: #E8F0FE;\n",
              "      border: none;\n",
              "      border-radius: 50%;\n",
              "      cursor: pointer;\n",
              "      display: none;\n",
              "      fill: #1967D2;\n",
              "      height: 32px;\n",
              "      padding: 0 0 0 0;\n",
              "      width: 32px;\n",
              "    }\n",
              "\n",
              "    .colab-df-convert:hover {\n",
              "      background-color: #E2EBFA;\n",
              "      box-shadow: 0px 1px 2px rgba(60, 64, 67, 0.3), 0px 1px 3px 1px rgba(60, 64, 67, 0.15);\n",
              "      fill: #174EA6;\n",
              "    }\n",
              "\n",
              "    [theme=dark] .colab-df-convert {\n",
              "      background-color: #3B4455;\n",
              "      fill: #D2E3FC;\n",
              "    }\n",
              "\n",
              "    [theme=dark] .colab-df-convert:hover {\n",
              "      background-color: #434B5C;\n",
              "      box-shadow: 0px 1px 3px 1px rgba(0, 0, 0, 0.15);\n",
              "      filter: drop-shadow(0px 1px 2px rgba(0, 0, 0, 0.3));\n",
              "      fill: #FFFFFF;\n",
              "    }\n",
              "  </style>\n",
              "\n",
              "      <script>\n",
              "        const buttonEl =\n",
              "          document.querySelector('#df-da42ab73-9cdb-4583-bdda-ad6466c068cb button.colab-df-convert');\n",
              "        buttonEl.style.display =\n",
              "          google.colab.kernel.accessAllowed ? 'block' : 'none';\n",
              "\n",
              "        async function convertToInteractive(key) {\n",
              "          const element = document.querySelector('#df-da42ab73-9cdb-4583-bdda-ad6466c068cb');\n",
              "          const dataTable =\n",
              "            await google.colab.kernel.invokeFunction('convertToInteractive',\n",
              "                                                     [key], {});\n",
              "          if (!dataTable) return;\n",
              "\n",
              "          const docLinkHtml = 'Like what you see? Visit the ' +\n",
              "            '<a target=\"_blank\" href=https://colab.research.google.com/notebooks/data_table.ipynb>data table notebook</a>'\n",
              "            + ' to learn more about interactive tables.';\n",
              "          element.innerHTML = '';\n",
              "          dataTable['output_type'] = 'display_data';\n",
              "          await google.colab.output.renderOutput(dataTable, element);\n",
              "          const docLink = document.createElement('div');\n",
              "          docLink.innerHTML = docLinkHtml;\n",
              "          element.appendChild(docLink);\n",
              "        }\n",
              "      </script>\n",
              "    </div>\n",
              "  </div>\n",
              "  "
            ]
          },
          "metadata": {},
          "execution_count": 8
        }
      ],
      "source": [
        "data.head()"
      ]
    },
    {
      "cell_type": "markdown",
      "source": [
        "For now we have the texts and the id's. We tried the NER model we just mentioned before with this text to see what happend and you will see that it doesn't work because the language does not match and it doesn't know anything about the negation and uncertainty problem."
      ],
      "metadata": {
        "id": "SWWs9BPzEIWA"
      }
    },
    {
      "cell_type": "code",
      "execution_count": null,
      "metadata": {
        "colab": {
          "base_uri": "https://localhost:8080/"
        },
        "id": "4xXfutlkXXJX",
        "outputId": "0ef96802-d34d-47ac-c0fd-391d5723f7a7"
      },
      "outputs": [
        {
          "output_type": "execute_result",
          "data": {
            "text/plain": [
              "(dona data de naixement,\n",
              " 06.06.1938,\n",
              " 79,\n",
              " procedencia domicil/res.soc servei psiquiatria data d'ingres 10.05.2018,\n",
              " d'hospitalitzacio motiu d'ingres paciente,\n",
              " 79,\n",
              " años que,\n",
              " acude derivada,\n",
              " tratamiento farmaoclogico,\n",
              " tratamiento farmacologico,\n",
              " tratamiento con venlafaxina y sertralina,\n",
              " primera vinculacion con red de salud mental,\n",
              " el 2013,\n",
              " raiz de la muerte desu marido,\n",
              " con sentimientos de tristeza,\n",
              " soledad,\n",
              " a su marido y su muerte e importanteclinica ansiosa,\n",
              " se vincula,\n",
              " a csma sant andreu donde inician tratamiento,\n",
              " farmacologico con,\n",
              " paroxetina sinseguimiento,\n",
              " del alta de csma de zona de febrero 2016,\n",
              " de alta debido,\n",
              " mejoria,\n",
              " del t. depresivo,\n",
              " tratamiento al alta de sertralina,\n",
              " deriva,\n",
              " seguimiento,\n",
              " -acudio,\n",
              " abril de 2018,\n",
              " medicamentosa,\n",
              " venlafaxina,\n",
              " lorazepam, valsrtan/hidroclorotiazida,\n",
              " flumazenilo,\n",
              " ssf,\n",
              " viuda,\n",
              " sin hijos,\n",
              " tiene un hermano con el que tiene contacto,\n",
              " barcelona,\n",
              " vive,\n",
              " apartamentos,\n",
              " mutuam collserola,\n",
              " deterioro cognitivo leve-moderado,\n",
              " medicacio,\n",
              " 75 mg,\n",
              " cada,\n",
              " 24,\n",
              " horas,\n",
              " 5 mg,\n",
              " cada,\n",
              " 24,\n",
              " horas,\n",
              " atorvastatina,\n",
              " 40 mg,\n",
              " cada,\n",
              " 24,\n",
              " horas,\n",
              " 100 mg,\n",
              " cada,\n",
              " 24,\n",
              " horas,\n",
              " 20 mg,\n",
              " cada,\n",
              " 24,\n",
              " horas,\n",
              " 1 mg,\n",
              " cada,\n",
              " 24,\n",
              " horas,\n",
              " sertralina 100 mg,\n",
              " cada,\n",
              " 24,\n",
              " horas,\n",
              " valsartan,\n",
              " cada,\n",
              " 24,\n",
              " horas.,\n",
              " haber sido,\n",
              " estabilizada,\n",
              " generales,\n",
              " la paciente,\n",
              " dicha,\n",
              " suicida clara,\n",
              " tras ser descubierta,\n",
              " centro,\n",
              " solicitan derivacion,\n",
              " para valoracion,\n",
              " exploracio fisica,\n",
              " su llegada,\n",
              " consciente,\n",
              " tres esferas,\n",
              " constacto sintonico,\n",
              " aspecto conservado,\n",
              " mnesicos aunque globalmente orientada,\n",
              " tres esferas.,\n",
              " discurso epsontaneo,\n",
              " y fluido,\n",
              " normoprosodico,\n",
              " sin alteraciones en,\n",
              " del pensamiento,\n",
              " resonante,\n",
              " ligera hipotimia referida,\n",
              " alteraciones endogenomorfas en,\n",
              " el esatdo de animo,\n",
              " ideacion,\n",
              " suicida estructurada,\n",
              " el momento,\n",
              " correcta proyeccion,\n",
              " critica adecuada,\n",
              " alteraciones en la,\n",
              " esfera psicotica,\n",
              " normosomnia,\n",
              " normorexia,\n",
              " juicio de la,\n",
              " preservado,\n",
              " correcto,\n",
              " 1/2,\n",
              " lopd,\n",
              " la paciente se,\n",
              " muestra,\n",
              " correcta y normativa,\n",
              " todo momento,\n",
              " un,\n",
              " impresiona deterioro cognitivo progresivo,\n",
              " lugar de los apartamentos donde residia hasta el momento,\n",
              " dado que la,\n",
              " asi mismo vigilar,\n",
              " el acceso,\n",
              " siendo administrada unicamente por el,\n",
              " de la residencia,\n",
              " muestran de acuerdo con el,\n",
              " control derivacion,\n",
              " mutuam corserolla,\n",
              " destinacio,\n",
              " 2/2)"
            ]
          },
          "metadata": {},
          "execution_count": 14
        }
      ],
      "source": [
        "# entities recognized by the model:\n",
        "doc = nlp(data['text'][0])\n",
        "doc.ents"
      ]
    },
    {
      "cell_type": "code",
      "execution_count": null,
      "metadata": {
        "colab": {
          "base_uri": "https://localhost:8080/",
          "height": 1000
        },
        "id": "UQzY_jn9XwwK",
        "outputId": "8853396c-83c6-404f-8e3e-a26e460d177a"
      },
      "outputs": [
        {
          "output_type": "display_data",
          "data": {
            "text/plain": [
              "<IPython.core.display.HTML object>"
            ],
            "text/html": [
              "<span class=\"tex2jax_ignore\"><div class=\"entities\" style=\"line-height: 2.5; direction: ltr\"> nº historia clinica: ** *** *** nºepisodi: ******** sexe: \n",
              "<mark class=\"entity\" style=\"background: #7aecec; padding: 0.45em 0.6em; margin: 0 0.25em; line-height: 1; border-radius: 0.35em;\">\n",
              "    dona data de naixement\n",
              "    <span style=\"font-size: 0.8em; font-weight: bold; line-height: 1; border-radius: 0.35em; vertical-align: middle; margin-left: 0.5rem\">ORG</span>\n",
              "</mark>\n",
              ": \n",
              "<mark class=\"entity\" style=\"background: #bfe1d9; padding: 0.45em 0.6em; margin: 0 0.25em; line-height: 1; border-radius: 0.35em;\">\n",
              "    06.06.1938\n",
              "    <span style=\"font-size: 0.8em; font-weight: bold; line-height: 1; border-radius: 0.35em; vertical-align: middle; margin-left: 0.5rem\">DATE</span>\n",
              "</mark>\n",
              " edat: \n",
              "<mark class=\"entity\" style=\"background: #e4e7d2; padding: 0.45em 0.6em; margin: 0 0.25em; line-height: 1; border-radius: 0.35em;\">\n",
              "    79\n",
              "    <span style=\"font-size: 0.8em; font-weight: bold; line-height: 1; border-radius: 0.35em; vertical-align: middle; margin-left: 0.5rem\">CARDINAL</span>\n",
              "</mark>\n",
              " anys \n",
              "<mark class=\"entity\" style=\"background: #7aecec; padding: 0.45em 0.6em; margin: 0 0.25em; line-height: 1; border-radius: 0.35em;\">\n",
              "    procedencia domicil/res.soc servei psiquiatria data d'ingres 10.05.2018\n",
              "    <span style=\"font-size: 0.8em; font-weight: bold; line-height: 1; border-radius: 0.35em; vertical-align: middle; margin-left: 0.5rem\">ORG</span>\n",
              "</mark>\n",
              " data d'alta 10.05.2018 16:46:41 ates per ****************, ************; *************, assumpta informe d'alta \n",
              "<mark class=\"entity\" style=\"background: #aa9cfc; padding: 0.45em 0.6em; margin: 0 0.25em; line-height: 1; border-radius: 0.35em;\">\n",
              "    d'hospitalitzacio motiu d'ingres paciente\n",
              "    <span style=\"font-size: 0.8em; font-weight: bold; line-height: 1; border-radius: 0.35em; vertical-align: middle; margin-left: 0.5rem\">PERSON</span>\n",
              "</mark>\n",
              " de \n",
              "<mark class=\"entity\" style=\"background: #e4e7d2; padding: 0.45em 0.6em; margin: 0 0.25em; line-height: 1; border-radius: 0.35em;\">\n",
              "    79\n",
              "    <span style=\"font-size: 0.8em; font-weight: bold; line-height: 1; border-radius: 0.35em; vertical-align: middle; margin-left: 0.5rem\">CARDINAL</span>\n",
              "</mark>\n",
              " \n",
              "<mark class=\"entity\" style=\"background: #7aecec; padding: 0.45em 0.6em; margin: 0 0.25em; line-height: 1; border-radius: 0.35em;\">\n",
              "    años que\n",
              "    <span style=\"font-size: 0.8em; font-weight: bold; line-height: 1; border-radius: 0.35em; vertical-align: middle; margin-left: 0.5rem\">ORG</span>\n",
              "</mark>\n",
              " \n",
              "<mark class=\"entity\" style=\"background: #aa9cfc; padding: 0.45em 0.6em; margin: 0 0.25em; line-height: 1; border-radius: 0.35em;\">\n",
              "    acude derivada\n",
              "    <span style=\"font-size: 0.8em; font-weight: bold; line-height: 1; border-radius: 0.35em; vertical-align: middle; margin-left: 0.5rem\">PERSON</span>\n",
              "</mark>\n",
              " a urgencias de psiquiatria tras sim. antecedents -sin alergias mediamentosas conocidas - hipertension arterial en \n",
              "<mark class=\"entity\" style=\"background: #feca74; padding: 0.45em 0.6em; margin: 0 0.25em; line-height: 1; border-radius: 0.35em;\">\n",
              "    tratamiento farmaoclogico\n",
              "    <span style=\"font-size: 0.8em; font-weight: bold; line-height: 1; border-radius: 0.35em; vertical-align: middle; margin-left: 0.5rem\">GPE</span>\n",
              "</mark>\n",
              " con tres farmacos. - dislipemia en \n",
              "<mark class=\"entity\" style=\"background: #aa9cfc; padding: 0.45em 0.6em; margin: 0 0.25em; line-height: 1; border-radius: 0.35em;\">\n",
              "    tratamiento farmacologico\n",
              "    <span style=\"font-size: 0.8em; font-weight: bold; line-height: 1; border-radius: 0.35em; vertical-align: middle; margin-left: 0.5rem\">PERSON</span>\n",
              "</mark>\n",
              ". - sindrome ansioso depresivo de larga evolucion actualmente en \n",
              "<mark class=\"entity\" style=\"background: #7aecec; padding: 0.45em 0.6em; margin: 0 0.25em; line-height: 1; border-radius: 0.35em;\">\n",
              "    tratamiento con venlafaxina y sertralina\n",
              "    <span style=\"font-size: 0.8em; font-weight: bold; line-height: 1; border-radius: 0.35em; vertical-align: middle; margin-left: 0.5rem\">ORG</span>\n",
              "</mark>\n",
              ". refiere \n",
              "<mark class=\"entity\" style=\"background: #ff8197; padding: 0.45em 0.6em; margin: 0 0.25em; line-height: 1; border-radius: 0.35em;\">\n",
              "    primera vinculacion con red de salud mental\n",
              "    <span style=\"font-size: 0.8em; font-weight: bold; line-height: 1; border-radius: 0.35em; vertical-align: middle; margin-left: 0.5rem\">LAW</span>\n",
              "</mark>\n",
              " en \n",
              "<mark class=\"entity\" style=\"background: #bfe1d9; padding: 0.45em 0.6em; margin: 0 0.25em; line-height: 1; border-radius: 0.35em;\">\n",
              "    el 2013\n",
              "    <span style=\"font-size: 0.8em; font-weight: bold; line-height: 1; border-radius: 0.35em; vertical-align: middle; margin-left: 0.5rem\">DATE</span>\n",
              "</mark>\n",
              " a \n",
              "<mark class=\"entity\" style=\"background: #7aecec; padding: 0.45em 0.6em; margin: 0 0.25em; line-height: 1; border-radius: 0.35em;\">\n",
              "    raiz de la muerte desu marido\n",
              "    <span style=\"font-size: 0.8em; font-weight: bold; line-height: 1; border-radius: 0.35em; vertical-align: middle; margin-left: 0.5rem\">ORG</span>\n",
              "</mark>\n",
              ", \n",
              "<mark class=\"entity\" style=\"background: #aa9cfc; padding: 0.45em 0.6em; margin: 0 0.25em; line-height: 1; border-radius: 0.35em;\">\n",
              "    con sentimientos de tristeza\n",
              "    <span style=\"font-size: 0.8em; font-weight: bold; line-height: 1; border-radius: 0.35em; vertical-align: middle; margin-left: 0.5rem\">PERSON</span>\n",
              "</mark>\n",
              ", \n",
              "<mark class=\"entity\" style=\"background: #aa9cfc; padding: 0.45em 0.6em; margin: 0 0.25em; line-height: 1; border-radius: 0.35em;\">\n",
              "    soledad\n",
              "    <span style=\"font-size: 0.8em; font-weight: bold; line-height: 1; border-radius: 0.35em; vertical-align: middle; margin-left: 0.5rem\">PERSON</span>\n",
              "</mark>\n",
              ", rumiaciones respecto \n",
              "<mark class=\"entity\" style=\"background: #aa9cfc; padding: 0.45em 0.6em; margin: 0 0.25em; line-height: 1; border-radius: 0.35em;\">\n",
              "    a su marido y su muerte e importanteclinica ansiosa\n",
              "    <span style=\"font-size: 0.8em; font-weight: bold; line-height: 1; border-radius: 0.35em; vertical-align: middle; margin-left: 0.5rem\">PERSON</span>\n",
              "</mark>\n",
              ". \n",
              "<mark class=\"entity\" style=\"background: #aa9cfc; padding: 0.45em 0.6em; margin: 0 0.25em; line-height: 1; border-radius: 0.35em;\">\n",
              "    se vincula\n",
              "    <span style=\"font-size: 0.8em; font-weight: bold; line-height: 1; border-radius: 0.35em; vertical-align: middle; margin-left: 0.5rem\">PERSON</span>\n",
              "</mark>\n",
              " \n",
              "<mark class=\"entity\" style=\"background: #aa9cfc; padding: 0.45em 0.6em; margin: 0 0.25em; line-height: 1; border-radius: 0.35em;\">\n",
              "    a csma sant andreu donde inician tratamiento\n",
              "    <span style=\"font-size: 0.8em; font-weight: bold; line-height: 1; border-radius: 0.35em; vertical-align: middle; margin-left: 0.5rem\">PERSON</span>\n",
              "</mark>\n",
              " \n",
              "<mark class=\"entity\" style=\"background: #7aecec; padding: 0.45em 0.6em; margin: 0 0.25em; line-height: 1; border-radius: 0.35em;\">\n",
              "    farmacologico con\n",
              "    <span style=\"font-size: 0.8em; font-weight: bold; line-height: 1; border-radius: 0.35em; vertical-align: middle; margin-left: 0.5rem\">ORG</span>\n",
              "</mark>\n",
              " \n",
              "<mark class=\"entity\" style=\"background: #aa9cfc; padding: 0.45em 0.6em; margin: 0 0.25em; line-height: 1; border-radius: 0.35em;\">\n",
              "    paroxetina sinseguimiento\n",
              "    <span style=\"font-size: 0.8em; font-weight: bold; line-height: 1; border-radius: 0.35em; vertical-align: middle; margin-left: 0.5rem\">PERSON</span>\n",
              "</mark>\n",
              " posterior. consta informe \n",
              "<mark class=\"entity\" style=\"background: #7aecec; padding: 0.45em 0.6em; margin: 0 0.25em; line-height: 1; border-radius: 0.35em;\">\n",
              "    del alta de csma de zona de febrero 2016\n",
              "    <span style=\"font-size: 0.8em; font-weight: bold; line-height: 1; border-radius: 0.35em; vertical-align: middle; margin-left: 0.5rem\">ORG</span>\n",
              "</mark>\n",
              " dandose \n",
              "<mark class=\"entity\" style=\"background: #7aecec; padding: 0.45em 0.6em; margin: 0 0.25em; line-height: 1; border-radius: 0.35em;\">\n",
              "    de alta debido\n",
              "    <span style=\"font-size: 0.8em; font-weight: bold; line-height: 1; border-radius: 0.35em; vertical-align: middle; margin-left: 0.5rem\">ORG</span>\n",
              "</mark>\n",
              " a \n",
              "<mark class=\"entity\" style=\"background: #feca74; padding: 0.45em 0.6em; margin: 0 0.25em; line-height: 1; border-radius: 0.35em;\">\n",
              "    mejoria\n",
              "    <span style=\"font-size: 0.8em; font-weight: bold; line-height: 1; border-radius: 0.35em; vertical-align: middle; margin-left: 0.5rem\">GPE</span>\n",
              "</mark>\n",
              " completa \n",
              "<mark class=\"entity\" style=\"background: #feca74; padding: 0.45em 0.6em; margin: 0 0.25em; line-height: 1; border-radius: 0.35em;\">\n",
              "    del t. depresivo\n",
              "    <span style=\"font-size: 0.8em; font-weight: bold; line-height: 1; border-radius: 0.35em; vertical-align: middle; margin-left: 0.5rem\">GPE</span>\n",
              "</mark>\n",
              " mayor con \n",
              "<mark class=\"entity\" style=\"background: #aa9cfc; padding: 0.45em 0.6em; margin: 0 0.25em; line-height: 1; border-radius: 0.35em;\">\n",
              "    tratamiento al alta de sertralina\n",
              "    <span style=\"font-size: 0.8em; font-weight: bold; line-height: 1; border-radius: 0.35em; vertical-align: middle; margin-left: 0.5rem\">PERSON</span>\n",
              "</mark>\n",
              " 100 mg 1-0-0, y se \n",
              "<mark class=\"entity\" style=\"background: #7aecec; padding: 0.45em 0.6em; margin: 0 0.25em; line-height: 1; border-radius: 0.35em;\">\n",
              "    deriva\n",
              "    <span style=\"font-size: 0.8em; font-weight: bold; line-height: 1; border-radius: 0.35em; vertical-align: middle; margin-left: 0.5rem\">ORG</span>\n",
              "</mark>\n",
              " a \n",
              "<mark class=\"entity\" style=\"background: #feca74; padding: 0.45em 0.6em; margin: 0 0.25em; line-height: 1; border-radius: 0.35em;\">\n",
              "    seguimiento\n",
              "    <span style=\"font-size: 0.8em; font-weight: bold; line-height: 1; border-radius: 0.35em; vertical-align: middle; margin-left: 0.5rem\">GPE</span>\n",
              "</mark>\n",
              " por mcap. \n",
              "<mark class=\"entity\" style=\"background: #aa9cfc; padding: 0.45em 0.6em; margin: 0 0.25em; line-height: 1; border-radius: 0.35em;\">\n",
              "    -acudio\n",
              "    <span style=\"font-size: 0.8em; font-weight: bold; line-height: 1; border-radius: 0.35em; vertical-align: middle; margin-left: 0.5rem\">PERSON</span>\n",
              "</mark>\n",
              " en \n",
              "<mark class=\"entity\" style=\"background: #7aecec; padding: 0.45em 0.6em; margin: 0 0.25em; line-height: 1; border-radius: 0.35em;\">\n",
              "    abril de 2018\n",
              "    <span style=\"font-size: 0.8em; font-weight: bold; line-height: 1; border-radius: 0.35em; vertical-align: middle; margin-left: 0.5rem\">ORG</span>\n",
              "</mark>\n",
              " por sobreingesta \n",
              "<mark class=\"entity\" style=\"background: #aa9cfc; padding: 0.45em 0.6em; margin: 0 0.25em; line-height: 1; border-radius: 0.35em;\">\n",
              "    medicamentosa\n",
              "    <span style=\"font-size: 0.8em; font-weight: bold; line-height: 1; border-radius: 0.35em; vertical-align: middle; margin-left: 0.5rem\">PERSON</span>\n",
              "</mark>\n",
              " on \n",
              "<mark class=\"entity\" style=\"background: #aa9cfc; padding: 0.45em 0.6em; margin: 0 0.25em; line-height: 1; border-radius: 0.35em;\">\n",
              "    venlafaxina\n",
              "    <span style=\"font-size: 0.8em; font-weight: bold; line-height: 1; border-radius: 0.35em; vertical-align: middle; margin-left: 0.5rem\">PERSON</span>\n",
              "</mark>\n",
              ", \n",
              "<mark class=\"entity\" style=\"background: #7aecec; padding: 0.45em 0.6em; margin: 0 0.25em; line-height: 1; border-radius: 0.35em;\">\n",
              "    lorazepam, valsrtan/hidroclorotiazida\n",
              "    <span style=\"font-size: 0.8em; font-weight: bold; line-height: 1; border-radius: 0.35em; vertical-align: middle; margin-left: 0.5rem\">ORG</span>\n",
              "</mark>\n",
              " respondiendo a \n",
              "<mark class=\"entity\" style=\"background: #feca74; padding: 0.45em 0.6em; margin: 0 0.25em; line-height: 1; border-radius: 0.35em;\">\n",
              "    flumazenilo\n",
              "    <span style=\"font-size: 0.8em; font-weight: bold; line-height: 1; border-radius: 0.35em; vertical-align: middle; margin-left: 0.5rem\">GPE</span>\n",
              "</mark>\n",
              ". \n",
              "<mark class=\"entity\" style=\"background: #7aecec; padding: 0.45em 0.6em; margin: 0 0.25em; line-height: 1; border-radius: 0.35em;\">\n",
              "    ssf\n",
              "    <span style=\"font-size: 0.8em; font-weight: bold; line-height: 1; border-radius: 0.35em; vertical-align: middle; margin-left: 0.5rem\">ORG</span>\n",
              "</mark>\n",
              ": \n",
              "<mark class=\"entity\" style=\"background: #7aecec; padding: 0.45em 0.6em; margin: 0 0.25em; line-height: 1; border-radius: 0.35em;\">\n",
              "    viuda\n",
              "    <span style=\"font-size: 0.8em; font-weight: bold; line-height: 1; border-radius: 0.35em; vertical-align: middle; margin-left: 0.5rem\">ORG</span>\n",
              "</mark>\n",
              ", \n",
              "<mark class=\"entity\" style=\"background: #aa9cfc; padding: 0.45em 0.6em; margin: 0 0.25em; line-height: 1; border-radius: 0.35em;\">\n",
              "    sin hijos\n",
              "    <span style=\"font-size: 0.8em; font-weight: bold; line-height: 1; border-radius: 0.35em; vertical-align: middle; margin-left: 0.5rem\">PERSON</span>\n",
              "</mark>\n",
              ". \n",
              "<mark class=\"entity\" style=\"background: #aa9cfc; padding: 0.45em 0.6em; margin: 0 0.25em; line-height: 1; border-radius: 0.35em;\">\n",
              "    tiene un hermano con el que tiene contacto\n",
              "    <span style=\"font-size: 0.8em; font-weight: bold; line-height: 1; border-radius: 0.35em; vertical-align: middle; margin-left: 0.5rem\">PERSON</span>\n",
              "</mark>\n",
              " en \n",
              "<mark class=\"entity\" style=\"background: #feca74; padding: 0.45em 0.6em; margin: 0 0.25em; line-height: 1; border-radius: 0.35em;\">\n",
              "    barcelona\n",
              "    <span style=\"font-size: 0.8em; font-weight: bold; line-height: 1; border-radius: 0.35em; vertical-align: middle; margin-left: 0.5rem\">GPE</span>\n",
              "</mark>\n",
              ". \n",
              "<mark class=\"entity\" style=\"background: #7aecec; padding: 0.45em 0.6em; margin: 0 0.25em; line-height: 1; border-radius: 0.35em;\">\n",
              "    vive\n",
              "    <span style=\"font-size: 0.8em; font-weight: bold; line-height: 1; border-radius: 0.35em; vertical-align: middle; margin-left: 0.5rem\">ORG</span>\n",
              "</mark>\n",
              " en \n",
              "<mark class=\"entity\" style=\"background: #c887fb; padding: 0.45em 0.6em; margin: 0 0.25em; line-height: 1; border-radius: 0.35em;\">\n",
              "    apartamentos\n",
              "    <span style=\"font-size: 0.8em; font-weight: bold; line-height: 1; border-radius: 0.35em; vertical-align: middle; margin-left: 0.5rem\">NORP</span>\n",
              "</mark>\n",
              " tutelados \n",
              "<mark class=\"entity\" style=\"background: #aa9cfc; padding: 0.45em 0.6em; margin: 0 0.25em; line-height: 1; border-radius: 0.35em;\">\n",
              "    mutuam collserola\n",
              "    <span style=\"font-size: 0.8em; font-weight: bold; line-height: 1; border-radius: 0.35em; vertical-align: middle; margin-left: 0.5rem\">PERSON</span>\n",
              "</mark>\n",
              ". \n",
              "<mark class=\"entity\" style=\"background: #aa9cfc; padding: 0.45em 0.6em; margin: 0 0.25em; line-height: 1; border-radius: 0.35em;\">\n",
              "    deterioro cognitivo leve-moderado\n",
              "    <span style=\"font-size: 0.8em; font-weight: bold; line-height: 1; border-radius: 0.35em; vertical-align: middle; margin-left: 0.5rem\">PERSON</span>\n",
              "</mark>\n",
              ". \n",
              "<mark class=\"entity\" style=\"background: #aa9cfc; padding: 0.45em 0.6em; margin: 0 0.25em; line-height: 1; border-radius: 0.35em;\">\n",
              "    medicacio\n",
              "    <span style=\"font-size: 0.8em; font-weight: bold; line-height: 1; border-radius: 0.35em; vertical-align: middle; margin-left: 0.5rem\">PERSON</span>\n",
              "</mark>\n",
              " habitual venlafaxina \n",
              "<mark class=\"entity\" style=\"background: #e4e7d2; padding: 0.45em 0.6em; margin: 0 0.25em; line-height: 1; border-radius: 0.35em;\">\n",
              "    75 mg\n",
              "    <span style=\"font-size: 0.8em; font-weight: bold; line-height: 1; border-radius: 0.35em; vertical-align: middle; margin-left: 0.5rem\">QUANTITY</span>\n",
              "</mark>\n",
              " \n",
              "<mark class=\"entity\" style=\"background: #7aecec; padding: 0.45em 0.6em; margin: 0 0.25em; line-height: 1; border-radius: 0.35em;\">\n",
              "    cada\n",
              "    <span style=\"font-size: 0.8em; font-weight: bold; line-height: 1; border-radius: 0.35em; vertical-align: middle; margin-left: 0.5rem\">ORG</span>\n",
              "</mark>\n",
              " \n",
              "<mark class=\"entity\" style=\"background: #e4e7d2; padding: 0.45em 0.6em; margin: 0 0.25em; line-height: 1; border-radius: 0.35em;\">\n",
              "    24\n",
              "    <span style=\"font-size: 0.8em; font-weight: bold; line-height: 1; border-radius: 0.35em; vertical-align: middle; margin-left: 0.5rem\">CARDINAL</span>\n",
              "</mark>\n",
              " \n",
              "<mark class=\"entity\" style=\"background: #feca74; padding: 0.45em 0.6em; margin: 0 0.25em; line-height: 1; border-radius: 0.35em;\">\n",
              "    horas\n",
              "    <span style=\"font-size: 0.8em; font-weight: bold; line-height: 1; border-radius: 0.35em; vertical-align: middle; margin-left: 0.5rem\">GPE</span>\n",
              "</mark>\n",
              ", amlodipino \n",
              "<mark class=\"entity\" style=\"background: #e4e7d2; padding: 0.45em 0.6em; margin: 0 0.25em; line-height: 1; border-radius: 0.35em;\">\n",
              "    5 mg\n",
              "    <span style=\"font-size: 0.8em; font-weight: bold; line-height: 1; border-radius: 0.35em; vertical-align: middle; margin-left: 0.5rem\">QUANTITY</span>\n",
              "</mark>\n",
              " \n",
              "<mark class=\"entity\" style=\"background: #7aecec; padding: 0.45em 0.6em; margin: 0 0.25em; line-height: 1; border-radius: 0.35em;\">\n",
              "    cada\n",
              "    <span style=\"font-size: 0.8em; font-weight: bold; line-height: 1; border-radius: 0.35em; vertical-align: middle; margin-left: 0.5rem\">ORG</span>\n",
              "</mark>\n",
              " \n",
              "<mark class=\"entity\" style=\"background: #e4e7d2; padding: 0.45em 0.6em; margin: 0 0.25em; line-height: 1; border-radius: 0.35em;\">\n",
              "    24\n",
              "    <span style=\"font-size: 0.8em; font-weight: bold; line-height: 1; border-radius: 0.35em; vertical-align: middle; margin-left: 0.5rem\">CARDINAL</span>\n",
              "</mark>\n",
              " \n",
              "<mark class=\"entity\" style=\"background: #7aecec; padding: 0.45em 0.6em; margin: 0 0.25em; line-height: 1; border-radius: 0.35em;\">\n",
              "    horas\n",
              "    <span style=\"font-size: 0.8em; font-weight: bold; line-height: 1; border-radius: 0.35em; vertical-align: middle; margin-left: 0.5rem\">ORG</span>\n",
              "</mark>\n",
              ", \n",
              "<mark class=\"entity\" style=\"background: #7aecec; padding: 0.45em 0.6em; margin: 0 0.25em; line-height: 1; border-radius: 0.35em;\">\n",
              "    atorvastatina\n",
              "    <span style=\"font-size: 0.8em; font-weight: bold; line-height: 1; border-radius: 0.35em; vertical-align: middle; margin-left: 0.5rem\">ORG</span>\n",
              "</mark>\n",
              " \n",
              "<mark class=\"entity\" style=\"background: #e4e7d2; padding: 0.45em 0.6em; margin: 0 0.25em; line-height: 1; border-radius: 0.35em;\">\n",
              "    40 mg\n",
              "    <span style=\"font-size: 0.8em; font-weight: bold; line-height: 1; border-radius: 0.35em; vertical-align: middle; margin-left: 0.5rem\">QUANTITY</span>\n",
              "</mark>\n",
              " \n",
              "<mark class=\"entity\" style=\"background: #7aecec; padding: 0.45em 0.6em; margin: 0 0.25em; line-height: 1; border-radius: 0.35em;\">\n",
              "    cada\n",
              "    <span style=\"font-size: 0.8em; font-weight: bold; line-height: 1; border-radius: 0.35em; vertical-align: middle; margin-left: 0.5rem\">ORG</span>\n",
              "</mark>\n",
              " \n",
              "<mark class=\"entity\" style=\"background: #e4e7d2; padding: 0.45em 0.6em; margin: 0 0.25em; line-height: 1; border-radius: 0.35em;\">\n",
              "    24\n",
              "    <span style=\"font-size: 0.8em; font-weight: bold; line-height: 1; border-radius: 0.35em; vertical-align: middle; margin-left: 0.5rem\">CARDINAL</span>\n",
              "</mark>\n",
              " \n",
              "<mark class=\"entity\" style=\"background: #7aecec; padding: 0.45em 0.6em; margin: 0 0.25em; line-height: 1; border-radius: 0.35em;\">\n",
              "    horas\n",
              "    <span style=\"font-size: 0.8em; font-weight: bold; line-height: 1; border-radius: 0.35em; vertical-align: middle; margin-left: 0.5rem\">ORG</span>\n",
              "</mark>\n",
              ", deprax \n",
              "<mark class=\"entity\" style=\"background: #e4e7d2; padding: 0.45em 0.6em; margin: 0 0.25em; line-height: 1; border-radius: 0.35em;\">\n",
              "    100 mg\n",
              "    <span style=\"font-size: 0.8em; font-weight: bold; line-height: 1; border-radius: 0.35em; vertical-align: middle; margin-left: 0.5rem\">QUANTITY</span>\n",
              "</mark>\n",
              " \n",
              "<mark class=\"entity\" style=\"background: #7aecec; padding: 0.45em 0.6em; margin: 0 0.25em; line-height: 1; border-radius: 0.35em;\">\n",
              "    cada\n",
              "    <span style=\"font-size: 0.8em; font-weight: bold; line-height: 1; border-radius: 0.35em; vertical-align: middle; margin-left: 0.5rem\">ORG</span>\n",
              "</mark>\n",
              " \n",
              "<mark class=\"entity\" style=\"background: #e4e7d2; padding: 0.45em 0.6em; margin: 0 0.25em; line-height: 1; border-radius: 0.35em;\">\n",
              "    24\n",
              "    <span style=\"font-size: 0.8em; font-weight: bold; line-height: 1; border-radius: 0.35em; vertical-align: middle; margin-left: 0.5rem\">CARDINAL</span>\n",
              "</mark>\n",
              " \n",
              "<mark class=\"entity\" style=\"background: #feca74; padding: 0.45em 0.6em; margin: 0 0.25em; line-height: 1; border-radius: 0.35em;\">\n",
              "    horas\n",
              "    <span style=\"font-size: 0.8em; font-weight: bold; line-height: 1; border-radius: 0.35em; vertical-align: middle; margin-left: 0.5rem\">GPE</span>\n",
              "</mark>\n",
              ", omeprazol \n",
              "<mark class=\"entity\" style=\"background: #e4e7d2; padding: 0.45em 0.6em; margin: 0 0.25em; line-height: 1; border-radius: 0.35em;\">\n",
              "    20 mg\n",
              "    <span style=\"font-size: 0.8em; font-weight: bold; line-height: 1; border-radius: 0.35em; vertical-align: middle; margin-left: 0.5rem\">QUANTITY</span>\n",
              "</mark>\n",
              " \n",
              "<mark class=\"entity\" style=\"background: #7aecec; padding: 0.45em 0.6em; margin: 0 0.25em; line-height: 1; border-radius: 0.35em;\">\n",
              "    cada\n",
              "    <span style=\"font-size: 0.8em; font-weight: bold; line-height: 1; border-radius: 0.35em; vertical-align: middle; margin-left: 0.5rem\">ORG</span>\n",
              "</mark>\n",
              " \n",
              "<mark class=\"entity\" style=\"background: #e4e7d2; padding: 0.45em 0.6em; margin: 0 0.25em; line-height: 1; border-radius: 0.35em;\">\n",
              "    24\n",
              "    <span style=\"font-size: 0.8em; font-weight: bold; line-height: 1; border-radius: 0.35em; vertical-align: middle; margin-left: 0.5rem\">CARDINAL</span>\n",
              "</mark>\n",
              " \n",
              "<mark class=\"entity\" style=\"background: #feca74; padding: 0.45em 0.6em; margin: 0 0.25em; line-height: 1; border-radius: 0.35em;\">\n",
              "    horas\n",
              "    <span style=\"font-size: 0.8em; font-weight: bold; line-height: 1; border-radius: 0.35em; vertical-align: middle; margin-left: 0.5rem\">GPE</span>\n",
              "</mark>\n",
              ", orfidal \n",
              "<mark class=\"entity\" style=\"background: #e4e7d2; padding: 0.45em 0.6em; margin: 0 0.25em; line-height: 1; border-radius: 0.35em;\">\n",
              "    1 mg\n",
              "    <span style=\"font-size: 0.8em; font-weight: bold; line-height: 1; border-radius: 0.35em; vertical-align: middle; margin-left: 0.5rem\">QUANTITY</span>\n",
              "</mark>\n",
              " \n",
              "<mark class=\"entity\" style=\"background: #7aecec; padding: 0.45em 0.6em; margin: 0 0.25em; line-height: 1; border-radius: 0.35em;\">\n",
              "    cada\n",
              "    <span style=\"font-size: 0.8em; font-weight: bold; line-height: 1; border-radius: 0.35em; vertical-align: middle; margin-left: 0.5rem\">ORG</span>\n",
              "</mark>\n",
              " \n",
              "<mark class=\"entity\" style=\"background: #e4e7d2; padding: 0.45em 0.6em; margin: 0 0.25em; line-height: 1; border-radius: 0.35em;\">\n",
              "    24\n",
              "    <span style=\"font-size: 0.8em; font-weight: bold; line-height: 1; border-radius: 0.35em; vertical-align: middle; margin-left: 0.5rem\">CARDINAL</span>\n",
              "</mark>\n",
              " \n",
              "<mark class=\"entity\" style=\"background: #7aecec; padding: 0.45em 0.6em; margin: 0 0.25em; line-height: 1; border-radius: 0.35em;\">\n",
              "    horas\n",
              "    <span style=\"font-size: 0.8em; font-weight: bold; line-height: 1; border-radius: 0.35em; vertical-align: middle; margin-left: 0.5rem\">ORG</span>\n",
              "</mark>\n",
              ", \n",
              "<mark class=\"entity\" style=\"background: #7aecec; padding: 0.45em 0.6em; margin: 0 0.25em; line-height: 1; border-radius: 0.35em;\">\n",
              "    sertralina 100 mg\n",
              "    <span style=\"font-size: 0.8em; font-weight: bold; line-height: 1; border-radius: 0.35em; vertical-align: middle; margin-left: 0.5rem\">ORG</span>\n",
              "</mark>\n",
              " \n",
              "<mark class=\"entity\" style=\"background: #7aecec; padding: 0.45em 0.6em; margin: 0 0.25em; line-height: 1; border-radius: 0.35em;\">\n",
              "    cada\n",
              "    <span style=\"font-size: 0.8em; font-weight: bold; line-height: 1; border-radius: 0.35em; vertical-align: middle; margin-left: 0.5rem\">ORG</span>\n",
              "</mark>\n",
              " \n",
              "<mark class=\"entity\" style=\"background: #e4e7d2; padding: 0.45em 0.6em; margin: 0 0.25em; line-height: 1; border-radius: 0.35em;\">\n",
              "    24\n",
              "    <span style=\"font-size: 0.8em; font-weight: bold; line-height: 1; border-radius: 0.35em; vertical-align: middle; margin-left: 0.5rem\">CARDINAL</span>\n",
              "</mark>\n",
              " \n",
              "<mark class=\"entity\" style=\"background: #feca74; padding: 0.45em 0.6em; margin: 0 0.25em; line-height: 1; border-radius: 0.35em;\">\n",
              "    horas\n",
              "    <span style=\"font-size: 0.8em; font-weight: bold; line-height: 1; border-radius: 0.35em; vertical-align: middle; margin-left: 0.5rem\">GPE</span>\n",
              "</mark>\n",
              ", \n",
              "<mark class=\"entity\" style=\"background: #aa9cfc; padding: 0.45em 0.6em; margin: 0 0.25em; line-height: 1; border-radius: 0.35em;\">\n",
              "    valsartan\n",
              "    <span style=\"font-size: 0.8em; font-weight: bold; line-height: 1; border-radius: 0.35em; vertical-align: middle; margin-left: 0.5rem\">PERSON</span>\n",
              "</mark>\n",
              "/hidroclorotiazida160/25 mg \n",
              "<mark class=\"entity\" style=\"background: #7aecec; padding: 0.45em 0.6em; margin: 0 0.25em; line-height: 1; border-radius: 0.35em;\">\n",
              "    cada\n",
              "    <span style=\"font-size: 0.8em; font-weight: bold; line-height: 1; border-radius: 0.35em; vertical-align: middle; margin-left: 0.5rem\">ORG</span>\n",
              "</mark>\n",
              " \n",
              "<mark class=\"entity\" style=\"background: #e4e7d2; padding: 0.45em 0.6em; margin: 0 0.25em; line-height: 1; border-radius: 0.35em;\">\n",
              "    24\n",
              "    <span style=\"font-size: 0.8em; font-weight: bold; line-height: 1; border-radius: 0.35em; vertical-align: middle; margin-left: 0.5rem\">CARDINAL</span>\n",
              "</mark>\n",
              " \n",
              "<mark class=\"entity\" style=\"background: #7aecec; padding: 0.45em 0.6em; margin: 0 0.25em; line-height: 1; border-radius: 0.35em;\">\n",
              "    horas.\n",
              "    <span style=\"font-size: 0.8em; font-weight: bold; line-height: 1; border-radius: 0.35em; vertical-align: middle; margin-left: 0.5rem\">ORG</span>\n",
              "</mark>\n",
              " proces actual paciente que acude a urgencias de psiquiatria tars \n",
              "<mark class=\"entity\" style=\"background: #aa9cfc; padding: 0.45em 0.6em; margin: 0 0.25em; line-height: 1; border-radius: 0.35em;\">\n",
              "    haber sido\n",
              "    <span style=\"font-size: 0.8em; font-weight: bold; line-height: 1; border-radius: 0.35em; vertical-align: middle; margin-left: 0.5rem\">PERSON</span>\n",
              "</mark>\n",
              " \n",
              "<mark class=\"entity\" style=\"background: #aa9cfc; padding: 0.45em 0.6em; margin: 0 0.25em; line-height: 1; border-radius: 0.35em;\">\n",
              "    estabilizada\n",
              "    <span style=\"font-size: 0.8em; font-weight: bold; line-height: 1; border-radius: 0.35em; vertical-align: middle; margin-left: 0.5rem\">PERSON</span>\n",
              "</mark>\n",
              " en urgencias \n",
              "<mark class=\"entity\" style=\"background: #7aecec; padding: 0.45em 0.6em; margin: 0 0.25em; line-height: 1; border-radius: 0.35em;\">\n",
              "    generales\n",
              "    <span style=\"font-size: 0.8em; font-weight: bold; line-height: 1; border-radius: 0.35em; vertical-align: middle; margin-left: 0.5rem\">ORG</span>\n",
              "</mark>\n",
              ", tras sim con paracetamol y orfidal. \n",
              "<mark class=\"entity\" style=\"background: #aa9cfc; padding: 0.45em 0.6em; margin: 0 0.25em; line-height: 1; border-radius: 0.35em;\">\n",
              "    la paciente\n",
              "    <span style=\"font-size: 0.8em; font-weight: bold; line-height: 1; border-radius: 0.35em; vertical-align: middle; margin-left: 0.5rem\">PERSON</span>\n",
              "</mark>\n",
              " refiere \n",
              "<mark class=\"entity\" style=\"background: #feca74; padding: 0.45em 0.6em; margin: 0 0.25em; line-height: 1; border-radius: 0.35em;\">\n",
              "    dicha\n",
              "    <span style=\"font-size: 0.8em; font-weight: bold; line-height: 1; border-radius: 0.35em; vertical-align: middle; margin-left: 0.5rem\">GPE</span>\n",
              "</mark>\n",
              " sim en contexto de algias, no refiriendo una ideacion \n",
              "<mark class=\"entity\" style=\"background: #aa9cfc; padding: 0.45em 0.6em; margin: 0 0.25em; line-height: 1; border-radius: 0.35em;\">\n",
              "    suicida clara\n",
              "    <span style=\"font-size: 0.8em; font-weight: bold; line-height: 1; border-radius: 0.35em; vertical-align: middle; margin-left: 0.5rem\">PERSON</span>\n",
              "</mark>\n",
              ". \n",
              "<mark class=\"entity\" style=\"background: #aa9cfc; padding: 0.45em 0.6em; margin: 0 0.25em; line-height: 1; border-radius: 0.35em;\">\n",
              "    tras ser descubierta\n",
              "    <span style=\"font-size: 0.8em; font-weight: bold; line-height: 1; border-radius: 0.35em; vertical-align: middle; margin-left: 0.5rem\">PERSON</span>\n",
              "</mark>\n",
              " en \n",
              "<mark class=\"entity\" style=\"background: #feca74; padding: 0.45em 0.6em; margin: 0 0.25em; line-height: 1; border-radius: 0.35em;\">\n",
              "    centro\n",
              "    <span style=\"font-size: 0.8em; font-weight: bold; line-height: 1; border-radius: 0.35em; vertical-align: middle; margin-left: 0.5rem\">GPE</span>\n",
              "</mark>\n",
              " residencial \n",
              "<mark class=\"entity\" style=\"background: #9cc9cc; padding: 0.45em 0.6em; margin: 0 0.25em; line-height: 1; border-radius: 0.35em;\">\n",
              "    solicitan derivacion\n",
              "    <span style=\"font-size: 0.8em; font-weight: bold; line-height: 1; border-radius: 0.35em; vertical-align: middle; margin-left: 0.5rem\">FAC</span>\n",
              "</mark>\n",
              " a huvh \n",
              "<mark class=\"entity\" style=\"background: #aa9cfc; padding: 0.45em 0.6em; margin: 0 0.25em; line-height: 1; border-radius: 0.35em;\">\n",
              "    para valoracion\n",
              "    <span style=\"font-size: 0.8em; font-weight: bold; line-height: 1; border-radius: 0.35em; vertical-align: middle; margin-left: 0.5rem\">PERSON</span>\n",
              "</mark>\n",
              ". \n",
              "<mark class=\"entity\" style=\"background: #aa9cfc; padding: 0.45em 0.6em; margin: 0 0.25em; line-height: 1; border-radius: 0.35em;\">\n",
              "    exploracio fisica\n",
              "    <span style=\"font-size: 0.8em; font-weight: bold; line-height: 1; border-radius: 0.35em; vertical-align: middle; margin-left: 0.5rem\">PERSON</span>\n",
              "</mark>\n",
              " epp a \n",
              "<mark class=\"entity\" style=\"background: #feca74; padding: 0.45em 0.6em; margin: 0 0.25em; line-height: 1; border-radius: 0.35em;\">\n",
              "    su llegada\n",
              "    <span style=\"font-size: 0.8em; font-weight: bold; line-height: 1; border-radius: 0.35em; vertical-align: middle; margin-left: 0.5rem\">GPE</span>\n",
              "</mark>\n",
              " a urgencias de psiquiatria: \n",
              "<mark class=\"entity\" style=\"background: #7aecec; padding: 0.45em 0.6em; margin: 0 0.25em; line-height: 1; border-radius: 0.35em;\">\n",
              "    consciente\n",
              "    <span style=\"font-size: 0.8em; font-weight: bold; line-height: 1; border-radius: 0.35em; vertical-align: middle; margin-left: 0.5rem\">ORG</span>\n",
              "</mark>\n",
              " y vigil. orientada en \n",
              "<mark class=\"entity\" style=\"background: #7aecec; padding: 0.45em 0.6em; margin: 0 0.25em; line-height: 1; border-radius: 0.35em;\">\n",
              "    tres esferas\n",
              "    <span style=\"font-size: 0.8em; font-weight: bold; line-height: 1; border-radius: 0.35em; vertical-align: middle; margin-left: 0.5rem\">ORG</span>\n",
              "</mark>\n",
              ". \n",
              "<mark class=\"entity\" style=\"background: #7aecec; padding: 0.45em 0.6em; margin: 0 0.25em; line-height: 1; border-radius: 0.35em;\">\n",
              "    constacto sintonico\n",
              "    <span style=\"font-size: 0.8em; font-weight: bold; line-height: 1; border-radius: 0.35em; vertical-align: middle; margin-left: 0.5rem\">ORG</span>\n",
              "</mark>\n",
              ". \n",
              "<mark class=\"entity\" style=\"background: #aa9cfc; padding: 0.45em 0.6em; margin: 0 0.25em; line-height: 1; border-radius: 0.35em;\">\n",
              "    aspecto conservado\n",
              "    <span style=\"font-size: 0.8em; font-weight: bold; line-height: 1; border-radius: 0.35em; vertical-align: middle; margin-left: 0.5rem\">PERSON</span>\n",
              "</mark>\n",
              ". fallos \n",
              "<mark class=\"entity\" style=\"background: #aa9cfc; padding: 0.45em 0.6em; margin: 0 0.25em; line-height: 1; border-radius: 0.35em;\">\n",
              "    mnesicos aunque globalmente orientada\n",
              "    <span style=\"font-size: 0.8em; font-weight: bold; line-height: 1; border-radius: 0.35em; vertical-align: middle; margin-left: 0.5rem\">PERSON</span>\n",
              "</mark>\n",
              " en \n",
              "<mark class=\"entity\" style=\"background: #7aecec; padding: 0.45em 0.6em; margin: 0 0.25em; line-height: 1; border-radius: 0.35em;\">\n",
              "    tres esferas.\n",
              "    <span style=\"font-size: 0.8em; font-weight: bold; line-height: 1; border-radius: 0.35em; vertical-align: middle; margin-left: 0.5rem\">ORG</span>\n",
              "</mark>\n",
              " \n",
              "<mark class=\"entity\" style=\"background: #aa9cfc; padding: 0.45em 0.6em; margin: 0 0.25em; line-height: 1; border-radius: 0.35em;\">\n",
              "    discurso epsontaneo\n",
              "    <span style=\"font-size: 0.8em; font-weight: bold; line-height: 1; border-radius: 0.35em; vertical-align: middle; margin-left: 0.5rem\">PERSON</span>\n",
              "</mark>\n",
              " \n",
              "<mark class=\"entity\" style=\"background: #aa9cfc; padding: 0.45em 0.6em; margin: 0 0.25em; line-height: 1; border-radius: 0.35em;\">\n",
              "    y fluido\n",
              "    <span style=\"font-size: 0.8em; font-weight: bold; line-height: 1; border-radius: 0.35em; vertical-align: middle; margin-left: 0.5rem\">PERSON</span>\n",
              "</mark>\n",
              ", \n",
              "<mark class=\"entity\" style=\"background: #feca74; padding: 0.45em 0.6em; margin: 0 0.25em; line-height: 1; border-radius: 0.35em;\">\n",
              "    normoprosodico\n",
              "    <span style=\"font-size: 0.8em; font-weight: bold; line-height: 1; border-radius: 0.35em; vertical-align: middle; margin-left: 0.5rem\">GPE</span>\n",
              "</mark>\n",
              ", \n",
              "<mark class=\"entity\" style=\"background: #7aecec; padding: 0.45em 0.6em; margin: 0 0.25em; line-height: 1; border-radius: 0.35em;\">\n",
              "    sin alteraciones en\n",
              "    <span style=\"font-size: 0.8em; font-weight: bold; line-height: 1; border-radius: 0.35em; vertical-align: middle; margin-left: 0.5rem\">ORG</span>\n",
              "</mark>\n",
              " el contenido \n",
              "<mark class=\"entity\" style=\"background: #feca74; padding: 0.45em 0.6em; margin: 0 0.25em; line-height: 1; border-radius: 0.35em;\">\n",
              "    del pensamiento\n",
              "    <span style=\"font-size: 0.8em; font-weight: bold; line-height: 1; border-radius: 0.35em; vertical-align: middle; margin-left: 0.5rem\">GPE</span>\n",
              "</mark>\n",
              ". humor \n",
              "<mark class=\"entity\" style=\"background: #aa9cfc; padding: 0.45em 0.6em; margin: 0 0.25em; line-height: 1; border-radius: 0.35em;\">\n",
              "    resonante\n",
              "    <span style=\"font-size: 0.8em; font-weight: bold; line-height: 1; border-radius: 0.35em; vertical-align: middle; margin-left: 0.5rem\">PERSON</span>\n",
              "</mark>\n",
              " y reactivo. \n",
              "<mark class=\"entity\" style=\"background: #aa9cfc; padding: 0.45em 0.6em; margin: 0 0.25em; line-height: 1; border-radius: 0.35em;\">\n",
              "    ligera hipotimia referida\n",
              "    <span style=\"font-size: 0.8em; font-weight: bold; line-height: 1; border-radius: 0.35em; vertical-align: middle; margin-left: 0.5rem\">PERSON</span>\n",
              "</mark>\n",
              ", no evidenciando \n",
              "<mark class=\"entity\" style=\"background: #7aecec; padding: 0.45em 0.6em; margin: 0 0.25em; line-height: 1; border-radius: 0.35em;\">\n",
              "    alteraciones endogenomorfas en\n",
              "    <span style=\"font-size: 0.8em; font-weight: bold; line-height: 1; border-radius: 0.35em; vertical-align: middle; margin-left: 0.5rem\">ORG</span>\n",
              "</mark>\n",
              " \n",
              "<mark class=\"entity\" style=\"background: #aa9cfc; padding: 0.45em 0.6em; margin: 0 0.25em; line-height: 1; border-radius: 0.35em;\">\n",
              "    el esatdo de animo\n",
              "    <span style=\"font-size: 0.8em; font-weight: bold; line-height: 1; border-radius: 0.35em; vertical-align: middle; margin-left: 0.5rem\">PERSON</span>\n",
              "</mark>\n",
              ". no \n",
              "<mark class=\"entity\" style=\"background: #7aecec; padding: 0.45em 0.6em; margin: 0 0.25em; line-height: 1; border-radius: 0.35em;\">\n",
              "    ideacion\n",
              "    <span style=\"font-size: 0.8em; font-weight: bold; line-height: 1; border-radius: 0.35em; vertical-align: middle; margin-left: 0.5rem\">ORG</span>\n",
              "</mark>\n",
              " \n",
              "<mark class=\"entity\" style=\"background: #aa9cfc; padding: 0.45em 0.6em; margin: 0 0.25em; line-height: 1; border-radius: 0.35em;\">\n",
              "    suicida estructurada\n",
              "    <span style=\"font-size: 0.8em; font-weight: bold; line-height: 1; border-radius: 0.35em; vertical-align: middle; margin-left: 0.5rem\">PERSON</span>\n",
              "</mark>\n",
              " en \n",
              "<mark class=\"entity\" style=\"background: #feca74; padding: 0.45em 0.6em; margin: 0 0.25em; line-height: 1; border-radius: 0.35em;\">\n",
              "    el momento\n",
              "    <span style=\"font-size: 0.8em; font-weight: bold; line-height: 1; border-radius: 0.35em; vertical-align: middle; margin-left: 0.5rem\">GPE</span>\n",
              "</mark>\n",
              " actual. \n",
              "<mark class=\"entity\" style=\"background: #aa9cfc; padding: 0.45em 0.6em; margin: 0 0.25em; line-height: 1; border-radius: 0.35em;\">\n",
              "    correcta proyeccion\n",
              "    <span style=\"font-size: 0.8em; font-weight: bold; line-height: 1; border-radius: 0.35em; vertical-align: middle; margin-left: 0.5rem\">PERSON</span>\n",
              "</mark>\n",
              " vital. \n",
              "<mark class=\"entity\" style=\"background: #7aecec; padding: 0.45em 0.6em; margin: 0 0.25em; line-height: 1; border-radius: 0.35em;\">\n",
              "    critica adecuada\n",
              "    <span style=\"font-size: 0.8em; font-weight: bold; line-height: 1; border-radius: 0.35em; vertical-align: middle; margin-left: 0.5rem\">ORG</span>\n",
              "</mark>\n",
              ". no \n",
              "<mark class=\"entity\" style=\"background: #7aecec; padding: 0.45em 0.6em; margin: 0 0.25em; line-height: 1; border-radius: 0.35em;\">\n",
              "    alteraciones en la\n",
              "    <span style=\"font-size: 0.8em; font-weight: bold; line-height: 1; border-radius: 0.35em; vertical-align: middle; margin-left: 0.5rem\">ORG</span>\n",
              "</mark>\n",
              " sensopercepcion ni otras alteraciones dentro de la \n",
              "<mark class=\"entity\" style=\"background: #aa9cfc; padding: 0.45em 0.6em; margin: 0 0.25em; line-height: 1; border-radius: 0.35em;\">\n",
              "    esfera psicotica\n",
              "    <span style=\"font-size: 0.8em; font-weight: bold; line-height: 1; border-radius: 0.35em; vertical-align: middle; margin-left: 0.5rem\">PERSON</span>\n",
              "</mark>\n",
              ". no auto ni heteroagresiva. \n",
              "<mark class=\"entity\" style=\"background: #feca74; padding: 0.45em 0.6em; margin: 0 0.25em; line-height: 1; border-radius: 0.35em;\">\n",
              "    normosomnia\n",
              "    <span style=\"font-size: 0.8em; font-weight: bold; line-height: 1; border-radius: 0.35em; vertical-align: middle; margin-left: 0.5rem\">GPE</span>\n",
              "</mark>\n",
              ". \n",
              "<mark class=\"entity\" style=\"background: #feca74; padding: 0.45em 0.6em; margin: 0 0.25em; line-height: 1; border-radius: 0.35em;\">\n",
              "    normorexia\n",
              "    <span style=\"font-size: 0.8em; font-weight: bold; line-height: 1; border-radius: 0.35em; vertical-align: middle; margin-left: 0.5rem\">GPE</span>\n",
              "</mark>\n",
              ". \n",
              "<mark class=\"entity\" style=\"background: #aa9cfc; padding: 0.45em 0.6em; margin: 0 0.25em; line-height: 1; border-radius: 0.35em;\">\n",
              "    juicio de la\n",
              "    <span style=\"font-size: 0.8em; font-weight: bold; line-height: 1; border-radius: 0.35em; vertical-align: middle; margin-left: 0.5rem\">PERSON</span>\n",
              "</mark>\n",
              " realidad \n",
              "<mark class=\"entity\" style=\"background: #7aecec; padding: 0.45em 0.6em; margin: 0 0.25em; line-height: 1; border-radius: 0.35em;\">\n",
              "    preservado\n",
              "    <span style=\"font-size: 0.8em; font-weight: bold; line-height: 1; border-radius: 0.35em; vertical-align: middle; margin-left: 0.5rem\">ORG</span>\n",
              "</mark>\n",
              ". \n",
              "<mark class=\"entity\" style=\"background: #aa9cfc; padding: 0.45em 0.6em; margin: 0 0.25em; line-height: 1; border-radius: 0.35em;\">\n",
              "    correcto\n",
              "    <span style=\"font-size: 0.8em; font-weight: bold; line-height: 1; border-radius: 0.35em; vertical-align: middle; margin-left: 0.5rem\">PERSON</span>\n",
              "</mark>\n",
              " insight. nhc ** *** *** (********) age-v-psq \n",
              "<mark class=\"entity\" style=\"background: #e4e7d2; padding: 0.45em 0.6em; margin: 0 0.25em; line-height: 1; border-radius: 0.35em;\">\n",
              "    1/2\n",
              "    <span style=\"font-size: 0.8em; font-weight: bold; line-height: 1; border-radius: 0.35em; vertical-align: middle; margin-left: 0.5rem\">CARDINAL</span>\n",
              "</mark>\n",
              " \n",
              "<mark class=\"entity\" style=\"background: #feca74; padding: 0.45em 0.6em; margin: 0 0.25em; line-height: 1; border-radius: 0.35em;\">\n",
              "    lopd\n",
              "    <span style=\"font-size: 0.8em; font-weight: bold; line-height: 1; border-radius: 0.35em; vertical-align: middle; margin-left: 0.5rem\">GPE</span>\n",
              "</mark>\n",
              " evolucio clinica \n",
              "<mark class=\"entity\" style=\"background: #7aecec; padding: 0.45em 0.6em; margin: 0 0.25em; line-height: 1; border-radius: 0.35em;\">\n",
              "    la paciente se\n",
              "    <span style=\"font-size: 0.8em; font-weight: bold; line-height: 1; border-radius: 0.35em; vertical-align: middle; margin-left: 0.5rem\">ORG</span>\n",
              "</mark>\n",
              " \n",
              "<mark class=\"entity\" style=\"background: #7aecec; padding: 0.45em 0.6em; margin: 0 0.25em; line-height: 1; border-radius: 0.35em;\">\n",
              "    muestra\n",
              "    <span style=\"font-size: 0.8em; font-weight: bold; line-height: 1; border-radius: 0.35em; vertical-align: middle; margin-left: 0.5rem\">ORG</span>\n",
              "</mark>\n",
              " \n",
              "<mark class=\"entity\" style=\"background: #aa9cfc; padding: 0.45em 0.6em; margin: 0 0.25em; line-height: 1; border-radius: 0.35em;\">\n",
              "    correcta y normativa\n",
              "    <span style=\"font-size: 0.8em; font-weight: bold; line-height: 1; border-radius: 0.35em; vertical-align: middle; margin-left: 0.5rem\">PERSON</span>\n",
              "</mark>\n",
              " en \n",
              "<mark class=\"entity\" style=\"background: #aa9cfc; padding: 0.45em 0.6em; margin: 0 0.25em; line-height: 1; border-radius: 0.35em;\">\n",
              "    todo momento\n",
              "    <span style=\"font-size: 0.8em; font-weight: bold; line-height: 1; border-radius: 0.35em; vertical-align: middle; margin-left: 0.5rem\">PERSON</span>\n",
              "</mark>\n",
              ", mostrando \n",
              "<mark class=\"entity\" style=\"background: #7aecec; padding: 0.45em 0.6em; margin: 0 0.25em; line-height: 1; border-radius: 0.35em;\">\n",
              "    un\n",
              "    <span style=\"font-size: 0.8em; font-weight: bold; line-height: 1; border-radius: 0.35em; vertical-align: middle; margin-left: 0.5rem\">ORG</span>\n",
              "</mark>\n",
              " humor resonante y reactivo a su situacion actual. \n",
              "<mark class=\"entity\" style=\"background: #aa9cfc; padding: 0.45em 0.6em; margin: 0 0.25em; line-height: 1; border-radius: 0.35em;\">\n",
              "    impresiona deterioro cognitivo progresivo\n",
              "    <span style=\"font-size: 0.8em; font-weight: bold; line-height: 1; border-radius: 0.35em; vertical-align: middle; margin-left: 0.5rem\">PERSON</span>\n",
              "</mark>\n",
              ", mas que afectacion en el humor. contacto con centro residencial explicando idoneidad de permanecer en centro residencial en \n",
              "<mark class=\"entity\" style=\"background: #7aecec; padding: 0.45em 0.6em; margin: 0 0.25em; line-height: 1; border-radius: 0.35em;\">\n",
              "    lugar de los apartamentos donde residia hasta el momento\n",
              "    <span style=\"font-size: 0.8em; font-weight: bold; line-height: 1; border-radius: 0.35em; vertical-align: middle; margin-left: 0.5rem\">ORG</span>\n",
              "</mark>\n",
              ", \n",
              "<mark class=\"entity\" style=\"background: #feca74; padding: 0.45em 0.6em; margin: 0 0.25em; line-height: 1; border-radius: 0.35em;\">\n",
              "    dado que la\n",
              "    <span style=\"font-size: 0.8em; font-weight: bold; line-height: 1; border-radius: 0.35em; vertical-align: middle; margin-left: 0.5rem\">GPE</span>\n",
              "</mark>\n",
              " paciente necesita mayor supervision. \n",
              "<mark class=\"entity\" style=\"background: #aa9cfc; padding: 0.45em 0.6em; margin: 0 0.25em; line-height: 1; border-radius: 0.35em;\">\n",
              "    asi mismo vigilar\n",
              "    <span style=\"font-size: 0.8em; font-weight: bold; line-height: 1; border-radius: 0.35em; vertical-align: middle; margin-left: 0.5rem\">PERSON</span>\n",
              "</mark>\n",
              " \n",
              "<mark class=\"entity\" style=\"background: #7aecec; padding: 0.45em 0.6em; margin: 0 0.25em; line-height: 1; border-radius: 0.35em;\">\n",
              "    el acceso\n",
              "    <span style=\"font-size: 0.8em; font-weight: bold; line-height: 1; border-radius: 0.35em; vertical-align: middle; margin-left: 0.5rem\">ORG</span>\n",
              "</mark>\n",
              " a la medicacion que tenga la paciente, \n",
              "<mark class=\"entity\" style=\"background: #7aecec; padding: 0.45em 0.6em; margin: 0 0.25em; line-height: 1; border-radius: 0.35em;\">\n",
              "    siendo administrada unicamente por el\n",
              "    <span style=\"font-size: 0.8em; font-weight: bold; line-height: 1; border-radius: 0.35em; vertical-align: middle; margin-left: 0.5rem\">ORG</span>\n",
              "</mark>\n",
              " personal \n",
              "<mark class=\"entity\" style=\"background: #7aecec; padding: 0.45em 0.6em; margin: 0 0.25em; line-height: 1; border-radius: 0.35em;\">\n",
              "    de la residencia\n",
              "    <span style=\"font-size: 0.8em; font-weight: bold; line-height: 1; border-radius: 0.35em; vertical-align: middle; margin-left: 0.5rem\">ORG</span>\n",
              "</mark>\n",
              ". contacto con familiares que se \n",
              "<mark class=\"entity\" style=\"background: #aa9cfc; padding: 0.45em 0.6em; margin: 0 0.25em; line-height: 1; border-radius: 0.35em;\">\n",
              "    muestran de acuerdo con el\n",
              "    <span style=\"font-size: 0.8em; font-weight: bold; line-height: 1; border-radius: 0.35em; vertical-align: middle; margin-left: 0.5rem\">PERSON</span>\n",
              "</mark>\n",
              " plan establecido. \n",
              "<mark class=\"entity\" style=\"background: #7aecec; padding: 0.45em 0.6em; margin: 0 0.25em; line-height: 1; border-radius: 0.35em;\">\n",
              "    control derivacion\n",
              "    <span style=\"font-size: 0.8em; font-weight: bold; line-height: 1; border-radius: 0.35em; vertical-align: middle; margin-left: 0.5rem\">ORG</span>\n",
              "</mark>\n",
              " a centro residencial \n",
              "<mark class=\"entity\" style=\"background: #aa9cfc; padding: 0.45em 0.6em; margin: 0 0.25em; line-height: 1; border-radius: 0.35em;\">\n",
              "    mutuam corserolla\n",
              "    <span style=\"font-size: 0.8em; font-weight: bold; line-height: 1; border-radius: 0.35em; vertical-align: middle; margin-left: 0.5rem\">PERSON</span>\n",
              "</mark>\n",
              ". \n",
              "<mark class=\"entity\" style=\"background: #feca74; padding: 0.45em 0.6em; margin: 0 0.25em; line-height: 1; border-radius: 0.35em;\">\n",
              "    destinacio\n",
              "    <span style=\"font-size: 0.8em; font-weight: bold; line-height: 1; border-radius: 0.35em; vertical-align: middle; margin-left: 0.5rem\">GPE</span>\n",
              "</mark>\n",
              " a l'alta: a domicili nhc ** *** *** (********) age-v-psq \n",
              "<mark class=\"entity\" style=\"background: #e4e7d2; padding: 0.45em 0.6em; margin: 0 0.25em; line-height: 1; border-radius: 0.35em;\">\n",
              "    2/2\n",
              "    <span style=\"font-size: 0.8em; font-weight: bold; line-height: 1; border-radius: 0.35em; vertical-align: middle; margin-left: 0.5rem\">CARDINAL</span>\n",
              "</mark>\n",
              " lopd</div></span>"
            ]
          },
          "metadata": {}
        }
      ],
      "source": [
        "# Now in a more visual way, with the entity type printed.\n",
        "displacy.render(doc, style=\"ent\", jupyter=True)"
      ]
    },
    {
      "cell_type": "code",
      "execution_count": null,
      "metadata": {
        "id": "3GjnxY4SE7Hb"
      },
      "outputs": [],
      "source": [
        "# Now we tried with a medical text in englis and you will see that it recognizes very well the entities.\n",
        "doc = nlp('Dr. John Anderson, a renowned cardiologist from Stanford Medical Center, suggested that patients with high cholesterol should modify their diet to include more heart-healthy foods. In a study published in the New England Journal of Medicine, he found that incorporating foods rich in omega-3 fatty acids, such as salmon and walnuts, can significantly lower the risk of heart disease. Dr. Anderson also advised patients to limit intake of trans fats, which are often found in processed foods. Furthermore, he suggested regular exercise and recommended patients to track their blood pressure using devices approved by the FDA. His research has been endorsed by the American Heart Association, paving a new direction in cardiology.')"
      ]
    },
    {
      "cell_type": "code",
      "execution_count": null,
      "metadata": {
        "colab": {
          "base_uri": "https://localhost:8080/",
          "height": 227
        },
        "id": "VHvDW7OvE_DJ",
        "outputId": "45f35e93-2816-4b8e-997f-8ef507038181"
      },
      "outputs": [
        {
          "output_type": "display_data",
          "data": {
            "text/plain": [
              "<IPython.core.display.HTML object>"
            ],
            "text/html": [
              "<span class=\"tex2jax_ignore\"><div class=\"entities\" style=\"line-height: 2.5; direction: ltr\">Dr. \n",
              "<mark class=\"entity\" style=\"background: #aa9cfc; padding: 0.45em 0.6em; margin: 0 0.25em; line-height: 1; border-radius: 0.35em;\">\n",
              "    John Anderson\n",
              "    <span style=\"font-size: 0.8em; font-weight: bold; line-height: 1; border-radius: 0.35em; vertical-align: middle; margin-left: 0.5rem\">PERSON</span>\n",
              "</mark>\n",
              ", a renowned cardiologist from \n",
              "<mark class=\"entity\" style=\"background: #7aecec; padding: 0.45em 0.6em; margin: 0 0.25em; line-height: 1; border-radius: 0.35em;\">\n",
              "    Stanford Medical Center\n",
              "    <span style=\"font-size: 0.8em; font-weight: bold; line-height: 1; border-radius: 0.35em; vertical-align: middle; margin-left: 0.5rem\">ORG</span>\n",
              "</mark>\n",
              ", suggested that patients with high cholesterol should modify their diet to include more heart-healthy foods. In a study published in \n",
              "<mark class=\"entity\" style=\"background: #7aecec; padding: 0.45em 0.6em; margin: 0 0.25em; line-height: 1; border-radius: 0.35em;\">\n",
              "    the New England Journal of Medicine\n",
              "    <span style=\"font-size: 0.8em; font-weight: bold; line-height: 1; border-radius: 0.35em; vertical-align: middle; margin-left: 0.5rem\">ORG</span>\n",
              "</mark>\n",
              ", he found that incorporating foods rich in omega-3 fatty acids, such as salmon and walnuts, can significantly lower the risk of heart disease. Dr. \n",
              "<mark class=\"entity\" style=\"background: #aa9cfc; padding: 0.45em 0.6em; margin: 0 0.25em; line-height: 1; border-radius: 0.35em;\">\n",
              "    Anderson\n",
              "    <span style=\"font-size: 0.8em; font-weight: bold; line-height: 1; border-radius: 0.35em; vertical-align: middle; margin-left: 0.5rem\">PERSON</span>\n",
              "</mark>\n",
              " also advised patients to limit intake of trans fats, which are often found in processed foods. Furthermore, he suggested regular exercise and recommended patients to track their blood pressure using devices approved by the \n",
              "<mark class=\"entity\" style=\"background: #7aecec; padding: 0.45em 0.6em; margin: 0 0.25em; line-height: 1; border-radius: 0.35em;\">\n",
              "    FDA\n",
              "    <span style=\"font-size: 0.8em; font-weight: bold; line-height: 1; border-radius: 0.35em; vertical-align: middle; margin-left: 0.5rem\">ORG</span>\n",
              "</mark>\n",
              ". His research has been endorsed by \n",
              "<mark class=\"entity\" style=\"background: #7aecec; padding: 0.45em 0.6em; margin: 0 0.25em; line-height: 1; border-radius: 0.35em;\">\n",
              "    the American Heart Association\n",
              "    <span style=\"font-size: 0.8em; font-weight: bold; line-height: 1; border-radius: 0.35em; vertical-align: middle; margin-left: 0.5rem\">ORG</span>\n",
              "</mark>\n",
              ", paving a new direction in cardiology.</div></span>"
            ]
          },
          "metadata": {}
        }
      ],
      "source": [
        "displacy.render(doc, style=\"ent\", jupyter=True)"
      ]
    },
    {
      "cell_type": "markdown",
      "source": [
        "The objective now is to fine-tune the model so that it recognizes the entities that we want, which are negations, uncertainties and the scopes. For this process we need to prepare the data for the model for the fine-tuning training."
      ],
      "metadata": {
        "id": "Hwym7BlVFe23"
      }
    },
    {
      "cell_type": "code",
      "execution_count": null,
      "metadata": {
        "id": "kgRiE87PWDdS"
      },
      "outputs": [],
      "source": [
        "# We add the new colum that contains the labels of the text with the indices of start and end to the dataframe\n",
        "labels = []\n",
        "\n",
        "for i, _ in enumerate(data['id']):\n",
        "    labels_per_text = []\n",
        "    for item in json_data[i]['predictions'][0]['result']:\n",
        "\n",
        "        # For each item we add a tuple with the start and end indices of the item in the text and it is added to the labels list with the corresponding label\n",
        "        labels_per_text.append((item['value']['start'], item['value']['end'], item['value']['labels'][0])) # tuple: (start, end, label)\n",
        "\n",
        "    labels.append(labels_per_text)"
      ]
    },
    {
      "cell_type": "code",
      "execution_count": null,
      "metadata": {
        "id": "g2ahS32XXByU"
      },
      "outputs": [],
      "source": [
        "# This line adds the new column to the dataframe\n",
        "data['labels'] = labels"
      ]
    },
    {
      "cell_type": "code",
      "source": [
        "# Some labels in the first text\n",
        "data['labels'][0]"
      ],
      "metadata": {
        "colab": {
          "base_uri": "https://localhost:8080/"
        },
        "id": "14c-QGLRLgzz",
        "outputId": "dcd9508a-5250-4be4-f8c1-f373c8eaa403"
      },
      "execution_count": null,
      "outputs": [
        {
          "output_type": "execute_result",
          "data": {
            "text/plain": [
              "[(1350, 1354, 'NEG'),\n",
              " (1996, 1999, 'NEG'),\n",
              " (2385, 2389, 'NEG'),\n",
              " (2490, 2493, 'NEG'),\n",
              " (2557, 2560, 'NEG'),\n",
              " (2657, 2660, 'NEG'),\n",
              " (2748, 2751, 'NEG'),\n",
              " (3038, 3049, 'UNC'),\n",
              " (3049, 3080, 'USCO'),\n",
              " (1354, 1359, 'NSCO'),\n",
              " (414, 417, 'NEG'),\n",
              " (418, 450, 'NSCO'),\n",
              " (2389, 2433, 'NSCO'),\n",
              " (2493, 2555, 'NSCO'),\n",
              " (2560, 2610, 'NSCO'),\n",
              " (2660, 2746, 'NSCO'),\n",
              " (2751, 2773, 'NSCO'),\n",
              " (1999, 2036, 'NSCO')]"
            ]
          },
          "metadata": {},
          "execution_count": 8
        }
      ]
    },
    {
      "cell_type": "code",
      "execution_count": null,
      "metadata": {
        "colab": {
          "base_uri": "https://localhost:8080/",
          "height": 206
        },
        "id": "xkn6JPVHXHyr",
        "outputId": "67348a12-3b04-4b2e-93e5-bb9e17042529"
      },
      "outputs": [
        {
          "output_type": "execute_result",
          "data": {
            "text/plain": [
              "         id                                               text  \\\n",
              "0  18796742   nº historia clinica: ** *** *** nºepisodi: **...   \n",
              "1  18819888   nº historia clinica: ** *** *** nºepisodi: **...   \n",
              "2  18861858   nº historia clinica: ** *** *** nºepisodi: **...   \n",
              "3  18847417   nº historia clinica: ** *** *** nºepisodi: **...   \n",
              "4  18868762   nº historia clinica: ** *** *** nºepisodi: **...   \n",
              "\n",
              "                                              labels  \n",
              "0  [(1350, 1354, NEG), (1996, 1999, NEG), (2385, ...  \n",
              "1  [(988, 992, NEG), (992, 999, NSCO), (1040, 104...  \n",
              "2  [(896, 899, NEG), (899, 931, NSCO), (1259, 128...  \n",
              "3  [(391, 394, NEG), (394, 428, NSCO), (444, 447,...  \n",
              "4  [(357, 361, NEG), (361, 414, NSCO), (903, 907,...  "
            ],
            "text/html": [
              "\n",
              "  <div id=\"df-85650a1d-be2e-49df-b5d1-2a0549664afa\">\n",
              "    <div class=\"colab-df-container\">\n",
              "      <div>\n",
              "<style scoped>\n",
              "    .dataframe tbody tr th:only-of-type {\n",
              "        vertical-align: middle;\n",
              "    }\n",
              "\n",
              "    .dataframe tbody tr th {\n",
              "        vertical-align: top;\n",
              "    }\n",
              "\n",
              "    .dataframe thead th {\n",
              "        text-align: right;\n",
              "    }\n",
              "</style>\n",
              "<table border=\"1\" class=\"dataframe\">\n",
              "  <thead>\n",
              "    <tr style=\"text-align: right;\">\n",
              "      <th></th>\n",
              "      <th>id</th>\n",
              "      <th>text</th>\n",
              "      <th>labels</th>\n",
              "    </tr>\n",
              "  </thead>\n",
              "  <tbody>\n",
              "    <tr>\n",
              "      <th>0</th>\n",
              "      <td>18796742</td>\n",
              "      <td>nº historia clinica: ** *** *** nºepisodi: **...</td>\n",
              "      <td>[(1350, 1354, NEG), (1996, 1999, NEG), (2385, ...</td>\n",
              "    </tr>\n",
              "    <tr>\n",
              "      <th>1</th>\n",
              "      <td>18819888</td>\n",
              "      <td>nº historia clinica: ** *** *** nºepisodi: **...</td>\n",
              "      <td>[(988, 992, NEG), (992, 999, NSCO), (1040, 104...</td>\n",
              "    </tr>\n",
              "    <tr>\n",
              "      <th>2</th>\n",
              "      <td>18861858</td>\n",
              "      <td>nº historia clinica: ** *** *** nºepisodi: **...</td>\n",
              "      <td>[(896, 899, NEG), (899, 931, NSCO), (1259, 128...</td>\n",
              "    </tr>\n",
              "    <tr>\n",
              "      <th>3</th>\n",
              "      <td>18847417</td>\n",
              "      <td>nº historia clinica: ** *** *** nºepisodi: **...</td>\n",
              "      <td>[(391, 394, NEG), (394, 428, NSCO), (444, 447,...</td>\n",
              "    </tr>\n",
              "    <tr>\n",
              "      <th>4</th>\n",
              "      <td>18868762</td>\n",
              "      <td>nº historia clinica: ** *** *** nºepisodi: **...</td>\n",
              "      <td>[(357, 361, NEG), (361, 414, NSCO), (903, 907,...</td>\n",
              "    </tr>\n",
              "  </tbody>\n",
              "</table>\n",
              "</div>\n",
              "      <button class=\"colab-df-convert\" onclick=\"convertToInteractive('df-85650a1d-be2e-49df-b5d1-2a0549664afa')\"\n",
              "              title=\"Convert this dataframe to an interactive table.\"\n",
              "              style=\"display:none;\">\n",
              "        \n",
              "  <svg xmlns=\"http://www.w3.org/2000/svg\" height=\"24px\"viewBox=\"0 0 24 24\"\n",
              "       width=\"24px\">\n",
              "    <path d=\"M0 0h24v24H0V0z\" fill=\"none\"/>\n",
              "    <path d=\"M18.56 5.44l.94 2.06.94-2.06 2.06-.94-2.06-.94-.94-2.06-.94 2.06-2.06.94zm-11 1L8.5 8.5l.94-2.06 2.06-.94-2.06-.94L8.5 2.5l-.94 2.06-2.06.94zm10 10l.94 2.06.94-2.06 2.06-.94-2.06-.94-.94-2.06-.94 2.06-2.06.94z\"/><path d=\"M17.41 7.96l-1.37-1.37c-.4-.4-.92-.59-1.43-.59-.52 0-1.04.2-1.43.59L10.3 9.45l-7.72 7.72c-.78.78-.78 2.05 0 2.83L4 21.41c.39.39.9.59 1.41.59.51 0 1.02-.2 1.41-.59l7.78-7.78 2.81-2.81c.8-.78.8-2.07 0-2.86zM5.41 20L4 18.59l7.72-7.72 1.47 1.35L5.41 20z\"/>\n",
              "  </svg>\n",
              "      </button>\n",
              "      \n",
              "  <style>\n",
              "    .colab-df-container {\n",
              "      display:flex;\n",
              "      flex-wrap:wrap;\n",
              "      gap: 12px;\n",
              "    }\n",
              "\n",
              "    .colab-df-convert {\n",
              "      background-color: #E8F0FE;\n",
              "      border: none;\n",
              "      border-radius: 50%;\n",
              "      cursor: pointer;\n",
              "      display: none;\n",
              "      fill: #1967D2;\n",
              "      height: 32px;\n",
              "      padding: 0 0 0 0;\n",
              "      width: 32px;\n",
              "    }\n",
              "\n",
              "    .colab-df-convert:hover {\n",
              "      background-color: #E2EBFA;\n",
              "      box-shadow: 0px 1px 2px rgba(60, 64, 67, 0.3), 0px 1px 3px 1px rgba(60, 64, 67, 0.15);\n",
              "      fill: #174EA6;\n",
              "    }\n",
              "\n",
              "    [theme=dark] .colab-df-convert {\n",
              "      background-color: #3B4455;\n",
              "      fill: #D2E3FC;\n",
              "    }\n",
              "\n",
              "    [theme=dark] .colab-df-convert:hover {\n",
              "      background-color: #434B5C;\n",
              "      box-shadow: 0px 1px 3px 1px rgba(0, 0, 0, 0.15);\n",
              "      filter: drop-shadow(0px 1px 2px rgba(0, 0, 0, 0.3));\n",
              "      fill: #FFFFFF;\n",
              "    }\n",
              "  </style>\n",
              "\n",
              "      <script>\n",
              "        const buttonEl =\n",
              "          document.querySelector('#df-85650a1d-be2e-49df-b5d1-2a0549664afa button.colab-df-convert');\n",
              "        buttonEl.style.display =\n",
              "          google.colab.kernel.accessAllowed ? 'block' : 'none';\n",
              "\n",
              "        async function convertToInteractive(key) {\n",
              "          const element = document.querySelector('#df-85650a1d-be2e-49df-b5d1-2a0549664afa');\n",
              "          const dataTable =\n",
              "            await google.colab.kernel.invokeFunction('convertToInteractive',\n",
              "                                                     [key], {});\n",
              "          if (!dataTable) return;\n",
              "\n",
              "          const docLinkHtml = 'Like what you see? Visit the ' +\n",
              "            '<a target=\"_blank\" href=https://colab.research.google.com/notebooks/data_table.ipynb>data table notebook</a>'\n",
              "            + ' to learn more about interactive tables.';\n",
              "          element.innerHTML = '';\n",
              "          dataTable['output_type'] = 'display_data';\n",
              "          await google.colab.output.renderOutput(dataTable, element);\n",
              "          const docLink = document.createElement('div');\n",
              "          docLink.innerHTML = docLinkHtml;\n",
              "          element.appendChild(docLink);\n",
              "        }\n",
              "      </script>\n",
              "    </div>\n",
              "  </div>\n",
              "  "
            ]
          },
          "metadata": {},
          "execution_count": 9
        }
      ],
      "source": [
        "data.head()"
      ]
    },
    {
      "cell_type": "markdown",
      "source": [
        "This is the spanish language model that we are going to use to train the model:"
      ],
      "metadata": {
        "id": "mezYH7A_JgY7"
      }
    },
    {
      "cell_type": "code",
      "execution_count": null,
      "metadata": {
        "colab": {
          "base_uri": "https://localhost:8080/"
        },
        "id": "AdsQXlD3Ugxa",
        "outputId": "2b076659-0ae1-487a-bd44-fe388334eccb"
      },
      "outputs": [
        {
          "output_type": "stream",
          "name": "stdout",
          "text": [
            "2023-05-30 18:48:19.522559: W tensorflow/compiler/tf2tensorrt/utils/py_utils.cc:38] TF-TRT Warning: Could not find TensorRT\n",
            "Looking in indexes: https://pypi.org/simple, https://us-python.pkg.dev/colab-wheels/public/simple/\n",
            "Collecting es-core-news-lg==3.5.0\n",
            "  Downloading https://github.com/explosion/spacy-models/releases/download/es_core_news_lg-3.5.0/es_core_news_lg-3.5.0-py3-none-any.whl (568.0 MB)\n",
            "\u001b[2K     \u001b[90m━━━━━━━━━━━━━━━━━━━━━━━━━━━━━━━━━━━━━\u001b[0m \u001b[32m568.0/568.0 MB\u001b[0m \u001b[31m823.8 kB/s\u001b[0m eta \u001b[36m0:00:00\u001b[0m\n",
            "\u001b[?25hRequirement already satisfied: spacy<3.6.0,>=3.5.0 in /usr/local/lib/python3.10/dist-packages (from es-core-news-lg==3.5.0) (3.5.2)\n",
            "Requirement already satisfied: spacy-legacy<3.1.0,>=3.0.11 in /usr/local/lib/python3.10/dist-packages (from spacy<3.6.0,>=3.5.0->es-core-news-lg==3.5.0) (3.0.12)\n",
            "Requirement already satisfied: spacy-loggers<2.0.0,>=1.0.0 in /usr/local/lib/python3.10/dist-packages (from spacy<3.6.0,>=3.5.0->es-core-news-lg==3.5.0) (1.0.4)\n",
            "Requirement already satisfied: murmurhash<1.1.0,>=0.28.0 in /usr/local/lib/python3.10/dist-packages (from spacy<3.6.0,>=3.5.0->es-core-news-lg==3.5.0) (1.0.9)\n",
            "Requirement already satisfied: cymem<2.1.0,>=2.0.2 in /usr/local/lib/python3.10/dist-packages (from spacy<3.6.0,>=3.5.0->es-core-news-lg==3.5.0) (2.0.7)\n",
            "Requirement already satisfied: preshed<3.1.0,>=3.0.2 in /usr/local/lib/python3.10/dist-packages (from spacy<3.6.0,>=3.5.0->es-core-news-lg==3.5.0) (3.0.8)\n",
            "Requirement already satisfied: thinc<8.2.0,>=8.1.8 in /usr/local/lib/python3.10/dist-packages (from spacy<3.6.0,>=3.5.0->es-core-news-lg==3.5.0) (8.1.9)\n",
            "Requirement already satisfied: wasabi<1.2.0,>=0.9.1 in /usr/local/lib/python3.10/dist-packages (from spacy<3.6.0,>=3.5.0->es-core-news-lg==3.5.0) (1.1.1)\n",
            "Requirement already satisfied: srsly<3.0.0,>=2.4.3 in /usr/local/lib/python3.10/dist-packages (from spacy<3.6.0,>=3.5.0->es-core-news-lg==3.5.0) (2.4.6)\n",
            "Requirement already satisfied: catalogue<2.1.0,>=2.0.6 in /usr/local/lib/python3.10/dist-packages (from spacy<3.6.0,>=3.5.0->es-core-news-lg==3.5.0) (2.0.8)\n",
            "Requirement already satisfied: typer<0.8.0,>=0.3.0 in /usr/local/lib/python3.10/dist-packages (from spacy<3.6.0,>=3.5.0->es-core-news-lg==3.5.0) (0.7.0)\n",
            "Requirement already satisfied: pathy>=0.10.0 in /usr/local/lib/python3.10/dist-packages (from spacy<3.6.0,>=3.5.0->es-core-news-lg==3.5.0) (0.10.1)\n",
            "Requirement already satisfied: smart-open<7.0.0,>=5.2.1 in /usr/local/lib/python3.10/dist-packages (from spacy<3.6.0,>=3.5.0->es-core-news-lg==3.5.0) (6.3.0)\n",
            "Requirement already satisfied: tqdm<5.0.0,>=4.38.0 in /usr/local/lib/python3.10/dist-packages (from spacy<3.6.0,>=3.5.0->es-core-news-lg==3.5.0) (4.65.0)\n",
            "Requirement already satisfied: numpy>=1.15.0 in /usr/local/lib/python3.10/dist-packages (from spacy<3.6.0,>=3.5.0->es-core-news-lg==3.5.0) (1.22.4)\n",
            "Requirement already satisfied: requests<3.0.0,>=2.13.0 in /usr/local/lib/python3.10/dist-packages (from spacy<3.6.0,>=3.5.0->es-core-news-lg==3.5.0) (2.27.1)\n",
            "Requirement already satisfied: pydantic!=1.8,!=1.8.1,<1.11.0,>=1.7.4 in /usr/local/lib/python3.10/dist-packages (from spacy<3.6.0,>=3.5.0->es-core-news-lg==3.5.0) (1.10.7)\n",
            "Requirement already satisfied: jinja2 in /usr/local/lib/python3.10/dist-packages (from spacy<3.6.0,>=3.5.0->es-core-news-lg==3.5.0) (3.1.2)\n",
            "Requirement already satisfied: setuptools in /usr/local/lib/python3.10/dist-packages (from spacy<3.6.0,>=3.5.0->es-core-news-lg==3.5.0) (67.7.2)\n",
            "Requirement already satisfied: packaging>=20.0 in /usr/local/lib/python3.10/dist-packages (from spacy<3.6.0,>=3.5.0->es-core-news-lg==3.5.0) (23.1)\n",
            "Requirement already satisfied: langcodes<4.0.0,>=3.2.0 in /usr/local/lib/python3.10/dist-packages (from spacy<3.6.0,>=3.5.0->es-core-news-lg==3.5.0) (3.3.0)\n",
            "Requirement already satisfied: typing-extensions>=4.2.0 in /usr/local/lib/python3.10/dist-packages (from pydantic!=1.8,!=1.8.1,<1.11.0,>=1.7.4->spacy<3.6.0,>=3.5.0->es-core-news-lg==3.5.0) (4.5.0)\n",
            "Requirement already satisfied: urllib3<1.27,>=1.21.1 in /usr/local/lib/python3.10/dist-packages (from requests<3.0.0,>=2.13.0->spacy<3.6.0,>=3.5.0->es-core-news-lg==3.5.0) (1.26.15)\n",
            "Requirement already satisfied: certifi>=2017.4.17 in /usr/local/lib/python3.10/dist-packages (from requests<3.0.0,>=2.13.0->spacy<3.6.0,>=3.5.0->es-core-news-lg==3.5.0) (2022.12.7)\n",
            "Requirement already satisfied: charset-normalizer~=2.0.0 in /usr/local/lib/python3.10/dist-packages (from requests<3.0.0,>=2.13.0->spacy<3.6.0,>=3.5.0->es-core-news-lg==3.5.0) (2.0.12)\n",
            "Requirement already satisfied: idna<4,>=2.5 in /usr/local/lib/python3.10/dist-packages (from requests<3.0.0,>=2.13.0->spacy<3.6.0,>=3.5.0->es-core-news-lg==3.5.0) (3.4)\n",
            "Requirement already satisfied: blis<0.8.0,>=0.7.8 in /usr/local/lib/python3.10/dist-packages (from thinc<8.2.0,>=8.1.8->spacy<3.6.0,>=3.5.0->es-core-news-lg==3.5.0) (0.7.9)\n",
            "Requirement already satisfied: confection<1.0.0,>=0.0.1 in /usr/local/lib/python3.10/dist-packages (from thinc<8.2.0,>=8.1.8->spacy<3.6.0,>=3.5.0->es-core-news-lg==3.5.0) (0.0.4)\n",
            "Requirement already satisfied: click<9.0.0,>=7.1.1 in /usr/local/lib/python3.10/dist-packages (from typer<0.8.0,>=0.3.0->spacy<3.6.0,>=3.5.0->es-core-news-lg==3.5.0) (8.1.3)\n",
            "Requirement already satisfied: MarkupSafe>=2.0 in /usr/local/lib/python3.10/dist-packages (from jinja2->spacy<3.6.0,>=3.5.0->es-core-news-lg==3.5.0) (2.1.2)\n",
            "Installing collected packages: es-core-news-lg\n",
            "Successfully installed es-core-news-lg-3.5.0\n",
            "\u001b[38;5;2m✔ Download and installation successful\u001b[0m\n",
            "You can now load the package via spacy.load('es_core_news_lg')\n"
          ]
        }
      ],
      "source": [
        "!python -m spacy download es_core_news_lg"
      ]
    },
    {
      "cell_type": "code",
      "execution_count": null,
      "metadata": {
        "colab": {
          "base_uri": "https://localhost:8080/"
        },
        "id": "tiwvy5v8UT_M",
        "outputId": "9da3c836-1dfd-43a7-8eed-1015406eb399"
      },
      "outputs": [
        {
          "output_type": "execute_result",
          "data": {
            "text/plain": [
              "<spacy.lang.es.Spanish at 0x7f6a6a1229b0>"
            ]
          },
          "metadata": {},
          "execution_count": 80
        }
      ],
      "source": [
        "nlp = spacy.load('es_core_news_lg')\n",
        "nlp"
      ]
    },
    {
      "cell_type": "markdown",
      "source": [
        "## Training and validation split:"
      ],
      "metadata": {
        "id": "zfa6WqndLp-U"
      }
    },
    {
      "cell_type": "markdown",
      "source": [
        "In this part split the data into train and validation sets"
      ],
      "metadata": {
        "id": "60shFkp7OSFN"
      }
    },
    {
      "cell_type": "code",
      "execution_count": null,
      "metadata": {
        "colab": {
          "base_uri": "https://localhost:8080/"
        },
        "id": "gXS3_RsQ3PuP",
        "outputId": "23c21140-2b34-4abe-d958-95a87b3b4387"
      },
      "outputs": [
        {
          "output_type": "stream",
          "name": "stdout",
          "text": [
            "{'text': \" nº historia clinica: ** *** *** nºepisodi: ******** sexe: dona data de naixement: 06.06.1938 edat: 79 anys procedencia domicil/res.soc servei psiquiatria data d'ingres 10.05.2018 data d'alta 10.05.2018 16:46:41 ates per ****************, ************; *************, assumpta informe d'alta d'hospitalitzacio motiu d'ingres paciente de 79 años que acude derivada a urgencias de psiquiatria tras sim. antecedents -sin alergias mediamentosas conocidas - hipertension arterial en tratamiento farmaoclogico con tres farmacos. - dislipemia en tratamiento farmacologico. - sindrome ansioso depresivo de larga evolucion actualmente en tratamiento con venlafaxina y sertralina. refiere primera vinculacion con red de salud mental en el 2013 a raiz de la muerte desu marido, con sentimientos de tristeza, soledad, rumiaciones respecto a su marido y su muerte e importanteclinica ansiosa. se vincula a csma sant andreu donde inician tratamiento farmacologico con paroxetina sinseguimiento posterior. consta informe del alta de csma de zona de febrero 2016 dandose de alta debido a mejoria completa del t. depresivo mayor con tratamiento al alta de sertralina 100 mg 1-0-0, y se deriva a seguimiento por mcap. -acudio en abril de 2018 por sobreingesta medicamentosa on venlafaxina, lorazepam, valsrtan/hidroclorotiazida respondiendo a flumazenilo. ssf: viuda, sin hijos. tiene un hermano con el que tiene contacto en barcelona. vive en apartamentos tutelados mutuam collserola. deterioro cognitivo leve-moderado. medicacio habitual venlafaxina 75 mg cada 24 horas, amlodipino 5 mg cada 24 horas, atorvastatina 40 mg cada 24 horas, deprax 100 mg cada 24 horas, omeprazol 20 mg cada 24 horas, orfidal 1 mg cada 24 horas, sertralina 100 mg cada 24 horas, valsartan/hidroclorotiazida160/25 mg cada 24 horas. proces actual paciente que acude a urgencias de psiquiatria tars haber sido estabilizada en urgencias generales, tras sim con paracetamol y orfidal. la paciente refiere dicha sim en contexto de algias, no refiriendo una ideacion suicida clara. tras ser descubierta en centro residencial solicitan derivacion a huvh para valoracion. exploracio fisica epp a su llegada a urgencias de psiquiatria: consciente y vigil. orientada en tres esferas. constacto sintonico. aspecto conservado. fallos mnesicos aunque globalmente orientada en tres esferas. discurso epsontaneo y fluido, normoprosodico, sin alteraciones en el contenido del pensamiento. humor resonante y reactivo. ligera hipotimia referida, no evidenciando alteraciones endogenomorfas en el esatdo de animo. no ideacion suicida estructurada en el momento actual. correcta proyeccion vital. critica adecuada. no alteraciones en la sensopercepcion ni otras alteraciones dentro de la esfera psicotica. no auto ni heteroagresiva. normosomnia. normorexia. juicio de la realidad preservado. correcto insight. nhc ** *** *** (********) age-v-psq 1/2 lopd evolucio clinica la paciente se muestra correcta y normativa en todo momento, mostrando un humor resonante y reactivo a su situacion actual. impresiona deterioro cognitivo progresivo, mas que afectacion en el humor. contacto con centro residencial explicando idoneidad de permanecer en centro residencial en lugar de los apartamentos donde residia hasta el momento, dado que la paciente necesita mayor supervision. asi mismo vigilar el acceso a la medicacion que tenga la paciente, siendo administrada unicamente por el personal de la residencia. contacto con familiares que se muestran de acuerdo con el plan establecido. control derivacion a centro residencial mutuam corserolla. destinacio a l'alta: a domicili nhc ** *** *** (********) age-v-psq 2/2 lopd\", 'entities': [(1350, 1354, 'NEG'), (1996, 1999, 'NEG'), (2385, 2389, 'NEG'), (2490, 2493, 'NEG'), (2557, 2560, 'NEG'), (2657, 2660, 'NEG'), (2748, 2751, 'NEG'), (3038, 3049, 'UNC'), (3049, 3080, 'USCO'), (1354, 1359, 'NSCO'), (414, 417, 'NEG'), (418, 450, 'NSCO'), (2389, 2433, 'NSCO'), (2493, 2555, 'NSCO'), (2560, 2610, 'NSCO'), (2660, 2746, 'NSCO'), (2751, 2773, 'NSCO'), (1999, 2036, 'NSCO')]}\n"
          ]
        }
      ],
      "source": [
        "training_data = []\n",
        "for text, labels_list in zip(data['text'], data['labels']):\n",
        "  temp_dict = {}\n",
        "  temp_dict['text'] = text\n",
        "  temp_dict['entities'] = []\n",
        "  for label in labels_list:\n",
        "    start = label[0]\n",
        "    end = label[1]\n",
        "    label = label[2].upper()\n",
        "    temp_dict['entities'].append((start, end, label))\n",
        "  training_data.append(temp_dict)\n",
        "  \n",
        "print(training_data[0])"
      ]
    },
    {
      "cell_type": "code",
      "execution_count": null,
      "metadata": {
        "colab": {
          "base_uri": "https://localhost:8080/"
        },
        "id": "3ThOT73rF1pY",
        "outputId": "7268c7c4-e464-4ad3-f876-bb8fff701297"
      },
      "outputs": [
        {
          "output_type": "execute_result",
          "data": {
            "text/plain": [
              "319"
            ]
          },
          "metadata": {},
          "execution_count": 12
        }
      ],
      "source": [
        "len(training_data)"
      ]
    },
    {
      "cell_type": "code",
      "execution_count": null,
      "metadata": {
        "id": "XRczF6fvF8EK"
      },
      "outputs": [],
      "source": [
        "validation_data = training_data[300:]\n",
        "training_data = training_data[: len(training_data) - len(validation_data)]"
      ]
    },
    {
      "cell_type": "code",
      "execution_count": null,
      "metadata": {
        "colab": {
          "base_uri": "https://localhost:8080/"
        },
        "id": "B9zFMCr7GSpk",
        "outputId": "ba188e94-bae0-4cac-dc02-935569f2edfe"
      },
      "outputs": [
        {
          "output_type": "stream",
          "name": "stdout",
          "text": [
            "training set has 300 texts and the validation set has 19 texts\n"
          ]
        }
      ],
      "source": [
        "print(f'training set has {len(training_data)} texts and the validation set has {len(validation_data)} texts')"
      ]
    },
    {
      "cell_type": "code",
      "execution_count": null,
      "metadata": {
        "colab": {
          "base_uri": "https://localhost:8080/",
          "height": 143
        },
        "id": "oOvb8JZI3doC",
        "outputId": "1b6c5e49-1dc9-4157-9507-90b1488ab0c1"
      },
      "outputs": [
        {
          "output_type": "execute_result",
          "data": {
            "text/plain": [
              "\" nº historia clinica: ** *** *** nºepisodi: ******** sexe: dona data de naixement: 06.06.1938 edat: 79 anys procedencia domicil/res.soc servei psiquiatria data d'ingres 10.05.2018 data d'alta 10.05.2018 16:46:41 ates per ****************, ************; *************, assumpta informe d'alta d'hospitalitzacio motiu d'ingres paciente de 79 años que acude derivada a urgencias de psiquiatria tras sim. antecedents -sin alergias mediamentosas conocidas - hipertension arterial en tratamiento farmaoclogico con tres farmacos. - dislipemia en tratamiento farmacologico. - sindrome ansioso depresivo de larga evolucion actualmente en tratamiento con venlafaxina y sertralina. refiere primera vinculacion con red de salud mental en el 2013 a raiz de la muerte desu marido, con sentimientos de tristeza, soledad, rumiaciones respecto a su marido y su muerte e importanteclinica ansiosa. se vincula a csma sant andreu donde inician tratamiento farmacologico con paroxetina sinseguimiento posterior. consta informe del alta de csma de zona de febrero 2016 dandose de alta debido a mejoria completa del t. depresivo mayor con tratamiento al alta de sertralina 100 mg 1-0-0, y se deriva a seguimiento por mcap. -acudio en abril de 2018 por sobreingesta medicamentosa on venlafaxina, lorazepam, valsrtan/hidroclorotiazida respondiendo a flumazenilo. ssf: viuda, sin hijos. tiene un hermano con el que tiene contacto en barcelona. vive en apartamentos tutelados mutuam collserola. deterioro cognitivo leve-moderado. medicacio habitual venlafaxina 75 mg cada 24 horas, amlodipino 5 mg cada 24 horas, atorvastatina 40 mg cada 24 horas, deprax 100 mg cada 24 horas, omeprazol 20 mg cada 24 horas, orfidal 1 mg cada 24 horas, sertralina 100 mg cada 24 horas, valsartan/hidroclorotiazida160/25 mg cada 24 horas. proces actual paciente que acude a urgencias de psiquiatria tars haber sido estabilizada en urgencias generales, tras sim con paracetamol y orfidal. la paciente refiere dicha sim en contexto de algias, no refiriendo una ideacion suicida clara. tras ser descubierta en centro residencial solicitan derivacion a huvh para valoracion. exploracio fisica epp a su llegada a urgencias de psiquiatria: consciente y vigil. orientada en tres esferas. constacto sintonico. aspecto conservado. fallos mnesicos aunque globalmente orientada en tres esferas. discurso epsontaneo y fluido, normoprosodico, sin alteraciones en el contenido del pensamiento. humor resonante y reactivo. ligera hipotimia referida, no evidenciando alteraciones endogenomorfas en el esatdo de animo. no ideacion suicida estructurada en el momento actual. correcta proyeccion vital. critica adecuada. no alteraciones en la sensopercepcion ni otras alteraciones dentro de la esfera psicotica. no auto ni heteroagresiva. normosomnia. normorexia. juicio de la realidad preservado. correcto insight. nhc ** *** *** (********) age-v-psq 1/2 lopd evolucio clinica la paciente se muestra correcta y normativa en todo momento, mostrando un humor resonante y reactivo a su situacion actual. impresiona deterioro cognitivo progresivo, mas que afectacion en el humor. contacto con centro residencial explicando idoneidad de permanecer en centro residencial en lugar de los apartamentos donde residia hasta el momento, dado que la paciente necesita mayor supervision. asi mismo vigilar el acceso a la medicacion que tenga la paciente, siendo administrada unicamente por el personal de la residencia. contacto con familiares que se muestran de acuerdo con el plan establecido. control derivacion a centro residencial mutuam corserolla. destinacio a l'alta: a domicili nhc ** *** *** (********) age-v-psq 2/2 lopd\""
            ],
            "application/vnd.google.colaboratory.intrinsic+json": {
              "type": "string"
            }
          },
          "metadata": {},
          "execution_count": 15
        }
      ],
      "source": [
        "training_data[0]['text']"
      ]
    },
    {
      "cell_type": "code",
      "execution_count": null,
      "metadata": {
        "colab": {
          "base_uri": "https://localhost:8080/"
        },
        "id": "a1vLiWdK3ma6",
        "outputId": "1ef3a4da-872e-4c06-e160-103cdbc9a67c"
      },
      "outputs": [
        {
          "output_type": "execute_result",
          "data": {
            "text/plain": [
              "[(1350, 1354, 'NEG'),\n",
              " (1996, 1999, 'NEG'),\n",
              " (2385, 2389, 'NEG'),\n",
              " (2490, 2493, 'NEG'),\n",
              " (2557, 2560, 'NEG'),\n",
              " (2657, 2660, 'NEG'),\n",
              " (2748, 2751, 'NEG'),\n",
              " (3038, 3049, 'UNC'),\n",
              " (3049, 3080, 'USCO'),\n",
              " (1354, 1359, 'NSCO'),\n",
              " (414, 417, 'NEG'),\n",
              " (418, 450, 'NSCO'),\n",
              " (2389, 2433, 'NSCO'),\n",
              " (2493, 2555, 'NSCO'),\n",
              " (2560, 2610, 'NSCO'),\n",
              " (2660, 2746, 'NSCO'),\n",
              " (2751, 2773, 'NSCO'),\n",
              " (1999, 2036, 'NSCO')]"
            ]
          },
          "metadata": {},
          "execution_count": 61
        }
      ],
      "source": [
        "training_data[0]['entities']"
      ]
    },
    {
      "cell_type": "code",
      "execution_count": null,
      "metadata": {
        "colab": {
          "base_uri": "https://localhost:8080/",
          "height": 35
        },
        "id": "vWYU8pQ83zmg",
        "outputId": "b3a5704d-07b7-4e32-cebc-fa8d02c824e0"
      },
      "outputs": [
        {
          "output_type": "execute_result",
          "data": {
            "text/plain": [
              "'sin '"
            ],
            "application/vnd.google.colaboratory.intrinsic+json": {
              "type": "string"
            }
          },
          "metadata": {},
          "execution_count": 63
        }
      ],
      "source": [
        "training_data[0]['text'][1350:1354] # the first  word labeled in the first text"
      ]
    },
    {
      "cell_type": "markdown",
      "source": [
        "## Serialized format:"
      ],
      "metadata": {
        "id": "kPI7J6dIQUMl"
      }
    },
    {
      "cell_type": "markdown",
      "source": [
        "Now we transform the data into a serialized format (.spacy) that can be used for training a Named Entity Recognition (NER) model in SpaCy."
      ],
      "metadata": {
        "id": "d3NlLpBdPHCL"
      }
    },
    {
      "cell_type": "code",
      "execution_count": null,
      "metadata": {
        "id": "ZrbrxWEi3qLJ"
      },
      "outputs": [],
      "source": [
        "# Import the DocBin class for creating binary data from \"Doc\" objects\n",
        "from spacy.tokens import DocBin\n",
        "# Import tqdm for creating progress bars\n",
        "from tqdm import tqdm\n",
        "\n",
        "# Create a DocBin object for storing Doc objects\n",
        "doc_bin = DocBin()"
      ]
    },
    {
      "cell_type": "code",
      "execution_count": null,
      "metadata": {
        "colab": {
          "base_uri": "https://localhost:8080/"
        },
        "id": "jBd4mdq039Ag",
        "outputId": "1095d2f7-fd2e-47de-a9f3-3ad961a74dd2"
      },
      "outputs": [
        {
          "output_type": "stream",
          "name": "stderr",
          "text": [
            "  1%|▏         | 4/300 [00:00<00:07, 37.67it/s]"
          ]
        },
        {
          "output_type": "stream",
          "name": "stdout",
          "text": [
            "Skipping entity\n"
          ]
        },
        {
          "output_type": "stream",
          "name": "stderr",
          "text": [
            "  6%|▋         | 19/300 [00:00<00:07, 38.40it/s]"
          ]
        },
        {
          "output_type": "stream",
          "name": "stdout",
          "text": [
            "Skipping entity\n"
          ]
        },
        {
          "output_type": "stream",
          "name": "stderr",
          "text": [
            " 14%|█▍        | 43/300 [00:00<00:04, 58.14it/s]"
          ]
        },
        {
          "output_type": "stream",
          "name": "stdout",
          "text": [
            "Skipping entity\n",
            "Skipping entity\n",
            "Skipping entity\n",
            "Skipping entity\n",
            "Skipping entity\n"
          ]
        },
        {
          "output_type": "stream",
          "name": "stderr",
          "text": [
            " 21%|██        | 63/300 [00:01<00:03, 62.24it/s]"
          ]
        },
        {
          "output_type": "stream",
          "name": "stdout",
          "text": [
            "Skipping entity\n",
            "Skipping entity\n",
            "Skipping entity\n",
            "Skipping entity\n"
          ]
        },
        {
          "output_type": "stream",
          "name": "stderr",
          "text": [
            " 26%|██▋       | 79/300 [00:01<00:03, 65.21it/s]"
          ]
        },
        {
          "output_type": "stream",
          "name": "stdout",
          "text": [
            "Skipping entity\n",
            "Skipping entity\n",
            "Skipping entity\n",
            "Skipping entity\n",
            "Skipping entity\n"
          ]
        },
        {
          "output_type": "stream",
          "name": "stderr",
          "text": [
            " 33%|███▎      | 100/300 [00:01<00:03, 61.02it/s]"
          ]
        },
        {
          "output_type": "stream",
          "name": "stdout",
          "text": [
            "Skipping entity\n",
            "Skipping entity\n"
          ]
        },
        {
          "output_type": "stream",
          "name": "stderr",
          "text": [
            " 41%|████      | 123/300 [00:02<00:02, 66.91it/s]"
          ]
        },
        {
          "output_type": "stream",
          "name": "stdout",
          "text": [
            "Skipping entity\n",
            "Skipping entity\n",
            "Skipping entity\n",
            "Skipping entity\n",
            "Skipping entity\n",
            "Skipping entity\n",
            "Skipping entity\n"
          ]
        },
        {
          "output_type": "stream",
          "name": "stderr",
          "text": [
            " 48%|████▊     | 145/300 [00:02<00:02, 68.74it/s]"
          ]
        },
        {
          "output_type": "stream",
          "name": "stdout",
          "text": [
            "Skipping entity\n",
            "Skipping entity\n",
            "Skipping entity\n",
            "Skipping entity\n",
            "Skipping entity\n",
            "Skipping entity\n",
            "Skipping entity\n",
            "Skipping entity\n",
            "Skipping entity\n",
            "Skipping entity\n"
          ]
        },
        {
          "output_type": "stream",
          "name": "stderr",
          "text": [
            " 56%|█████▌    | 168/300 [00:03<00:03, 37.75it/s]"
          ]
        },
        {
          "output_type": "stream",
          "name": "stdout",
          "text": [
            "Skipping entity\n",
            "Skipping entity\n",
            "Skipping entity\n"
          ]
        },
        {
          "output_type": "stream",
          "name": "stderr",
          "text": [
            " 63%|██████▎   | 190/300 [00:03<00:01, 55.45it/s]"
          ]
        },
        {
          "output_type": "stream",
          "name": "stdout",
          "text": [
            "Skipping entity\n"
          ]
        },
        {
          "output_type": "stream",
          "name": "stderr",
          "text": [
            " 69%|██████▊   | 206/300 [00:03<00:01, 59.51it/s]"
          ]
        },
        {
          "output_type": "stream",
          "name": "stdout",
          "text": [
            "Skipping entity\n",
            "Skipping entity\n",
            "Skipping entity\n"
          ]
        },
        {
          "output_type": "stream",
          "name": "stderr",
          "text": [
            " 76%|███████▌  | 228/300 [00:04<00:01, 62.42it/s]"
          ]
        },
        {
          "output_type": "stream",
          "name": "stdout",
          "text": [
            "Skipping entity\n"
          ]
        },
        {
          "output_type": "stream",
          "name": "stderr",
          "text": [
            "\r 78%|███████▊  | 235/300 [00:04<00:01, 59.84it/s]"
          ]
        },
        {
          "output_type": "stream",
          "name": "stdout",
          "text": [
            "Skipping entity\n",
            "Skipping entity\n",
            "Skipping entity\n",
            "Skipping entity\n",
            "Skipping entity\n",
            "Skipping entity\n"
          ]
        },
        {
          "output_type": "stream",
          "name": "stderr",
          "text": [
            " 83%|████████▎ | 248/300 [00:04<00:01, 47.46it/s]"
          ]
        },
        {
          "output_type": "stream",
          "name": "stdout",
          "text": [
            "Skipping entity\n",
            "Skipping entity\n",
            "Skipping entity\n",
            "Skipping entity\n",
            "Skipping entity\n",
            "Skipping entity\n"
          ]
        },
        {
          "output_type": "stream",
          "name": "stderr",
          "text": [
            " 87%|████████▋ | 262/300 [00:04<00:00, 50.62it/s]"
          ]
        },
        {
          "output_type": "stream",
          "name": "stdout",
          "text": [
            "Skipping entity\n"
          ]
        },
        {
          "output_type": "stream",
          "name": "stderr",
          "text": [
            " 91%|█████████▏| 274/300 [00:05<00:00, 46.25it/s]"
          ]
        },
        {
          "output_type": "stream",
          "name": "stdout",
          "text": [
            "Skipping entity\n",
            "Skipping entity\n",
            "Skipping entity\n",
            "Skipping entity\n",
            "Skipping entity\n",
            "Skipping entity\n"
          ]
        },
        {
          "output_type": "stream",
          "name": "stderr",
          "text": [
            "\r 93%|█████████▎| 279/300 [00:05<00:00, 44.94it/s]"
          ]
        },
        {
          "output_type": "stream",
          "name": "stdout",
          "text": [
            "Skipping entity\n",
            "Skipping entity\n",
            "Skipping entity\n",
            "Skipping entity\n",
            "Skipping entity\n",
            "Skipping entity\n",
            "Skipping entity\n"
          ]
        },
        {
          "output_type": "stream",
          "name": "stderr",
          "text": [
            " 97%|█████████▋| 290/300 [00:05<00:00, 42.92it/s]"
          ]
        },
        {
          "output_type": "stream",
          "name": "stdout",
          "text": [
            "Skipping entity\n",
            "Skipping entity\n",
            "Skipping entity\n",
            "Skipping entity\n"
          ]
        },
        {
          "output_type": "stream",
          "name": "stderr",
          "text": [
            "\r 98%|█████████▊| 295/300 [00:05<00:00, 35.72it/s]"
          ]
        },
        {
          "output_type": "stream",
          "name": "stdout",
          "text": [
            "Skipping entity\n",
            "Skipping entity\n",
            "Skipping entity\n",
            "Skipping entity\n",
            "Skipping entity\n"
          ]
        },
        {
          "output_type": "stream",
          "name": "stderr",
          "text": [
            "100%|██████████| 300/300 [00:05<00:00, 51.00it/s]\n"
          ]
        }
      ],
      "source": [
        "# Import the function for filtering overlapping spans\n",
        "from spacy.util import filter_spans\n",
        "\n",
        "\n",
        "# Iterate over each example in the training data\n",
        "for training_example  in tqdm(training_data):\n",
        "\n",
        "    text = training_example['text']\n",
        "\n",
        "    # Extract the entity labels from the current example\n",
        "    labels = training_example['entities']\n",
        "\n",
        "    # Create a Doc object from the text\n",
        "    doc = nlp.make_doc(text) \n",
        "\n",
        "    # Create an empty list to store the entity spans\n",
        "    ents = []\n",
        "\n",
        "    # Iterate over each entity label\n",
        "    for start, end, label in labels:\n",
        "        # Create a Span object for the current entity\n",
        "        span = doc.char_span(start, end, label=label, alignment_mode=\"contract\")\n",
        "        \n",
        "        # If a span could not be created, print a warning and skip this entity\n",
        "        if span is None:\n",
        "            print(\"Skipping entity\")\n",
        "        else:\n",
        "            # If a span was successfully created, add it to the list of spans\n",
        "            ents.append(span)\n",
        "\n",
        "    # Filter out overlapping spans\n",
        "    filtered_ents = filter_spans(ents)\n",
        "    \n",
        "    # Assign the list of non-overlapping spans to the \"ents\" attribute of the Doc object\n",
        "    doc.ents = filtered_ents \n",
        "    \n",
        "    # Add the Doc object to the DocBin\n",
        "    doc_bin.add(doc)\n",
        "\n",
        "# Write the DocBin to disk in binary format\n",
        "doc_bin.to_disk(\"train.spacy\") \n"
      ]
    },
    {
      "cell_type": "code",
      "execution_count": null,
      "metadata": {
        "colab": {
          "base_uri": "https://localhost:8080/"
        },
        "id": "KkuCMttTO3gU",
        "outputId": "22d36ac9-9273-455d-b3fd-ff71400d0454"
      },
      "outputs": [
        {
          "output_type": "stream",
          "name": "stderr",
          "text": [
            " 42%|████▏     | 8/19 [00:00<00:00, 32.84it/s]"
          ]
        },
        {
          "output_type": "stream",
          "name": "stdout",
          "text": [
            "Skipping entity\n",
            "Skipping entity\n",
            "Skipping entity\n",
            "Skipping entity\n",
            "Skipping entity\n",
            "Skipping entity\n",
            "Skipping entity\n"
          ]
        },
        {
          "output_type": "stream",
          "name": "stderr",
          "text": [
            "100%|██████████| 19/19 [00:00<00:00, 37.28it/s]\n"
          ]
        },
        {
          "output_type": "stream",
          "name": "stdout",
          "text": [
            "Skipping entity\n",
            "Skipping entity\n",
            "Skipping entity\n"
          ]
        }
      ],
      "source": [
        "# Iterate over each example in the validation data\n",
        "for val_example  in tqdm(validation_data):\n",
        "    text = val_example['text']\n",
        "\n",
        "    # Extract the entity labels from the current example\n",
        "    labels = val_example['entities']\n",
        "\n",
        "    # Create a Doc object from the text\n",
        "    doc = nlp.make_doc(text) \n",
        "\n",
        "    # Create an empty list to store the entity spans\n",
        "    ents = []\n",
        "\n",
        "    # Iterate over each entity label\n",
        "    for start, end, label in labels:\n",
        "        # Create a Span object for the current entity\n",
        "        span = doc.char_span(start, end, label=label, alignment_mode=\"contract\")\n",
        "        \n",
        "        # If a span could not be created, print a warning and skip this entity\n",
        "        if span is None:\n",
        "            print(\"Skipping entity\")\n",
        "        else:\n",
        "            # If a span was successfully created, add it to the list of spans\n",
        "            ents.append(span)\n",
        "\n",
        "    # Filter out overlapping spans\n",
        "    filtered_ents = filter_spans(ents)\n",
        "    \n",
        "    # Assign the list of non-overlapping spans to the \"ents\" attribute of the Doc object\n",
        "    doc.ents = filtered_ents \n",
        "    \n",
        "    # Add the Doc object to the DocBin\n",
        "    doc_bin.add(doc)\n",
        "\n",
        "# Write the DocBin to disk in binary format\n",
        "doc_bin.to_disk(\"validation.spacy\") \n"
      ]
    },
    {
      "cell_type": "markdown",
      "source": [
        "## Training the model"
      ],
      "metadata": {
        "id": "gM_NBdEgSczq"
      }
    },
    {
      "cell_type": "markdown",
      "source": [
        "For training the model we need a configuration file that defines the training configuration, batch size, number of epochs and other options."
      ],
      "metadata": {
        "id": "lo4OhputSfVr"
      }
    },
    {
      "cell_type": "markdown",
      "source": [
        "The following is a link to generate the configuration file to create and train the model:"
      ],
      "metadata": {
        "id": "ZKNV8pqzUK1h"
      }
    },
    {
      "cell_type": "markdown",
      "source": [
        "If the model is already trained and saved, there is no need to run these lines, just load the model in the next section."
      ],
      "metadata": {
        "id": "0Hy0rx7ZSzk9"
      }
    },
    {
      "cell_type": "code",
      "execution_count": null,
      "metadata": {
        "id": "0AqYeEoS4avo"
      },
      "outputs": [],
      "source": [
        "# https://spacy.io/usage/training#quickstart"
      ]
    },
    {
      "cell_type": "code",
      "execution_count": null,
      "metadata": {
        "colab": {
          "base_uri": "https://localhost:8080/"
        },
        "id": "gyg-6DXU5Dhu",
        "outputId": "619fd9f7-3b5c-4161-f8cb-f2b9e4774566"
      },
      "outputs": [
        {
          "output_type": "stream",
          "name": "stdout",
          "text": [
            "2023-05-24 16:15:41.757885: W tensorflow/compiler/tf2tensorrt/utils/py_utils.cc:38] TF-TRT Warning: Could not find TensorRT\n",
            "\u001b[38;5;2m✔ Auto-filled config with all values\u001b[0m\n",
            "\u001b[38;5;2m✔ Saved config\u001b[0m\n",
            "config.cfg\n",
            "You can now add your data and train your pipeline:\n",
            "python -m spacy train config.cfg --paths.train ./train.spacy --paths.dev ./dev.spacy\n"
          ]
        }
      ],
      "source": [
        "# Here is the initialization of the file of configurations\n",
        "!python -m spacy init fill-config base_config.cfg config.cfg"
      ]
    },
    {
      "cell_type": "code",
      "source": [
        "# This line starts the training of the model with the configurations given and the train set and validation set given.\n",
        "# The model is saved periodically to maintain the model with the best results.\n",
        "!python -m spacy train config.cfg --output ./ --paths.train ./train.spacy --paths.dev ./validation.spacy "
      ],
      "metadata": {
        "colab": {
          "base_uri": "https://localhost:8080/"
        },
        "id": "DPkfkR-ILbUk",
        "outputId": "401034bb-8ba6-4bcc-cade-8eac1cddcc14"
      },
      "execution_count": null,
      "outputs": [
        {
          "output_type": "stream",
          "name": "stdout",
          "text": [
            "2023-05-30 19:41:54.451807: W tensorflow/compiler/tf2tensorrt/utils/py_utils.cc:38] TF-TRT Warning: Could not find TensorRT\n",
            "\u001b[38;5;4mℹ Saving to output directory: .\u001b[0m\n",
            "\u001b[38;5;4mℹ Using CPU\u001b[0m\n",
            "\u001b[1m\n",
            "=========================== Initializing pipeline ===========================\u001b[0m\n",
            "[2023-05-30 19:41:59,188] [INFO] Set up nlp object from config\n",
            "[2023-05-30 19:41:59,207] [INFO] Pipeline: ['tok2vec', 'ner']\n",
            "[2023-05-30 19:41:59,212] [INFO] Created vocabulary\n",
            "[2023-05-30 19:42:05,343] [INFO] Added vectors: es_core_news_lg\n",
            "[2023-05-30 19:42:08,437] [INFO] Finished initializing nlp object\n",
            "[2023-05-30 19:42:37,117] [INFO] Initialized pipeline components: ['tok2vec', 'ner']\n",
            "\u001b[38;5;2m✔ Initialized pipeline\u001b[0m\n",
            "\u001b[1m\n",
            "============================= Training pipeline =============================\u001b[0m\n",
            "\u001b[38;5;4mℹ Pipeline: ['tok2vec', 'ner']\u001b[0m\n",
            "\u001b[38;5;4mℹ Initial learn rate: 0.001\u001b[0m\n",
            "E    #       LOSS TOK2VEC  LOSS NER  ENTS_F  ENTS_P  ENTS_R  SCORE \n",
            "---  ------  ------------  --------  ------  ------  ------  ------\n",
            "  0       0          0.00    403.50    0.31    0.19    0.79    0.00\n",
            "  0     200       1453.42  13665.84   70.17   72.65   67.85    0.70\n",
            "  1     400         87.97   3941.56   75.65   76.40   74.91    0.76\n",
            "  2     600         92.15   3559.76   63.63   67.42   60.25    0.64\n",
            "  2     800         91.16   3281.70   79.24   78.82   79.66    0.79\n",
            "  3    1000         87.64   2652.91   80.17   80.01   80.34    0.80\n",
            "  4    1200        109.57   2893.70   81.40   82.79   80.06    0.81\n",
            "  4    1400        165.48   2592.38   83.29   83.21   83.38    0.83\n",
            "  5    1600        176.68   2572.07   83.54   83.40   83.67    0.84\n",
            "  6    1800        206.61   2197.31   85.38   85.37   85.40    0.85\n",
            "  6    2000        253.70   2515.08   84.35   83.57   85.14    0.84\n",
            "  7    2200        219.90   1682.56   85.28   85.42   85.14    0.85\n",
            "  8    2400        350.76   2394.48   85.37   84.69   86.05    0.85\n",
            "  8    2600        335.05   1787.70   85.56   86.03   85.09    0.86\n",
            "  9    2800        452.29   2087.61   87.06   86.79   87.33    0.87\n",
            " 10    3000        328.42   1711.72   87.67   87.85   87.50    0.88\n",
            " 10    3200        447.87   1551.67   87.14   87.42   86.87    0.87\n",
            " 11    3400        619.46   1763.96   88.00   86.77   89.27    0.88\n",
            "\u001b[38;5;2m✔ Saved pipeline to output directory\u001b[0m\n",
            "model-last\n"
          ]
        }
      ]
    },
    {
      "cell_type": "markdown",
      "source": [
        "## Loading the model and predicting entities"
      ],
      "metadata": {
        "id": "a4Zjix9JS-2m"
      }
    },
    {
      "cell_type": "code",
      "source": [
        "from google.colab import drive\n",
        "drive.mount('/content/drive')"
      ],
      "metadata": {
        "colab": {
          "base_uri": "https://localhost:8080/"
        },
        "id": "UgZlTsfaYAaC",
        "outputId": "6deee2ca-5363-43f0-ee0c-781b0e59e301"
      },
      "execution_count": null,
      "outputs": [
        {
          "output_type": "stream",
          "name": "stdout",
          "text": [
            "Mounted at /content/drive\n"
          ]
        }
      ]
    },
    {
      "cell_type": "code",
      "execution_count": null,
      "metadata": {
        "id": "uYfhbE013Hmh"
      },
      "outputs": [],
      "source": [
        "# Here the model is loaded and is ready to be tested\n",
        "nlp_ner = spacy.load(\"/content/drive/MyDrive/nlp_project/model-last/model-best\") # insert the path of the folder where the model is saved. "
      ]
    },
    {
      "cell_type": "code",
      "source": [
        "import random # we use random to do random selections of text"
      ],
      "metadata": {
        "id": "YiPuvISltTwJ"
      },
      "execution_count": null,
      "outputs": []
    },
    {
      "cell_type": "markdown",
      "source": [
        "Here we give the model some texts from the data to predict the entities:"
      ],
      "metadata": {
        "id": "l0PDaeE8WqF8"
      }
    },
    {
      "cell_type": "code",
      "source": [
        "# first we tried using random texts from the whole data\n",
        "doc = nlp_ner(data['text'][random.choice(data.index)])\n",
        "\n",
        "colors = {\"NEG\": \"#FF0000\", \"NSCO\": \"#FFA500\", \"UNC\": \"#800080\", \"USCO\": \"#FFC0CB\"}\n",
        "options = {\"colors\": colors}\n",
        "\n",
        "spacy.displacy.render(doc, style=\"ent\", options= options, jupyter=True)"
      ],
      "metadata": {
        "id": "WvXXxfKpSoyK",
        "colab": {
          "base_uri": "https://localhost:8080/",
          "height": 1000
        },
        "outputId": "88a62c6f-79c4-48bb-e026-9e16569065e2"
      },
      "execution_count": null,
      "outputs": [
        {
          "output_type": "display_data",
          "data": {
            "text/plain": [
              "<IPython.core.display.HTML object>"
            ],
            "text/html": [
              "<span class=\"tex2jax_ignore\"><div class=\"entities\" style=\"line-height: 2.5; direction: ltr\"> nº historia clinica: ** *** *** nºepisodi: ******** sexe: dona data de naixement: 07.08.1943 edat: 74 anys procedencia domicil/res.soc servei gastroenterologia- ap data d'ingres 23.05.2018 data d'alta 28.05.2018 10:00:00 ates per equipo dr. ******* (dra. ********) informe d'alta d'hospitalitzacio motiu d'ingres paciente que ingresa en digestivo por pancreatitis aguda . antecedents \n",
              "<mark class=\"entity\" style=\"background: #FF0000; padding: 0.45em 0.6em; margin: 0 0.25em; line-height: 1; border-radius: 0.35em;\">\n",
              "    sin\n",
              "    <span style=\"font-size: 0.8em; font-weight: bold; line-height: 1; border-radius: 0.35em; vertical-align: middle; margin-left: 0.5rem\">NEG</span>\n",
              "</mark>\n",
              " \n",
              "<mark class=\"entity\" style=\"background: #FFA500; padding: 0.45em 0.6em; margin: 0 0.25em; line-height: 1; border-radius: 0.35em;\">\n",
              "    alergias medicamentosas conocidas\n",
              "    <span style=\"font-size: 0.8em; font-weight: bold; line-height: 1; border-radius: 0.35em; vertical-align: middle; margin-left: 0.5rem\">NSCO</span>\n",
              "</mark>\n",
              ". \n",
              "<mark class=\"entity\" style=\"background: #FF0000; padding: 0.45em 0.6em; margin: 0 0.25em; line-height: 1; border-radius: 0.35em;\">\n",
              "    no\n",
              "    <span style=\"font-size: 0.8em; font-weight: bold; line-height: 1; border-radius: 0.35em; vertical-align: middle; margin-left: 0.5rem\">NEG</span>\n",
              "</mark>\n",
              " \n",
              "<mark class=\"entity\" style=\"background: #FFA500; padding: 0.45em 0.6em; margin: 0 0.25em; line-height: 1; border-radius: 0.35em;\">\n",
              "    fumadora.\n",
              "    <span style=\"font-size: 0.8em; font-weight: bold; line-height: 1; border-radius: 0.35em; vertical-align: middle; margin-left: 0.5rem\">NSCO</span>\n",
              "</mark>\n",
              " consumo de etanol esporadico. antecedentes familiares: hermano con ca. orl. antecedentes medico-quirurgicos: - diabetes mellitus tipo 2 \n",
              "<mark class=\"entity\" style=\"background: #FF0000; padding: 0.45em 0.6em; margin: 0 0.25em; line-height: 1; border-radius: 0.35em;\">\n",
              "    sin\n",
              "    <span style=\"font-size: 0.8em; font-weight: bold; line-height: 1; border-radius: 0.35em; vertical-align: middle; margin-left: 0.5rem\">NEG</span>\n",
              "</mark>\n",
              " \n",
              "<mark class=\"entity\" style=\"background: #FFA500; padding: 0.45em 0.6em; margin: 0 0.25em; line-height: 1; border-radius: 0.35em;\">\n",
              "    tratamiento farmacologico\n",
              "    <span style=\"font-size: 0.8em; font-weight: bold; line-height: 1; border-radius: 0.35em; vertical-align: middle; margin-left: 0.5rem\">NSCO</span>\n",
              "</mark>\n",
              ". - hipertension arterial esencial a tratamiento con ara ii. - colecistectomia laparoscopica. - hernia de hiato . medicacio habitual lisinopril 10mg: un comprimido. omeprazol 20mg un comprimido diario. proces actual paciente mujer de 74 años que acude a urgencias por dolor en epigastrio e hipocondrio derecho, de 2 dias de evolucion, continuo e irradiado a espalda en cinturon. \n",
              "<mark class=\"entity\" style=\"background: #FF0000; padding: 0.45em 0.6em; margin: 0 0.25em; line-height: 1; border-radius: 0.35em;\">\n",
              "    no\n",
              "    <span style=\"font-size: 0.8em; font-weight: bold; line-height: 1; border-radius: 0.35em; vertical-align: middle; margin-left: 0.5rem\">NEG</span>\n",
              "</mark>\n",
              " \n",
              "<mark class=\"entity\" style=\"background: #FFA500; padding: 0.45em 0.6em; margin: 0 0.25em; line-height: 1; border-radius: 0.35em;\">\n",
              "    refiere sensacion nauseosa ni vomitos\n",
              "    <span style=\"font-size: 0.8em; font-weight: bold; line-height: 1; border-radius: 0.35em; vertical-align: middle; margin-left: 0.5rem\">NSCO</span>\n",
              "</mark>\n",
              ". \n",
              "<mark class=\"entity\" style=\"background: #FF0000; padding: 0.45em 0.6em; margin: 0 0.25em; line-height: 1; border-radius: 0.35em;\">\n",
              "    no\n",
              "    <span style=\"font-size: 0.8em; font-weight: bold; line-height: 1; border-radius: 0.35em; vertical-align: middle; margin-left: 0.5rem\">NEG</span>\n",
              "</mark>\n",
              " \n",
              "<mark class=\"entity\" style=\"background: #FFA500; padding: 0.45em 0.6em; margin: 0 0.25em; line-height: 1; border-radius: 0.35em;\">\n",
              "    refiere fiebre\n",
              "    <span style=\"font-size: 0.8em; font-weight: bold; line-height: 1; border-radius: 0.35em; vertical-align: middle; margin-left: 0.5rem\">NSCO</span>\n",
              "</mark>\n",
              ". \n",
              "<mark class=\"entity\" style=\"background: #FF0000; padding: 0.45em 0.6em; margin: 0 0.25em; line-height: 1; border-radius: 0.35em;\">\n",
              "    no\n",
              "    <span style=\"font-size: 0.8em; font-weight: bold; line-height: 1; border-radius: 0.35em; vertical-align: middle; margin-left: 0.5rem\">NEG</span>\n",
              "</mark>\n",
              " \n",
              "<mark class=\"entity\" style=\"background: #FFA500; padding: 0.45em 0.6em; margin: 0 0.25em; line-height: 1; border-radius: 0.35em;\">\n",
              "    explica alteraciones del ritmo deposicional ni sindrome miccional\n",
              "    <span style=\"font-size: 0.8em; font-weight: bold; line-height: 1; border-radius: 0.35em; vertical-align: middle; margin-left: 0.5rem\">NSCO</span>\n",
              "</mark>\n",
              ". \n",
              "<mark class=\"entity\" style=\"background: #FF0000; padding: 0.45em 0.6em; margin: 0 0.25em; line-height: 1; border-radius: 0.35em;\">\n",
              "    no\n",
              "    <span style=\"font-size: 0.8em; font-weight: bold; line-height: 1; border-radius: 0.35em; vertical-align: middle; margin-left: 0.5rem\">NEG</span>\n",
              "</mark>\n",
              " \n",
              "<mark class=\"entity\" style=\"background: #FFA500; padding: 0.45em 0.6em; margin: 0 0.25em; line-height: 1; border-radius: 0.35em;\">\n",
              "    coluria ni acolia.\n",
              "    <span style=\"font-size: 0.8em; font-weight: bold; line-height: 1; border-radius: 0.35em; vertical-align: middle; margin-left: 0.5rem\">NSCO</span>\n",
              "</mark>\n",
              " exploracio fisica consciente y orientada. normocoloreada y normohidratada. buen estado general, hemodinamicamente estable y \n",
              "<mark class=\"entity\" style=\"background: #FF0000; padding: 0.45em 0.6em; margin: 0 0.25em; line-height: 1; border-radius: 0.35em;\">\n",
              "    afebril\n",
              "    <span style=\"font-size: 0.8em; font-weight: bold; line-height: 1; border-radius: 0.35em; vertical-align: middle; margin-left: 0.5rem\">NEG</span>\n",
              "</mark>\n",
              ". abdomen globuloso a expensas de paniculo adiposo, depresible, doloroso a la palpacion en epigastrio e hipocondrio derecho, con defensa muscular. orificios herniarios libres. puñopercusion renal derecha \n",
              "<mark class=\"entity\" style=\"background: #800080; padding: 0.45em 0.6em; margin: 0 0.25em; line-height: 1; border-radius: 0.35em;\">\n",
              "    dudosamente\n",
              "    <span style=\"font-size: 0.8em; font-weight: bold; line-height: 1; border-radius: 0.35em; vertical-align: middle; margin-left: 0.5rem\">UNC</span>\n",
              "</mark>\n",
              " \n",
              "<mark class=\"entity\" style=\"background: #FFC0CB; padding: 0.45em 0.6em; margin: 0 0.25em; line-height: 1; border-radius: 0.35em;\">\n",
              "    positiva.\n",
              "    <span style=\"font-size: 0.8em; font-weight: bold; line-height: 1; border-radius: 0.35em; vertical-align: middle; margin-left: 0.5rem\">USCO</span>\n",
              "</mark>\n",
              " exploracio complementaria analitica general: hb 13.5, hto 40.9,leucocitos 10610, neutrofilos 68.6%, palquetas 242000, tq 87, glu 110, cr 0.50, brt/brd 0.76/0.33, ast/alt 27/16, fa/ggt 106/13, amilasa 37, pcr 7.98. nhc ** *** *** (********) age-v-gas 1/3 lopd analitica de control: hb 11.7, vcm 91, leucocitos 7550 (n 53.5%, l 37%), plaquetas 213000, quick 85%, inr 1.11, fibrinogeno 4.18, glucosa 251, urea 23, creat 0.57, fg&amp;gt;90, bt/bd 0.72/0.20, sodio 139.1, potasio 3.86, calcio 8.6, ast/alt 20/12, fa/ggt 86/11, amilasa pancreatica 24, proteina 6.6, pcr 7.15. sedimento orina : leucocituria y bacteriuria escasa. rx torax: \n",
              "<mark class=\"entity\" style=\"background: #FF0000; padding: 0.45em 0.6em; margin: 0 0.25em; line-height: 1; border-radius: 0.35em;\">\n",
              "    sin\n",
              "    <span style=\"font-size: 0.8em; font-weight: bold; line-height: 1; border-radius: 0.35em; vertical-align: middle; margin-left: 0.5rem\">NEG</span>\n",
              "</mark>\n",
              " \n",
              "<mark class=\"entity\" style=\"background: #FFA500; padding: 0.45em 0.6em; margin: 0 0.25em; line-height: 1; border-radius: 0.35em;\">\n",
              "    signos radiologicos sugestivos de patologia quirurgica urgente.\n",
              "    <span style=\"font-size: 0.8em; font-weight: bold; line-height: 1; border-radius: 0.35em; vertical-align: middle; margin-left: 0.5rem\">NSCO</span>\n",
              "</mark>\n",
              " rx abdomen: \n",
              "<mark class=\"entity\" style=\"background: #FFA500; padding: 0.45em 0.6em; margin: 0 0.25em; line-height: 1; border-radius: 0.35em;\">\n",
              "    luminograma\n",
              "    <span style=\"font-size: 0.8em; font-weight: bold; line-height: 1; border-radius: 0.35em; vertical-align: middle; margin-left: 0.5rem\">NSCO</span>\n",
              "</mark>\n",
              " \n",
              "<mark class=\"entity\" style=\"background: #FF0000; padding: 0.45em 0.6em; margin: 0 0.25em; line-height: 1; border-radius: 0.35em;\">\n",
              "    inespecifico.\n",
              "    <span style=\"font-size: 0.8em; font-weight: bold; line-height: 1; border-radius: 0.35em; vertical-align: middle; margin-left: 0.5rem\">NEG</span>\n",
              "</mark>\n",
              " tc abdomen : discreta cardiomegalia y calcificaciones coronarias. bases pulmonares \n",
              "<mark class=\"entity\" style=\"background: #FF0000; padding: 0.45em 0.6em; margin: 0 0.25em; line-height: 1; border-radius: 0.35em;\">\n",
              "    sin\n",
              "    <span style=\"font-size: 0.8em; font-weight: bold; line-height: 1; border-radius: 0.35em; vertical-align: middle; margin-left: 0.5rem\">NEG</span>\n",
              "</mark>\n",
              " \n",
              "<mark class=\"entity\" style=\"background: #FFA500; padding: 0.45em 0.6em; margin: 0 0.25em; line-height: 1; border-radius: 0.35em;\">\n",
              "    nodulos sospechosos ni condensaciones\n",
              "    <span style=\"font-size: 0.8em; font-weight: bold; line-height: 1; border-radius: 0.35em; vertical-align: middle; margin-left: 0.5rem\">NSCO</span>\n",
              "</mark>\n",
              ". pequeñas atelectasias laminares bibasales. cavidades pleurales \n",
              "<mark class=\"entity\" style=\"background: #FF0000; padding: 0.45em 0.6em; margin: 0 0.25em; line-height: 1; border-radius: 0.35em;\">\n",
              "    sin\n",
              "    <span style=\"font-size: 0.8em; font-weight: bold; line-height: 1; border-radius: 0.35em; vertical-align: middle; margin-left: 0.5rem\">NEG</span>\n",
              "</mark>\n",
              " \n",
              "<mark class=\"entity\" style=\"background: #FFA500; padding: 0.45em 0.6em; margin: 0 0.25em; line-height: 1; border-radius: 0.35em;\">\n",
              "    liquido ni engrosamientos.\n",
              "    <span style=\"font-size: 0.8em; font-weight: bold; line-height: 1; border-radius: 0.35em; vertical-align: middle; margin-left: 0.5rem\">NSCO</span>\n",
              "</mark>\n",
              " pequeña hernia de hiato por deslizamiento. parenquima hepatico homogeneo, de tamaño y morfologia dentro de la normalidad. pequeñas lesiones focales hipodensas a nivel de segmento i, ii y viii hepatico de aspecto quistico. \n",
              "<mark class=\"entity\" style=\"background: #FF0000; padding: 0.45em 0.6em; margin: 0 0.25em; line-height: 1; border-radius: 0.35em;\">\n",
              "    no\n",
              "    <span style=\"font-size: 0.8em; font-weight: bold; line-height: 1; border-radius: 0.35em; vertical-align: middle; margin-left: 0.5rem\">NEG</span>\n",
              "</mark>\n",
              " \n",
              "<mark class=\"entity\" style=\"background: #FFA500; padding: 0.45em 0.6em; margin: 0 0.25em; line-height: 1; border-radius: 0.35em;\">\n",
              "    se observan otras lesiones focales sospechosas.\n",
              "    <span style=\"font-size: 0.8em; font-weight: bold; line-height: 1; border-radius: 0.35em; vertical-align: middle; margin-left: 0.5rem\">NSCO</span>\n",
              "</mark>\n",
              " \n",
              "<mark class=\"entity\" style=\"background: #FFC0CB; padding: 0.45em 0.6em; margin: 0 0.25em; line-height: 1; border-radius: 0.35em;\">\n",
              "    clips de colecistectomia.\n",
              "    <span style=\"font-size: 0.8em; font-weight: bold; line-height: 1; border-radius: 0.35em; vertical-align: middle; margin-left: 0.5rem\">USCO</span>\n",
              "</mark>\n",
              " via biliar \n",
              "<mark class=\"entity\" style=\"background: #FF0000; padding: 0.45em 0.6em; margin: 0 0.25em; line-height: 1; border-radius: 0.35em;\">\n",
              "    no\n",
              "    <span style=\"font-size: 0.8em; font-weight: bold; line-height: 1; border-radius: 0.35em; vertical-align: middle; margin-left: 0.5rem\">NEG</span>\n",
              "</mark>\n",
              " \n",
              "<mark class=\"entity\" style=\"background: #FFA500; padding: 0.45em 0.6em; margin: 0 0.25em; line-height: 1; border-radius: 0.35em;\">\n",
              "    dilatada.\n",
              "    <span style=\"font-size: 0.8em; font-weight: bold; line-height: 1; border-radius: 0.35em; vertical-align: middle; margin-left: 0.5rem\">NSCO</span>\n",
              "</mark>\n",
              " eje espleno-mesenterico-portal permeable. cabeza pancreatica de aspecto globuloso, que asocia infiltracion y reticulacion de la grasa peripancreatica a este nivel y fina lamina de liquido asociada a nivel preaortico \n",
              "<mark class=\"entity\" style=\"background: #FF0000; padding: 0.45em 0.6em; margin: 0 0.25em; line-height: 1; border-radius: 0.35em;\">\n",
              "    sin\n",
              "    <span style=\"font-size: 0.8em; font-weight: bold; line-height: 1; border-radius: 0.35em; vertical-align: middle; margin-left: 0.5rem\">NEG</span>\n",
              "</mark>\n",
              " \n",
              "<mark class=\"entity\" style=\"background: #FFA500; padding: 0.45em 0.6em; margin: 0 0.25em; line-height: 1; border-radius: 0.35em;\">\n",
              "    observarse colecciones organizadas,\n",
              "    <span style=\"font-size: 0.8em; font-weight: bold; line-height: 1; border-radius: 0.35em; vertical-align: middle; margin-left: 0.5rem\">NSCO</span>\n",
              "</mark>\n",
              " hallazgos que \n",
              "<mark class=\"entity\" style=\"background: #800080; padding: 0.45em 0.6em; margin: 0 0.25em; line-height: 1; border-radius: 0.35em;\">\n",
              "    sugieren\n",
              "    <span style=\"font-size: 0.8em; font-weight: bold; line-height: 1; border-radius: 0.35em; vertical-align: middle; margin-left: 0.5rem\">UNC</span>\n",
              "</mark>\n",
              " \n",
              "<mark class=\"entity\" style=\"background: #FFC0CB; padding: 0.45em 0.6em; margin: 0 0.25em; line-height: 1; border-radius: 0.35em;\">\n",
              "    pancreatitis aguda a este nivel.\n",
              "    <span style=\"font-size: 0.8em; font-weight: bold; line-height: 1; border-radius: 0.35em; vertical-align: middle; margin-left: 0.5rem\">USCO</span>\n",
              "</mark>\n",
              " el cuerpo y la cola pancreatica se encuentran respetados. multiples ganglios a nivel retroperitoneal (preaorticos, aorto-cavos) de tamaño normal y aspecto reactivo, \n",
              "<mark class=\"entity\" style=\"background: #FF0000; padding: 0.45em 0.6em; margin: 0 0.25em; line-height: 1; border-radius: 0.35em;\">\n",
              "    sin\n",
              "    <span style=\"font-size: 0.8em; font-weight: bold; line-height: 1; border-radius: 0.35em; vertical-align: middle; margin-left: 0.5rem\">NEG</span>\n",
              "</mark>\n",
              " \n",
              "<mark class=\"entity\" style=\"background: #FFA500; padding: 0.45em 0.6em; margin: 0 0.25em; line-height: 1; border-radius: 0.35em;\">\n",
              "    observarse adenopatias aumentadas significativamente de tamaño.\n",
              "    <span style=\"font-size: 0.8em; font-weight: bold; line-height: 1; border-radius: 0.35em; vertical-align: middle; margin-left: 0.5rem\">NSCO</span>\n",
              "</mark>\n",
              " bazo y glandulas suprarrenales \n",
              "<mark class=\"entity\" style=\"background: #FF0000; padding: 0.45em 0.6em; margin: 0 0.25em; line-height: 1; border-radius: 0.35em;\">\n",
              "    sin\n",
              "    <span style=\"font-size: 0.8em; font-weight: bold; line-height: 1; border-radius: 0.35em; vertical-align: middle; margin-left: 0.5rem\">NEG</span>\n",
              "</mark>\n",
              " \n",
              "<mark class=\"entity\" style=\"background: #FFA500; padding: 0.45em 0.6em; margin: 0 0.25em; line-height: 1; border-radius: 0.35em;\">\n",
              "    alteraciones significativas\n",
              "    <span style=\"font-size: 0.8em; font-weight: bold; line-height: 1; border-radius: 0.35em; vertical-align: middle; margin-left: 0.5rem\">NSCO</span>\n",
              "</mark>\n",
              ". pequeño bazo accesorio en polo inferior esplenico. riñones de tamaño, morfologia y grosor cortical dentro de la normalidad, con captacion de contraste homogenea y simetrica. vias excretoras \n",
              "<mark class=\"entity\" style=\"background: #FF0000; padding: 0.45em 0.6em; margin: 0 0.25em; line-height: 1; border-radius: 0.35em;\">\n",
              "    no\n",
              "    <span style=\"font-size: 0.8em; font-weight: bold; line-height: 1; border-radius: 0.35em; vertical-align: middle; margin-left: 0.5rem\">NEG</span>\n",
              "</mark>\n",
              " \n",
              "<mark class=\"entity\" style=\"background: #FFA500; padding: 0.45em 0.6em; margin: 0 0.25em; line-height: 1; border-radius: 0.35em;\">\n",
              "    dilatadas\n",
              "    <span style=\"font-size: 0.8em; font-weight: bold; line-height: 1; border-radius: 0.35em; vertical-align: middle; margin-left: 0.5rem\">NSCO</span>\n",
              "</mark>\n",
              ". vejiga urinaria distendida \n",
              "<mark class=\"entity\" style=\"background: #FF0000; padding: 0.45em 0.6em; margin: 0 0.25em; line-height: 1; border-radius: 0.35em;\">\n",
              "    sin\n",
              "    <span style=\"font-size: 0.8em; font-weight: bold; line-height: 1; border-radius: 0.35em; vertical-align: middle; margin-left: 0.5rem\">NEG</span>\n",
              "</mark>\n",
              " \n",
              "<mark class=\"entity\" style=\"background: #FFA500; padding: 0.45em 0.6em; margin: 0 0.25em; line-height: 1; border-radius: 0.35em;\">\n",
              "    engrosamientos murales\n",
              "    <span style=\"font-size: 0.8em; font-weight: bold; line-height: 1; border-radius: 0.35em; vertical-align: middle; margin-left: 0.5rem\">NSCO</span>\n",
              "</mark>\n",
              ". correcta captacion de asas del intestino delgado. marco colico \n",
              "<mark class=\"entity\" style=\"background: #FF0000; padding: 0.45em 0.6em; margin: 0 0.25em; line-height: 1; border-radius: 0.35em;\">\n",
              "    sin\n",
              "    <span style=\"font-size: 0.8em; font-weight: bold; line-height: 1; border-radius: 0.35em; vertical-align: middle; margin-left: 0.5rem\">NEG</span>\n",
              "</mark>\n",
              " \n",
              "<mark class=\"entity\" style=\"background: #FFA500; padding: 0.45em 0.6em; margin: 0 0.25em; line-height: 1; border-radius: 0.35em;\">\n",
              "    engrosamientos murales\n",
              "    <span style=\"font-size: 0.8em; font-weight: bold; line-height: 1; border-radius: 0.35em; vertical-align: middle; margin-left: 0.5rem\">NSCO</span>\n",
              "</mark>\n",
              ". \n",
              "<mark class=\"entity\" style=\"background: #FF0000; padding: 0.45em 0.6em; margin: 0 0.25em; line-height: 1; border-radius: 0.35em;\">\n",
              "    ausencia de\n",
              "    <span style=\"font-size: 0.8em; font-weight: bold; line-height: 1; border-radius: 0.35em; vertical-align: middle; margin-left: 0.5rem\">NEG</span>\n",
              "</mark>\n",
              " \n",
              "<mark class=\"entity\" style=\"background: #FFA500; padding: 0.45em 0.6em; margin: 0 0.25em; line-height: 1; border-radius: 0.35em;\">\n",
              "    adenopatias aumentadas significativamente de tamaño mesentericas,\n",
              "    <span style=\"font-size: 0.8em; font-weight: bold; line-height: 1; border-radius: 0.35em; vertical-align: middle; margin-left: 0.5rem\">NSCO</span>\n",
              "</mark>\n",
              " y pelvicas. \n",
              "<mark class=\"entity\" style=\"background: #FF0000; padding: 0.45em 0.6em; margin: 0 0.25em; line-height: 1; border-radius: 0.35em;\">\n",
              "    ausencia de\n",
              "    <span style=\"font-size: 0.8em; font-weight: bold; line-height: 1; border-radius: 0.35em; vertical-align: middle; margin-left: 0.5rem\">NEG</span>\n",
              "</mark>\n",
              " \n",
              "<mark class=\"entity\" style=\"background: #FFA500; padding: 0.45em 0.6em; margin: 0 0.25em; line-height: 1; border-radius: 0.35em;\">\n",
              "    liquido libre en pelvis\n",
              "    <span style=\"font-size: 0.8em; font-weight: bold; line-height: 1; border-radius: 0.35em; vertical-align: middle; margin-left: 0.5rem\">NSCO</span>\n",
              "</mark>\n",
              ". \n",
              "<mark class=\"entity\" style=\"background: #FF0000; padding: 0.45em 0.6em; margin: 0 0.25em; line-height: 1; border-radius: 0.35em;\">\n",
              "    ausencia de\n",
              "    <span style=\"font-size: 0.8em; font-weight: bold; line-height: 1; border-radius: 0.35em; vertical-align: middle; margin-left: 0.5rem\">NEG</span>\n",
              "</mark>\n",
              " \n",
              "<mark class=\"entity\" style=\"background: #FFA500; padding: 0.45em 0.6em; margin: 0 0.25em; line-height: 1; border-radius: 0.35em;\">\n",
              "    aire extraluminal.\n",
              "    <span style=\"font-size: 0.8em; font-weight: bold; line-height: 1; border-radius: 0.35em; vertical-align: middle; margin-left: 0.5rem\">NSCO</span>\n",
              "</mark>\n",
              " ateromatosis aortica difusa con adecuada permeabilidad de los principales troncos arteriales y venosos de la circulacion esplacnica. cambios oseos degenerativos en la columna dorso-lumbar. conclusion: signos de pancreatitis aguda en cabeza pancreatica con infiltracion de la grasa peripancreatica y minima lamina de liquido a nivel preaortico \n",
              "<mark class=\"entity\" style=\"background: #FF0000; padding: 0.45em 0.6em; margin: 0 0.25em; line-height: 1; border-radius: 0.35em;\">\n",
              "    sin\n",
              "    <span style=\"font-size: 0.8em; font-weight: bold; line-height: 1; border-radius: 0.35em; vertical-align: middle; margin-left: 0.5rem\">NEG</span>\n",
              "</mark>\n",
              " \n",
              "<mark class=\"entity\" style=\"background: #FFA500; padding: 0.45em 0.6em; margin: 0 0.25em; line-height: 1; border-radius: 0.35em;\">\n",
              "    observarse colecciones organizadas ni otros signos de complicacion\n",
              "    <span style=\"font-size: 0.8em; font-weight: bold; line-height: 1; border-radius: 0.35em; vertical-align: middle; margin-left: 0.5rem\">NSCO</span>\n",
              "</mark>\n",
              ". \n",
              "<mark class=\"entity\" style=\"background: #FF0000; padding: 0.45em 0.6em; margin: 0 0.25em; line-height: 1; border-radius: 0.35em;\">\n",
              "    ausencia de\n",
              "    <span style=\"font-size: 0.8em; font-weight: bold; line-height: 1; border-radius: 0.35em; vertical-align: middle; margin-left: 0.5rem\">NEG</span>\n",
              "</mark>\n",
              " \n",
              "<mark class=\"entity\" style=\"background: #FFA500; padding: 0.45em 0.6em; margin: 0 0.25em; line-height: 1; border-radius: 0.35em;\">\n",
              "    signos de perforacion de viscera hueca.\n",
              "    <span style=\"font-size: 0.8em; font-weight: bold; line-height: 1; border-radius: 0.35em; vertical-align: middle; margin-left: 0.5rem\">NSCO</span>\n",
              "</mark>\n",
              " resto del estudio \n",
              "<mark class=\"entity\" style=\"background: #FF0000; padding: 0.45em 0.6em; margin: 0 0.25em; line-height: 1; border-radius: 0.35em;\">\n",
              "    sin\n",
              "    <span style=\"font-size: 0.8em; font-weight: bold; line-height: 1; border-radius: 0.35em; vertical-align: middle; margin-left: 0.5rem\">NEG</span>\n",
              "</mark>\n",
              " \n",
              "<mark class=\"entity\" style=\"background: #FFA500; padding: 0.45em 0.6em; margin: 0 0.25em; line-height: 1; border-radius: 0.35em;\">\n",
              "    alteraciones significativas\n",
              "    <span style=\"font-size: 0.8em; font-weight: bold; line-height: 1; border-radius: 0.35em; vertical-align: middle; margin-left: 0.5rem\">NSCO</span>\n",
              "</mark>\n",
              ". colangiorm : higado de tamaño, morfologia y señal de resonancia conservada, \n",
              "<mark class=\"entity\" style=\"background: #FF0000; padding: 0.45em 0.6em; margin: 0 0.25em; line-height: 1; border-radius: 0.35em;\">\n",
              "    sin\n",
              "    <span style=\"font-size: 0.8em; font-weight: bold; line-height: 1; border-radius: 0.35em; vertical-align: middle; margin-left: 0.5rem\">NEG</span>\n",
              "</mark>\n",
              " \n",
              "<mark class=\"entity\" style=\"background: #FFA500; padding: 0.45em 0.6em; margin: 0 0.25em; line-height: 1; border-radius: 0.35em;\">\n",
              "    signos de esteatosis\n",
              "    <span style=\"font-size: 0.8em; font-weight: bold; line-height: 1; border-radius: 0.35em; vertical-align: middle; margin-left: 0.5rem\">NSCO</span>\n",
              "</mark>\n",
              " y con presencia de varios quistes bilobars, el mayor de 22 mm en el segmento ii-iii. colecistectomia. via biliar intra y extrahepatica \n",
              "<mark class=\"entity\" style=\"background: #FF0000; padding: 0.45em 0.6em; margin: 0 0.25em; line-height: 1; border-radius: 0.35em;\">\n",
              "    no\n",
              "    <span style=\"font-size: 0.8em; font-weight: bold; line-height: 1; border-radius: 0.35em; vertical-align: middle; margin-left: 0.5rem\">NEG</span>\n",
              "</mark>\n",
              " \n",
              "<mark class=\"entity\" style=\"background: #FFA500; padding: 0.45em 0.6em; margin: 0 0.25em; line-height: 1; border-radius: 0.35em;\">\n",
              "    dilatadas\n",
              "    <span style=\"font-size: 0.8em; font-weight: bold; line-height: 1; border-radius: 0.35em; vertical-align: middle; margin-left: 0.5rem\">NSCO</span>\n",
              "</mark>\n",
              ", \n",
              "<mark class=\"entity\" style=\"background: #FF0000; padding: 0.45em 0.6em; margin: 0 0.25em; line-height: 1; border-radius: 0.35em;\">\n",
              "    sin\n",
              "    <span style=\"font-size: 0.8em; font-weight: bold; line-height: 1; border-radius: 0.35em; vertical-align: middle; margin-left: 0.5rem\">NEG</span>\n",
              "</mark>\n",
              " \n",
              "<mark class=\"entity\" style=\"background: #FFA500; padding: 0.45em 0.6em; margin: 0 0.25em; line-height: 1; border-radius: 0.35em;\">\n",
              "    apreciar estenosis ni coledocolitiasis.\n",
              "    <span style=\"font-size: 0.8em; font-weight: bold; line-height: 1; border-radius: 0.35em; vertical-align: middle; margin-left: 0.5rem\">NSCO</span>\n",
              "</mark>\n",
              " papila duodenal \n",
              "<mark class=\"entity\" style=\"background: #FF0000; padding: 0.45em 0.6em; margin: 0 0.25em; line-height: 1; border-radius: 0.35em;\">\n",
              "    no\n",
              "    <span style=\"font-size: 0.8em; font-weight: bold; line-height: 1; border-radius: 0.35em; vertical-align: middle; margin-left: 0.5rem\">NEG</span>\n",
              "</mark>\n",
              " \n",
              "<mark class=\"entity\" style=\"background: #FFA500; padding: 0.45em 0.6em; margin: 0 0.25em; line-height: 1; border-radius: 0.35em;\">\n",
              "    prominente.\n",
              "    <span style=\"font-size: 0.8em; font-weight: bold; line-height: 1; border-radius: 0.35em; vertical-align: middle; margin-left: 0.5rem\">NSCO</span>\n",
              "</mark>\n",
              " aspecto globuloso y con cambios de señal (edema) del proceso uncinada del pancreas, con discreta infiltracion de la grasa adyacente, en relacion a cambios de pancreatitis. \n",
              "<mark class=\"entity\" style=\"background: #FF0000; padding: 0.45em 0.6em; margin: 0 0.25em; line-height: 1; border-radius: 0.35em;\">\n",
              "    no\n",
              "    <span style=\"font-size: 0.8em; font-weight: bold; line-height: 1; border-radius: 0.35em; vertical-align: middle; margin-left: 0.5rem\">NEG</span>\n",
              "</mark>\n",
              " \n",
              "<mark class=\"entity\" style=\"background: #FFA500; padding: 0.45em 0.6em; margin: 0 0.25em; line-height: 1; border-radius: 0.35em;\">\n",
              "    se visualizan colecciones organizadas.\n",
              "    <span style=\"font-size: 0.8em; font-weight: bold; line-height: 1; border-radius: 0.35em; vertical-align: middle; margin-left: 0.5rem\">NSCO</span>\n",
              "</mark>\n",
              " resto del pancreas de tamaño, morfologia y señal de resonancia normal para la edad. conducto pancreatico \n",
              "<mark class=\"entity\" style=\"background: #FF0000; padding: 0.45em 0.6em; margin: 0 0.25em; line-height: 1; border-radius: 0.35em;\">\n",
              "    no\n",
              "    <span style=\"font-size: 0.8em; font-weight: bold; line-height: 1; border-radius: 0.35em; vertical-align: middle; margin-left: 0.5rem\">NEG</span>\n",
              "</mark>\n",
              " \n",
              "<mark class=\"entity\" style=\"background: #FFA500; padding: 0.45em 0.6em; margin: 0 0.25em; line-height: 1; border-radius: 0.35em;\">\n",
              "    dilatado\n",
              "    <span style=\"font-size: 0.8em; font-weight: bold; line-height: 1; border-radius: 0.35em; vertical-align: middle; margin-left: 0.5rem\">NSCO</span>\n",
              "</mark>\n",
              ". suprarrenales y bazo \n",
              "<mark class=\"entity\" style=\"background: #FF0000; padding: 0.45em 0.6em; margin: 0 0.25em; line-height: 1; border-radius: 0.35em;\">\n",
              "    sin\n",
              "    <span style=\"font-size: 0.8em; font-weight: bold; line-height: 1; border-radius: 0.35em; vertical-align: middle; margin-left: 0.5rem\">NEG</span>\n",
              "</mark>\n",
              " \n",
              "<mark class=\"entity\" style=\"background: #FFA500; padding: 0.45em 0.6em; margin: 0 0.25em; line-height: 1; border-radius: 0.35em;\">\n",
              "    alteraciones.\n",
              "    <span style=\"font-size: 0.8em; font-weight: bold; line-height: 1; border-radius: 0.35em; vertical-align: middle; margin-left: 0.5rem\">NSCO</span>\n",
              "</mark>\n",
              " pequeñas bazos accesorios. quistes \n",
              "<mark class=\"entity\" style=\"background: #FFA500; padding: 0.45em 0.6em; margin: 0 0.25em; line-height: 1; border-radius: 0.35em;\">\n",
              "    sinusales renales de aspecto simple.\n",
              "    <span style=\"font-size: 0.8em; font-weight: bold; line-height: 1; border-radius: 0.35em; vertical-align: middle; margin-left: 0.5rem\">NSCO</span>\n",
              "</mark>\n",
              " vias excretores \n",
              "<mark class=\"entity\" style=\"background: #FF0000; padding: 0.45em 0.6em; margin: 0 0.25em; line-height: 1; border-radius: 0.35em;\">\n",
              "    no\n",
              "    <span style=\"font-size: 0.8em; font-weight: bold; line-height: 1; border-radius: 0.35em; vertical-align: middle; margin-left: 0.5rem\">NEG</span>\n",
              "</mark>\n",
              " \n",
              "<mark class=\"entity\" style=\"background: #FFA500; padding: 0.45em 0.6em; margin: 0 0.25em; line-height: 1; border-radius: 0.35em;\">\n",
              "    dilatadas.\n",
              "    <span style=\"font-size: 0.8em; font-weight: bold; line-height: 1; border-radius: 0.35em; vertical-align: middle; margin-left: 0.5rem\">NSCO</span>\n",
              "</mark>\n",
              " resto del estudio \n",
              "<mark class=\"entity\" style=\"background: #FF0000; padding: 0.45em 0.6em; margin: 0 0.25em; line-height: 1; border-radius: 0.35em;\">\n",
              "    sin\n",
              "    <span style=\"font-size: 0.8em; font-weight: bold; line-height: 1; border-radius: 0.35em; vertical-align: middle; margin-left: 0.5rem\">NEG</span>\n",
              "</mark>\n",
              " \n",
              "<mark class=\"entity\" style=\"background: #FFA500; padding: 0.45em 0.6em; margin: 0 0.25em; line-height: 1; border-radius: 0.35em;\">\n",
              "    hallazgos colecistectomia.\n",
              "    <span style=\"font-size: 0.8em; font-weight: bold; line-height: 1; border-radius: 0.35em; vertical-align: middle; margin-left: 0.5rem\">NSCO</span>\n",
              "</mark>\n",
              " via biliar \n",
              "<mark class=\"entity\" style=\"background: #FF0000; padding: 0.45em 0.6em; margin: 0 0.25em; line-height: 1; border-radius: 0.35em;\">\n",
              "    no\n",
              "    <span style=\"font-size: 0.8em; font-weight: bold; line-height: 1; border-radius: 0.35em; vertical-align: middle; margin-left: 0.5rem\">NEG</span>\n",
              "</mark>\n",
              " \n",
              "<mark class=\"entity\" style=\"background: #FFA500; padding: 0.45em 0.6em; margin: 0 0.25em; line-height: 1; border-radius: 0.35em;\">\n",
              "    dilatada\n",
              "    <span style=\"font-size: 0.8em; font-weight: bold; line-height: 1; border-radius: 0.35em; vertical-align: middle; margin-left: 0.5rem\">NSCO</span>\n",
              "</mark>\n",
              ", \n",
              "<mark class=\"entity\" style=\"background: #FF0000; padding: 0.45em 0.6em; margin: 0 0.25em; line-height: 1; border-radius: 0.35em;\">\n",
              "    sin\n",
              "    <span style=\"font-size: 0.8em; font-weight: bold; line-height: 1; border-radius: 0.35em; vertical-align: middle; margin-left: 0.5rem\">NEG</span>\n",
              "</mark>\n",
              " \n",
              "<mark class=\"entity\" style=\"background: #FFA500; padding: 0.45em 0.6em; margin: 0 0.25em; line-height: 1; border-radius: 0.35em;\">\n",
              "    estenosis ni coledocolitiasis.\n",
              "    <span style=\"font-size: 0.8em; font-weight: bold; line-height: 1; border-radius: 0.35em; vertical-align: middle; margin-left: 0.5rem\">NSCO</span>\n",
              "</mark>\n",
              " aspecto globulos-edematoso del proceso uncinada del pancreas, con infiltracion de la grasa adyacente, en relacion al cuadro de pancreatitis referido. \n",
              "<mark class=\"entity\" style=\"background: #FF0000; padding: 0.45em 0.6em; margin: 0 0.25em; line-height: 1; border-radius: 0.35em;\">\n",
              "    no\n",
              "    <span style=\"font-size: 0.8em; font-weight: bold; line-height: 1; border-radius: 0.35em; vertical-align: middle; margin-left: 0.5rem\">NEG</span>\n",
              "</mark>\n",
              " \n",
              "<mark class=\"entity\" style=\"background: #FFA500; padding: 0.45em 0.6em; margin: 0 0.25em; line-height: 1; border-radius: 0.35em;\">\n",
              "    se visualizan colecciones organizadas.\n",
              "    <span style=\"font-size: 0.8em; font-weight: bold; line-height: 1; border-radius: 0.35em; vertical-align: middle; margin-left: 0.5rem\">NSCO</span>\n",
              "</mark>\n",
              " se recomienda control radiologico de la zona, y en caso de persistencia de el aspecto globuloso del proceso uncinada plantear ecoendoscopia. nhc ** *** *** (********) age-v-gas 2/3 lopd evolucio clinica paciente que acude a urgencias por dolor epigastrico irradiado en cinturon y vomitos. a su llegada \n",
              "<mark class=\"entity\" style=\"background: #FF0000; padding: 0.45em 0.6em; margin: 0 0.25em; line-height: 1; border-radius: 0.35em;\">\n",
              "    afebril\n",
              "    <span style=\"font-size: 0.8em; font-weight: bold; line-height: 1; border-radius: 0.35em; vertical-align: middle; margin-left: 0.5rem\">NEG</span>\n",
              "</mark>\n",
              " y estable hemodinamicamente. clinicamente estable, con persistencia de dolor abdominal. analiticamente amilasa en rango de normalidad \n",
              "<mark class=\"entity\" style=\"background: #FF0000; padding: 0.45em 0.6em; margin: 0 0.25em; line-height: 1; border-radius: 0.35em;\">\n",
              "    sin\n",
              "    <span style=\"font-size: 0.8em; font-weight: bold; line-height: 1; border-radius: 0.35em; vertical-align: middle; margin-left: 0.5rem\">NEG</span>\n",
              "</mark>\n",
              " \n",
              "<mark class=\"entity\" style=\"background: #FFA500; padding: 0.45em 0.6em; margin: 0 0.25em; line-height: 1; border-radius: 0.35em;\">\n",
              "    otras alteraciones significativas\n",
              "    <span style=\"font-size: 0.8em; font-weight: bold; line-height: 1; border-radius: 0.35em; vertical-align: middle; margin-left: 0.5rem\">NSCO</span>\n",
              "</mark>\n",
              ". ante clinica \n",
              "<mark class=\"entity\" style=\"background: #800080; padding: 0.45em 0.6em; margin: 0 0.25em; line-height: 1; border-radius: 0.35em;\">\n",
              "    compatible con\n",
              "    <span style=\"font-size: 0.8em; font-weight: bold; line-height: 1; border-radius: 0.35em; vertical-align: middle; margin-left: 0.5rem\">UNC</span>\n",
              "</mark>\n",
              " \n",
              "<mark class=\"entity\" style=\"background: #FFC0CB; padding: 0.45em 0.6em; margin: 0 0.25em; line-height: 1; border-radius: 0.35em;\">\n",
              "    pancreatitis aguda\n",
              "    <span style=\"font-size: 0.8em; font-weight: bold; line-height: 1; border-radius: 0.35em; vertical-align: middle; margin-left: 0.5rem\">USCO</span>\n",
              "</mark>\n",
              " pero con amilasa normal se solicita tac abdominal que muestra signos \n",
              "<mark class=\"entity\" style=\"background: #800080; padding: 0.45em 0.6em; margin: 0 0.25em; line-height: 1; border-radius: 0.35em;\">\n",
              "    compatibles con\n",
              "    <span style=\"font-size: 0.8em; font-weight: bold; line-height: 1; border-radius: 0.35em; vertical-align: middle; margin-left: 0.5rem\">UNC</span>\n",
              "</mark>\n",
              " \n",
              "<mark class=\"entity\" style=\"background: #FFC0CB; padding: 0.45em 0.6em; margin: 0 0.25em; line-height: 1; border-radius: 0.35em;\">\n",
              "    pancreatitis aguda evidenciandose\n",
              "    <span style=\"font-size: 0.8em; font-weight: bold; line-height: 1; border-radius: 0.35em; vertical-align: middle; margin-left: 0.5rem\">USCO</span>\n",
              "</mark>\n",
              " con infiltracion de la grasa peripancreatica y minima lamina de liquido a nivel preaortico \n",
              "<mark class=\"entity\" style=\"background: #FF0000; padding: 0.45em 0.6em; margin: 0 0.25em; line-height: 1; border-radius: 0.35em;\">\n",
              "    sin\n",
              "    <span style=\"font-size: 0.8em; font-weight: bold; line-height: 1; border-radius: 0.35em; vertical-align: middle; margin-left: 0.5rem\">NEG</span>\n",
              "</mark>\n",
              " \n",
              "<mark class=\"entity\" style=\"background: #FFA500; padding: 0.45em 0.6em; margin: 0 0.25em; line-height: 1; border-radius: 0.35em;\">\n",
              "    observarse colecciones organizadas ni otros signos de complicacion\n",
              "    <span style=\"font-size: 0.8em; font-weight: bold; line-height: 1; border-radius: 0.35em; vertical-align: middle; margin-left: 0.5rem\">NSCO</span>\n",
              "</mark>\n",
              ". ingresa en planta para continuacion de tratamiento y estudio. desde su ingreso paciente \n",
              "<mark class=\"entity\" style=\"background: #FF0000; padding: 0.45em 0.6em; margin: 0 0.25em; line-height: 1; border-radius: 0.35em;\">\n",
              "    afebril\n",
              "    <span style=\"font-size: 0.8em; font-weight: bold; line-height: 1; border-radius: 0.35em; vertical-align: middle; margin-left: 0.5rem\">NEG</span>\n",
              "</mark>\n",
              " y estable. mejoria clinica progresiva con buena tolerancia oral. se solicita rm pancreatica que evidencia proceso uncinado de aspecto globuloso, con infiltracion de la grasa adyacente pero \n",
              "<mark class=\"entity\" style=\"background: #FF0000; padding: 0.45em 0.6em; margin: 0 0.25em; line-height: 1; border-radius: 0.35em;\">\n",
              "    sin\n",
              "    <span style=\"font-size: 0.8em; font-weight: bold; line-height: 1; border-radius: 0.35em; vertical-align: middle; margin-left: 0.5rem\">NEG</span>\n",
              "</mark>\n",
              " \n",
              "<mark class=\"entity\" style=\"background: #FFA500; padding: 0.45em 0.6em; margin: 0 0.25em; line-height: 1; border-radius: 0.35em;\">\n",
              "    presencia de coledocolitiasis.\n",
              "    <span style=\"font-size: 0.8em; font-weight: bold; line-height: 1; border-radius: 0.35em; vertical-align: middle; margin-left: 0.5rem\">NSCO</span>\n",
              "</mark>\n",
              " a nivel de analitica presenta mejoria de los rfa. \n",
              "<mark class=\"entity\" style=\"background: #800080; padding: 0.45em 0.6em; margin: 0 0.25em; line-height: 1; border-radius: 0.35em;\">\n",
              "    se orienta\n",
              "    <span style=\"font-size: 0.8em; font-weight: bold; line-height: 1; border-radius: 0.35em; vertical-align: middle; margin-left: 0.5rem\">UNC</span>\n",
              "</mark>\n",
              " \n",
              "<mark class=\"entity\" style=\"background: #FFC0CB; padding: 0.45em 0.6em; margin: 0 0.25em; line-height: 1; border-radius: 0.35em;\">\n",
              "    como primer caso de pancreatitis aguda idiopatica,\n",
              "    <span style=\"font-size: 0.8em; font-weight: bold; line-height: 1; border-radius: 0.35em; vertical-align: middle; margin-left: 0.5rem\">USCO</span>\n",
              "</mark>\n",
              " con resolucion de su clinica y buena tolerancia oral. por la estabilidad clinica y la \n",
              "<mark class=\"entity\" style=\"background: #FF0000; padding: 0.45em 0.6em; margin: 0 0.25em; line-height: 1; border-radius: 0.35em;\">\n",
              "    falta de\n",
              "    <span style=\"font-size: 0.8em; font-weight: bold; line-height: 1; border-radius: 0.35em; vertical-align: middle; margin-left: 0.5rem\">NEG</span>\n",
              "</mark>\n",
              " \n",
              "<mark class=\"entity\" style=\"background: #FFA500; padding: 0.45em 0.6em; margin: 0 0.25em; line-height: 1; border-radius: 0.35em;\">\n",
              "    signos de alarma\n",
              "    <span style=\"font-size: 0.8em; font-weight: bold; line-height: 1; border-radius: 0.35em; vertical-align: middle; margin-left: 0.5rem\">NSCO</span>\n",
              "</mark>\n",
              " se decide dar de alta para seguir su manejo en cex de digestivo. se le explica los signos y sintomas de alarma y de reconsulta a urgencias. orientacio diagnostica - pancreatitis aguda edematosa procediments 88.97 imatge per ressonancia magnetica d'altres parts del cos. abdomen, cara, coll, orbita ocular tractament i recomanacions a l'alta - dieta de proteccion biliar - seguir con su manejo habitual **evitar tabaco y alcohol. control - control en cex digestivo y por su medico de especialista. destinacio a l'alta: a domicili nhc ** *** *** (********) age-v-gas 3/3 lopd</div></span>"
            ]
          },
          "metadata": {}
        }
      ]
    },
    {
      "cell_type": "code",
      "execution_count": null,
      "metadata": {
        "id": "Fm4S7YXEhvow",
        "colab": {
          "base_uri": "https://localhost:8080/",
          "height": 1000
        },
        "outputId": "e60b08a8-e7a6-42a3-a12f-5b4a6f41c4ef"
      },
      "outputs": [
        {
          "output_type": "display_data",
          "data": {
            "text/plain": [
              "<IPython.core.display.HTML object>"
            ],
            "text/html": [
              "<span class=\"tex2jax_ignore\"><div class=\"entities\" style=\"line-height: 2.5; direction: ltr\"> nº historia clinica: ** *** *** nºepisodi: ******** sexe: dona data de naixement: 28.10.1935 edat: 83 anys procedencia domicil/res.soc servei neurologia data d'ingres 15.02.2019 data d'alta 08.03.2019 13:00:00 ates per *****************, *****; ***************, *****; **************, ***** informe d'alta d'hospitalitzacio motiu d'ingres mujer de 85 años que ingresa por crisis miastenica. antecedents - alergia a captopril (edema lengua y labios tras administracion sublingual). - \n",
              "<mark class=\"entity\" style=\"background: #FF0000; padding: 0.45em 0.6em; margin: 0 0.25em; line-height: 1; border-radius: 0.35em;\">\n",
              "    no\n",
              "    <span style=\"font-size: 0.8em; font-weight: bold; line-height: 1; border-radius: 0.35em; vertical-align: middle; margin-left: 0.5rem\">NEG</span>\n",
              "</mark>\n",
              " \n",
              "<mark class=\"entity\" style=\"background: #FFA500; padding: 0.45em 0.6em; margin: 0 0.25em; line-height: 1; border-radius: 0.35em;\">\n",
              "    refiere habitos toxicos\n",
              "    <span style=\"font-size: 0.8em; font-weight: bold; line-height: 1; border-radius: 0.35em; vertical-align: middle; margin-left: 0.5rem\">NSCO</span>\n",
              "</mark>\n",
              ". antecedentes patologicos: - hipertension arterial esencial diagnosticada en 2004 en tratamiento farmacologico. \n",
              "<mark class=\"entity\" style=\"background: #FF0000; padding: 0.45em 0.6em; margin: 0 0.25em; line-height: 1; border-radius: 0.35em;\">\n",
              "    sin\n",
              "    <span style=\"font-size: 0.8em; font-weight: bold; line-height: 1; border-radius: 0.35em; vertical-align: middle; margin-left: 0.5rem\">NEG</span>\n",
              "</mark>\n",
              " \n",
              "<mark class=\"entity\" style=\"background: #FFA500; padding: 0.45em 0.6em; margin: 0 0.25em; line-height: 1; border-radius: 0.35em;\">\n",
              "    complicaciones\n",
              "    <span style=\"font-size: 0.8em; font-weight: bold; line-height: 1; border-radius: 0.35em; vertical-align: middle; margin-left: 0.5rem\">NSCO</span>\n",
              "</mark>\n",
              ". - dislipemia diagnosticada en 2004 en tratamiento farmacologico. -neoplasia de mama derecha diagnosticada en diciembre de 2014, realzandose tumorectomia centro-mamaria derecha con linfadenectomia. en anatomia patologica presenta carcinoma ductal infiltrante gh iii, de 26mm. ganglios 1/13. re 90%, \n",
              "<mark class=\"entity\" style=\"background: #FFA500; padding: 0.45em 0.6em; margin: 0 0.25em; line-height: 1; border-radius: 0.35em;\">\n",
              "    rp\n",
              "    <span style=\"font-size: 0.8em; font-weight: bold; line-height: 1; border-radius: 0.35em; vertical-align: middle; margin-left: 0.5rem\">NSCO</span>\n",
              "</mark>\n",
              " \n",
              "<mark class=\"entity\" style=\"background: #FF0000; padding: 0.45em 0.6em; margin: 0 0.25em; line-height: 1; border-radius: 0.35em;\">\n",
              "    negativo\n",
              "    <span style=\"font-size: 0.8em; font-weight: bold; line-height: 1; border-radius: 0.35em; vertical-align: middle; margin-left: 0.5rem\">NEG</span>\n",
              "</mark>\n",
              ", her 2 positivo, ki67 60%. \n",
              "<mark class=\"entity\" style=\"background: #FFA500; padding: 0.45em 0.6em; margin: 0 0.25em; line-height: 1; border-radius: 0.35em;\">\n",
              "    margenes\n",
              "    <span style=\"font-size: 0.8em; font-weight: bold; line-height: 1; border-radius: 0.35em; vertical-align: middle; margin-left: 0.5rem\">NSCO</span>\n",
              "</mark>\n",
              " \n",
              "<mark class=\"entity\" style=\"background: #FF0000; padding: 0.45em 0.6em; margin: 0 0.25em; line-height: 1; border-radius: 0.35em;\">\n",
              "    negativos\n",
              "    <span style=\"font-size: 0.8em; font-weight: bold; line-height: 1; border-radius: 0.35em; vertical-align: middle; margin-left: 0.5rem\">NEG</span>\n",
              "</mark>\n",
              ". en enero 2015 entro enensayo clinico kaitlin realizando tratamiento con antraciclinas seguido de t-dm1 y pertuzumab en adyuvancia (fin julio 2015). realizo ademas rt (fin agosto 2015). actualmente en tratamiento con hormonoterapia con letrozol(inicio julio 2015). libre de enfermedad. en seguimiento por oncologia (dr. *******). se realizan ett cada 6meses por protocolo del ensayo, siendo el ultimo de junio 2017: fevi 68%. insuficiencia mitral leve-moderada(ii/iv). -miastenia gravis generalizad a diagnosticada en agosto de 2018 con clinica de sindrome miasteniforme de 2 meses de evolucion en forma de disfagia y disartria, con buena respuesta al tratamiento durante el ingreso (se administraron igiv y se ajusto al alta tratamiento con corticoterapia y mestinon). refiere deposiciones diarreicas secundarias a mestinon, por lo que mantuvo mestinon a dosis 1/2-1/2-1/2 con buen control. iq: faquectomia bilateral en 2006. ssf : vive sola. independiente para actividades de la vida diaria. \n",
              "<mark class=\"entity\" style=\"background: #FF0000; padding: 0.45em 0.6em; margin: 0 0.25em; line-height: 1; border-radius: 0.35em;\">\n",
              "    no\n",
              "    <span style=\"font-size: 0.8em; font-weight: bold; line-height: 1; border-radius: 0.35em; vertical-align: middle; margin-left: 0.5rem\">NEG</span>\n",
              "</mark>\n",
              " \n",
              "<mark class=\"entity\" style=\"background: #FFA500; padding: 0.45em 0.6em; margin: 0 0.25em; line-height: 1; border-radius: 0.35em;\">\n",
              "    deterioro cognitivo aparente\n",
              "    <span style=\"font-size: 0.8em; font-weight: bold; line-height: 1; border-radius: 0.35em; vertical-align: middle; margin-left: 0.5rem\">NSCO</span>\n",
              "</mark>\n",
              ". su hija vive en el mismo edificio y realiza supervision diaria. medicacio habitual acida cetilsalicilic-adiro 100mg 1x24h, atacand plus forte 32/25mg 1x24h, gemfibrozilo 600mg 1x24h, letrozol-loxifan 2,5mg 1x24h, piridostigmina bromur-mestinon 60mg 0,5x8h, natecal d 60 comprimidos masticables 1x24h, omeprazol 20mg 1x24h, lorazepam-orfidal 1mg 1x24h, prednisona alonga 10 10mg 1x24h, calcifediol-hidroferol 0,266mg 1x1m. proces actual acude hace un par de semanas a visita de control en cex unidad de neuromuscular refiriendo empeoramiento clinico sobre todo a expensas de ptosis palpebral, drop-head, disartria y disfagia, que la paciente atribuyo al inicio de estatinas, por lo que se decide su suspension. \n",
              "<mark class=\"entity\" style=\"background: #FF0000; padding: 0.45em 0.6em; margin: 0 0.25em; line-height: 1; border-radius: 0.35em;\">\n",
              "    sin\n",
              "    <span style=\"font-size: 0.8em; font-weight: bold; line-height: 1; border-radius: 0.35em; vertical-align: middle; margin-left: 0.5rem\">NEG</span>\n",
              "</mark>\n",
              " \n",
              "<mark class=\"entity\" style=\"background: #FFA500; padding: 0.45em 0.6em; margin: 0 0.25em; line-height: 1; border-radius: 0.35em;\">\n",
              "    emabargo la\n",
              "    <span style=\"font-size: 0.8em; font-weight: bold; line-height: 1; border-radius: 0.35em; vertical-align: middle; margin-left: 0.5rem\">NSCO</span>\n",
              "</mark>\n",
              " paciente debio acudir de nuevo a cex por persistencia de la clinica el pasado martes 12 de febrero por lo que, ademas de que ella misma aumentase la dosis de mestinon a 1-1-1 (bien tolerado) por decision propia, se ajusta prednisona a 15mg. \n",
              "<mark class=\"entity\" style=\"background: #FF0000; padding: 0.45em 0.6em; margin: 0 0.25em; line-height: 1; border-radius: 0.35em;\">\n",
              "    sin\n",
              "    <span style=\"font-size: 0.8em; font-weight: bold; line-height: 1; border-radius: 0.35em; vertical-align: middle; margin-left: 0.5rem\">NEG</span>\n",
              "</mark>\n",
              " embargo, nhc ** *** *** &amp;nbsp;(********) &amp;nbsp;age-v-nrl 1/4 lopd reconsulta hoy por empeoramiento de la disartria y la disfagia (durante el dia de hoy tuvo que comer triturado). \n",
              "<mark class=\"entity\" style=\"background: #FF0000; padding: 0.45em 0.6em; margin: 0 0.25em; line-height: 1; border-radius: 0.35em;\">\n",
              "    niega\n",
              "    <span style=\"font-size: 0.8em; font-weight: bold; line-height: 1; border-radius: 0.35em; vertical-align: middle; margin-left: 0.5rem\">NEG</span>\n",
              "</mark>\n",
              " \n",
              "<mark class=\"entity\" style=\"background: #FFA500; padding: 0.45em 0.6em; margin: 0 0.25em; line-height: 1; border-radius: 0.35em;\">\n",
              "    disnea\n",
              "    <span style=\"font-size: 0.8em; font-weight: bold; line-height: 1; border-radius: 0.35em; vertical-align: middle; margin-left: 0.5rem\">NSCO</span>\n",
              "</mark>\n",
              " y presion toracica al inspirar. \n",
              "<mark class=\"entity\" style=\"background: #FF0000; padding: 0.45em 0.6em; margin: 0 0.25em; line-height: 1; border-radius: 0.35em;\">\n",
              "    no\n",
              "    <span style=\"font-size: 0.8em; font-weight: bold; line-height: 1; border-radius: 0.35em; vertical-align: middle; margin-left: 0.5rem\">NEG</span>\n",
              "</mark>\n",
              " \n",
              "<mark class=\"entity\" style=\"background: #FFA500; padding: 0.45em 0.6em; margin: 0 0.25em; line-height: 1; border-radius: 0.35em;\">\n",
              "    clara ortopnea\n",
              "    <span style=\"font-size: 0.8em; font-weight: bold; line-height: 1; border-radius: 0.35em; vertical-align: middle; margin-left: 0.5rem\">NSCO</span>\n",
              "</mark>\n",
              ". exploracio fisica en urgencias a mi valoracion paciente hemodinamicamente estable (ta 169/85mmhg, fc 79lpm, \n",
              "<mark class=\"entity\" style=\"background: #FF0000; padding: 0.45em 0.6em; margin: 0 0.25em; line-height: 1; border-radius: 0.35em;\">\n",
              "    afebril\n",
              "    <span style=\"font-size: 0.8em; font-weight: bold; line-height: 1; border-radius: 0.35em; vertical-align: middle; margin-left: 0.5rem\">NEG</span>\n",
              "</mark>\n",
              ") vigil, alerta, funciones superiores conservadas. ptosis espontanea en od &amp;gt; oi con fatigabilidad tras maniobras. picnr. \n",
              "<mark class=\"entity\" style=\"background: #FF0000; padding: 0.45em 0.6em; margin: 0 0.25em; line-height: 1; border-radius: 0.35em;\">\n",
              "    niega\n",
              "    <span style=\"font-size: 0.8em; font-weight: bold; line-height: 1; border-radius: 0.35em; vertical-align: middle; margin-left: 0.5rem\">NEG</span>\n",
              "</mark>\n",
              " \n",
              "<mark class=\"entity\" style=\"background: #FFA500; padding: 0.45em 0.6em; margin: 0 0.25em; line-height: 1; border-radius: 0.35em;\">\n",
              "    diplopia a pesar de maniobras de fatigabilidad\n",
              "    <span style=\"font-size: 0.8em; font-weight: bold; line-height: 1; border-radius: 0.35em; vertical-align: middle; margin-left: 0.5rem\">NSCO</span>\n",
              "</mark>\n",
              ". consigue el cierre ocular pero apenas presenta resistencia a su apertura. leve paresia facial bilateral. disartria fatigable. \n",
              "<mark class=\"entity\" style=\"background: #FF0000; padding: 0.45em 0.6em; margin: 0 0.25em; line-height: 1; border-radius: 0.35em;\">\n",
              "    no\n",
              "    <span style=\"font-size: 0.8em; font-weight: bold; line-height: 1; border-radius: 0.35em; vertical-align: middle; margin-left: 0.5rem\">NEG</span>\n",
              "</mark>\n",
              " \n",
              "<mark class=\"entity\" style=\"background: #FFA500; padding: 0.45em 0.6em; margin: 0 0.25em; line-height: 1; border-radius: 0.35em;\">\n",
              "    clara debilidad en extremidades.\n",
              "    <span style=\"font-size: 0.8em; font-weight: bold; line-height: 1; border-radius: 0.35em; vertical-align: middle; margin-left: 0.5rem\">NSCO</span>\n",
              "</mark>\n",
              " rmps presentes y simetricos. qmg 9 en planta de neurologia hemodinamicamnete estable, \n",
              "<mark class=\"entity\" style=\"background: #FF0000; padding: 0.45em 0.6em; margin: 0 0.25em; line-height: 1; border-radius: 0.35em;\">\n",
              "    afebril\n",
              "    <span style=\"font-size: 0.8em; font-weight: bold; line-height: 1; border-radius: 0.35em; vertical-align: middle; margin-left: 0.5rem\">NEG</span>\n",
              "</mark>\n",
              ", saturando al 99%aa, vigil, alerta, ptosis espontanea en od &amp;gt; oi con fatigabilidad tras maniobras, picnr, \n",
              "<mark class=\"entity\" style=\"background: #FF0000; padding: 0.45em 0.6em; margin: 0 0.25em; line-height: 1; border-radius: 0.35em;\">\n",
              "    niega\n",
              "    <span style=\"font-size: 0.8em; font-weight: bold; line-height: 1; border-radius: 0.35em; vertical-align: middle; margin-left: 0.5rem\">NEG</span>\n",
              "</mark>\n",
              " \n",
              "<mark class=\"entity\" style=\"background: #FFA500; padding: 0.45em 0.6em; margin: 0 0.25em; line-height: 1; border-radius: 0.35em;\">\n",
              "    diplopia a pesar de maniobras de fatigabilidad\n",
              "    <span style=\"font-size: 0.8em; font-weight: bold; line-height: 1; border-radius: 0.35em; vertical-align: middle; margin-left: 0.5rem\">NSCO</span>\n",
              "</mark>\n",
              ". consigue el cierre ocular pero apenas presenta resistencia a su apertura. leve paresia facial bilateral. disartria fatigable. \n",
              "<mark class=\"entity\" style=\"background: #FF0000; padding: 0.45em 0.6em; margin: 0 0.25em; line-height: 1; border-radius: 0.35em;\">\n",
              "    no\n",
              "    <span style=\"font-size: 0.8em; font-weight: bold; line-height: 1; border-radius: 0.35em; vertical-align: middle; margin-left: 0.5rem\">NEG</span>\n",
              "</mark>\n",
              " \n",
              "<mark class=\"entity\" style=\"background: #FFA500; padding: 0.45em 0.6em; margin: 0 0.25em; line-height: 1; border-radius: 0.35em;\">\n",
              "    clara debilidad en extremidades.\n",
              "    <span style=\"font-size: 0.8em; font-weight: bold; line-height: 1; border-radius: 0.35em; vertical-align: middle; margin-left: 0.5rem\">NSCO</span>\n",
              "</mark>\n",
              " rmps presentes y simetricos. exploracio complementaria en urgencias - ecg : ritmo sinusal a 75 lpm. eje a + 0º. qrs de 0.08s. buena progresion de r en precordiales. \n",
              "<mark class=\"entity\" style=\"background: #FF0000; padding: 0.45em 0.6em; margin: 0 0.25em; line-height: 1; border-radius: 0.35em;\">\n",
              "    no\n",
              "    <span style=\"font-size: 0.8em; font-weight: bold; line-height: 1; border-radius: 0.35em; vertical-align: middle; margin-left: 0.5rem\">NEG</span>\n",
              "</mark>\n",
              " \n",
              "<mark class=\"entity\" style=\"background: #FFA500; padding: 0.45em 0.6em; margin: 0 0.25em; line-height: 1; border-radius: 0.35em;\">\n",
              "    alteraciones agudas de la repolarizacion\n",
              "    <span style=\"font-size: 0.8em; font-weight: bold; line-height: 1; border-radius: 0.35em; vertical-align: middle; margin-left: 0.5rem\">NSCO</span>\n",
              "</mark>\n",
              ". -analitica sanguinea: hb 12.8 g/dl, hcto 37.3 %, vcm 94.0 fl, hcm 32.2 pg, leucocitos 6.52 x10e9/l, n 56.7 %, l 33.3 %, m 8.9 %, e 0.6 %, b 0.5 %, can 3.7 x10e9/l, cal 2.2 x10e9/l, plaquetas 208 x10e9/l, quick &amp;gt;120 %, inr 0.89, ttpa ratio 0.95 , fibr 4.43 g/l, glucosa 97, urea 34, creatinina 0.65, fge 82, na 130.3, k 3.35, ca 10.1, ast 27, alt 15, prots. 7.5 -gsa : \n",
              "<mark class=\"entity\" style=\"background: #FF0000; padding: 0.45em 0.6em; margin: 0 0.25em; line-height: 1; border-radius: 0.35em;\">\n",
              "    sin\n",
              "    <span style=\"font-size: 0.8em; font-weight: bold; line-height: 1; border-radius: 0.35em; vertical-align: middle; margin-left: 0.5rem\">NEG</span>\n",
              "</mark>\n",
              " \n",
              "<mark class=\"entity\" style=\"background: #FFA500; padding: 0.45em 0.6em; margin: 0 0.25em; line-height: 1; border-radius: 0.35em;\">\n",
              "    alteraciones destacables\n",
              "    <span style=\"font-size: 0.8em; font-weight: bold; line-height: 1; border-radius: 0.35em; vertical-align: middle; margin-left: 0.5rem\">NSCO</span>\n",
              "</mark>\n",
              ". - rx torax : ict &amp;gt;0.5. \n",
              "<mark class=\"entity\" style=\"background: #FF0000; padding: 0.45em 0.6em; margin: 0 0.25em; line-height: 1; border-radius: 0.35em;\">\n",
              "    no\n",
              "    <span style=\"font-size: 0.8em; font-weight: bold; line-height: 1; border-radius: 0.35em; vertical-align: middle; margin-left: 0.5rem\">NEG</span>\n",
              "</mark>\n",
              " \n",
              "<mark class=\"entity\" style=\"background: #FFA500; padding: 0.45em 0.6em; margin: 0 0.25em; line-height: 1; border-radius: 0.35em;\">\n",
              "    signos de condensacion parenquimatosa\n",
              "    <span style=\"font-size: 0.8em; font-weight: bold; line-height: 1; border-radius: 0.35em; vertical-align: middle; margin-left: 0.5rem\">NSCO</span>\n",
              "</mark>\n",
              ". \n",
              "<mark class=\"entity\" style=\"background: #FF0000; padding: 0.45em 0.6em; margin: 0 0.25em; line-height: 1; border-radius: 0.35em;\">\n",
              "    no\n",
              "    <span style=\"font-size: 0.8em; font-weight: bold; line-height: 1; border-radius: 0.35em; vertical-align: middle; margin-left: 0.5rem\">NEG</span>\n",
              "</mark>\n",
              " \n",
              "<mark class=\"entity\" style=\"background: #FFA500; padding: 0.45em 0.6em; margin: 0 0.25em; line-height: 1; border-radius: 0.35em;\">\n",
              "    signos de redistribucion vascular.\n",
              "    <span style=\"font-size: 0.8em; font-weight: bold; line-height: 1; border-radius: 0.35em; vertical-align: middle; margin-left: 0.5rem\">NSCO</span>\n",
              "</mark>\n",
              " en planta -analitica de ingreso (19/02): htes 4.08 x10e12/l, hb 13.0 g/dl, hto 37.8%, ade 12.9%, leucocitos 5.86 x10e9/l (n 70.6%, l 21%, m 8%, e 0.2%, b 0.2%), plaquetas 186 x10e9/l. urea 63 mg/dl, cr 0.88 mg/dl, fg 61 ml/min/1,73 m2, bi 0.63 mg/dl, na 134.5 mmol/l, k 3.33 mmol/l, ca 9.6 mg/dl, ast 25 ui/l, alt 15 ui/l, fa 46 ui/l, ggt 14 ui/l, colesterol 243 mg/dl, trigliceridos 51 mg/dl, albumina 3.2 g/dl. - eab: ph 7.39, pco2 63, na 137, k 3.1, lactatos 1.5, hb 13.8, hco3 32.9 - radiografia de torax portatil: condensacion basal derecha. -analitica sanguinea (21/02): hb 12.1 g/dl, hcto 35.1 %, vcm 93.6 fl, hcm 32.3 pg, leucocitos 5.86 x10e9/l, n 80.0 %, l 12.3 %, m 7.5 %, e 0.2 %, b 0.0 %, can 4.7 x10e9/l, cal 0.7 x10e9/l, plaquetas 112 x10e9/l, glucosa 104 mg/dl, urea 71 mg/dl, creatinina 0.68 mg/dl, fge 81 ml/min/1,73, urato 3.0 mg/dl, bilir. total 0.43 mg/dl, bilir. directa 0.17 mg/dl, na 141.4 mmol/l, k 3.45 mmol/l, po4 2.9 mg/dl, ca 9.6 mg/dl, ast 26 ui/l, alt 15 ui/l, fa 49 ui/l, ggt 14 ui/l, colesterol 228 mg/dl, trigl. 66 mg/dl, prots 8.4 g/dl, albumina 3.3 g/dl - ecg: fa con rvm a 120 lpm con eje electrio a 0º, \n",
              "<mark class=\"entity\" style=\"background: #FF0000; padding: 0.45em 0.6em; margin: 0 0.25em; line-height: 1; border-radius: 0.35em;\">\n",
              "    sin\n",
              "    <span style=\"font-size: 0.8em; font-weight: bold; line-height: 1; border-radius: 0.35em; vertical-align: middle; margin-left: 0.5rem\">NEG</span>\n",
              "</mark>\n",
              " \n",
              "<mark class=\"entity\" style=\"background: #FFA500; padding: 0.45em 0.6em; margin: 0 0.25em; line-height: 1; border-radius: 0.35em;\">\n",
              "    alteraciones agudas de la repolarizacion\n",
              "    <span style=\"font-size: 0.8em; font-weight: bold; line-height: 1; border-radius: 0.35em; vertical-align: middle; margin-left: 0.5rem\">NSCO</span>\n",
              "</mark>\n",
              ". nhc ** *** *** &amp;nbsp;(********) &amp;nbsp;age-v-nrl 2/4 lopd evolucio clinica paciente con los antecedentes anteriormente descritos que a su llegada a urgencias se encuentra hemodinamicamente estable, \n",
              "<mark class=\"entity\" style=\"background: #FF0000; padding: 0.45em 0.6em; margin: 0 0.25em; line-height: 1; border-radius: 0.35em;\">\n",
              "    afebril\n",
              "    <span style=\"font-size: 0.8em; font-weight: bold; line-height: 1; border-radius: 0.35em; vertical-align: middle; margin-left: 0.5rem\">NEG</span>\n",
              "</mark>\n",
              " y con regular estado general. exploracion fisica \n",
              "<mark class=\"entity\" style=\"background: #800080; padding: 0.45em 0.6em; margin: 0 0.25em; line-height: 1; border-radius: 0.35em;\">\n",
              "    compatible con\n",
              "    <span style=\"font-size: 0.8em; font-weight: bold; line-height: 1; border-radius: 0.35em; vertical-align: middle; margin-left: 0.5rem\">UNC</span>\n",
              "</mark>\n",
              " \n",
              "<mark class=\"entity\" style=\"background: #FFC0CB; padding: 0.45em 0.6em; margin: 0 0.25em; line-height: 1; border-radius: 0.35em;\">\n",
              "    crisis miastenica de predominio bulbar\n",
              "    <span style=\"font-size: 0.8em; font-weight: bold; line-height: 1; border-radius: 0.35em; vertical-align: middle; margin-left: 0.5rem\">USCO</span>\n",
              "</mark>\n",
              ". se solicita analitica general y rx torax que \n",
              "<mark class=\"entity\" style=\"background: #FF0000; padding: 0.45em 0.6em; margin: 0 0.25em; line-height: 1; border-radius: 0.35em;\">\n",
              "    no\n",
              "    <span style=\"font-size: 0.8em; font-weight: bold; line-height: 1; border-radius: 0.35em; vertical-align: middle; margin-left: 0.5rem\">NEG</span>\n",
              "</mark>\n",
              " \n",
              "<mark class=\"entity\" style=\"background: #FFA500; padding: 0.45em 0.6em; margin: 0 0.25em; line-height: 1; border-radius: 0.35em;\">\n",
              "    muestran hallazgos significativos\n",
              "    <span style=\"font-size: 0.8em; font-weight: bold; line-height: 1; border-radius: 0.35em; vertical-align: middle; margin-left: 0.5rem\">NSCO</span>\n",
              "</mark>\n",
              ". ante cuadro de empeoramiento clinico progresivo en paciente con miastenia gravis fenotipo bulbar se decide inicio de igiv ajustado a peso (20g/dia durante 5 dias) asi como mantenimiento de mestinon 60mg 1-1-1 y dosis de prednisona de 60mg/dia. por el momento, dada la \n",
              "<mark class=\"entity\" style=\"background: #FF0000; padding: 0.45em 0.6em; margin: 0 0.25em; line-height: 1; border-radius: 0.35em;\">\n",
              "    ausencia de\n",
              "    <span style=\"font-size: 0.8em; font-weight: bold; line-height: 1; border-radius: 0.35em; vertical-align: middle; margin-left: 0.5rem\">NEG</span>\n",
              "</mark>\n",
              " \n",
              "<mark class=\"entity\" style=\"background: #FFA500; padding: 0.45em 0.6em; margin: 0 0.25em; line-height: 1; border-radius: 0.35em;\">\n",
              "    clinica respiratoria\n",
              "    <span style=\"font-size: 0.8em; font-weight: bold; line-height: 1; border-radius: 0.35em; vertical-align: middle; margin-left: 0.5rem\">NSCO</span>\n",
              "</mark>\n",
              " y gsa \n",
              "<mark class=\"entity\" style=\"background: #FF0000; padding: 0.45em 0.6em; margin: 0 0.25em; line-height: 1; border-radius: 0.35em;\">\n",
              "    sin\n",
              "    <span style=\"font-size: 0.8em; font-weight: bold; line-height: 1; border-radius: 0.35em; vertical-align: middle; margin-left: 0.5rem\">NEG</span>\n",
              "</mark>\n",
              " \n",
              "<mark class=\"entity\" style=\"background: #FFA500; padding: 0.45em 0.6em; margin: 0 0.25em; line-height: 1; border-radius: 0.35em;\">\n",
              "    alteraciones en los parametros\n",
              "    <span style=\"font-size: 0.8em; font-weight: bold; line-height: 1; border-radius: 0.35em; vertical-align: middle; margin-left: 0.5rem\">NSCO</span>\n",
              "</mark>\n",
              ", se decide conducta expectante. dada la persistencia de disfagia se decide insercion de sonda nasogastrica. se decide ingreso en planta de neurologia. la paciente llega a planta hemodinamicamente estable y \n",
              "<mark class=\"entity\" style=\"background: #FF0000; padding: 0.45em 0.6em; margin: 0 0.25em; line-height: 1; border-radius: 0.35em;\">\n",
              "    afebril\n",
              "    <span style=\"font-size: 0.8em; font-weight: bold; line-height: 1; border-radius: 0.35em; vertical-align: middle; margin-left: 0.5rem\">NEG</span>\n",
              "</mark>\n",
              ", con buen estado general, destacando en la exploracion fisica persistencia de disartria bulbar asi como ptosis bilateral fatigable de predominio derecho. se realiza analitica general de ingreso que \n",
              "<mark class=\"entity\" style=\"background: #FF0000; padding: 0.45em 0.6em; margin: 0 0.25em; line-height: 1; border-radius: 0.35em;\">\n",
              "    no\n",
              "    <span style=\"font-size: 0.8em; font-weight: bold; line-height: 1; border-radius: 0.35em; vertical-align: middle; margin-left: 0.5rem\">NEG</span>\n",
              "</mark>\n",
              " \n",
              "<mark class=\"entity\" style=\"background: #FFA500; padding: 0.45em 0.6em; margin: 0 0.25em; line-height: 1; border-radius: 0.35em;\">\n",
              "    muestra alteraciones destacables\n",
              "    <span style=\"font-size: 0.8em; font-weight: bold; line-height: 1; border-radius: 0.35em; vertical-align: middle; margin-left: 0.5rem\">NSCO</span>\n",
              "</mark>\n",
              ". se termina pauta de igs y se continua con tratamiento con piridostigmina y corticoides. posteriormente se añade al tratamiento tacrolimus a dosis de 1mg-0-1mg, que tras un par de controles analiticos en que se mantiene en dosis valle en torno a 3.8-4.8 se decide aumento de dosis a 1mg-0-2mg para poder asi iniciar la reduccion de corticoterapia (la paciente presenta hiperglicemia reactiva al tratamiento corticoideo requiriendo incluso administracion de insulina lenta basal ademas de los rescates de insulinoterapia de rapida accion). durante su ingreso la paciente presenta empeoramiento respiratorio con roncus bilaterales de predominio basal derecho. orientado como \n",
              "<mark class=\"entity\" style=\"background: #800080; padding: 0.45em 0.6em; margin: 0 0.25em; line-height: 1; border-radius: 0.35em;\">\n",
              "    probable\n",
              "    <span style=\"font-size: 0.8em; font-weight: bold; line-height: 1; border-radius: 0.35em; vertical-align: middle; margin-left: 0.5rem\">UNC</span>\n",
              "</mark>\n",
              " \n",
              "<mark class=\"entity\" style=\"background: #FFC0CB; padding: 0.45em 0.6em; margin: 0 0.25em; line-height: 1; border-radius: 0.35em;\">\n",
              "    infeccion respiratoria en contexto de broncoaspiracion secundaria a mg bulbar se decide iniciar corticoterapia, broncodilatadores, amoxicilina -clavulanico\n",
              "    <span style=\"font-size: 0.8em; font-weight: bold; line-height: 1; border-radius: 0.35em; vertical-align: middle; margin-left: 0.5rem\">USCO</span>\n",
              "</mark>\n",
              " y se avisa a uci y neumologia. a su valoracion se decide iniciar vmni con ipap/epa de 14/6 con buen acomodacion y buenas saturaciones. posteriormente, tras mejoria clinica progresiva, es \n",
              "<mark class=\"entity\" style=\"background: #800080; padding: 0.45em 0.6em; margin: 0 0.25em; line-height: 1; border-radius: 0.35em;\">\n",
              "    posible\n",
              "    <span style=\"font-size: 0.8em; font-weight: bold; line-height: 1; border-radius: 0.35em; vertical-align: middle; margin-left: 0.5rem\">UNC</span>\n",
              "</mark>\n",
              " \n",
              "<mark class=\"entity\" style=\"background: #FFC0CB; padding: 0.45em 0.6em; margin: 0 0.25em; line-height: 1; border-radius: 0.35em;\">\n",
              "    su retirada,\n",
              "    <span style=\"font-size: 0.8em; font-weight: bold; line-height: 1; border-radius: 0.35em; vertical-align: middle; margin-left: 0.5rem\">USCO</span>\n",
              "</mark>\n",
              " \n",
              "<mark class=\"entity\" style=\"background: #FF0000; padding: 0.45em 0.6em; margin: 0 0.25em; line-height: 1; border-radius: 0.35em;\">\n",
              "    sin\n",
              "    <span style=\"font-size: 0.8em; font-weight: bold; line-height: 1; border-radius: 0.35em; vertical-align: middle; margin-left: 0.5rem\">NEG</span>\n",
              "</mark>\n",
              " \n",
              "<mark class=\"entity\" style=\"background: #FFA500; padding: 0.45em 0.6em; margin: 0 0.25em; line-height: 1; border-radius: 0.35em;\">\n",
              "    volver a requerir ventilacion mecanica\n",
              "    <span style=\"font-size: 0.8em; font-weight: bold; line-height: 1; border-radius: 0.35em; vertical-align: middle; margin-left: 0.5rem\">NSCO</span>\n",
              "</mark>\n",
              ". por otro lado, durante su ingreso se objetiva pulso arritmico con ecg \n",
              "<mark class=\"entity\" style=\"background: #800080; padding: 0.45em 0.6em; margin: 0 0.25em; line-height: 1; border-radius: 0.35em;\">\n",
              "    compatible con\n",
              "    <span style=\"font-size: 0.8em; font-weight: bold; line-height: 1; border-radius: 0.35em; vertical-align: middle; margin-left: 0.5rem\">UNC</span>\n",
              "</mark>\n",
              " \n",
              "<mark class=\"entity\" style=\"background: #FFC0CB; padding: 0.45em 0.6em; margin: 0 0.25em; line-height: 1; border-radius: 0.35em;\">\n",
              "    fibrilacion auricular con rvm 120 lpm\n",
              "    <span style=\"font-size: 0.8em; font-weight: bold; line-height: 1; border-radius: 0.35em; vertical-align: middle; margin-left: 0.5rem\">USCO</span>\n",
              "</mark>\n",
              " por lo que se inicia tratamiento betabloqueante y anticoagulacion con enoxaparina, pasando a acenocumarol. ecocardiograma transtoracico muestra fevi conservada, insuficiencia mitral moderada y dilatacion auricular. se solicita vralocion por unidad de tratamientos anticoagulantes para \n",
              "<mark class=\"entity\" style=\"background: #800080; padding: 0.45em 0.6em; margin: 0 0.25em; line-height: 1; border-radius: 0.35em;\">\n",
              "    valorar\n",
              "    <span style=\"font-size: 0.8em; font-weight: bold; line-height: 1; border-radius: 0.35em; vertical-align: middle; margin-left: 0.5rem\">UNC</span>\n",
              "</mark>\n",
              " \n",
              "<mark class=\"entity\" style=\"background: #FFC0CB; padding: 0.45em 0.6em; margin: 0 0.25em; line-height: 1; border-radius: 0.35em;\">\n",
              "    paso a naco.\n",
              "    <span style=\"font-size: 0.8em; font-weight: bold; line-height: 1; border-radius: 0.35em; vertical-align: middle; margin-left: 0.5rem\">USCO</span>\n",
              "</mark>\n",
              " deambula por la planta ayudada de baston. realiza rhb \n",
              "<mark class=\"entity\" style=\"background: #FF0000; padding: 0.45em 0.6em; margin: 0 0.25em; line-height: 1; border-radius: 0.35em;\">\n",
              "    sin\n",
              "    <span style=\"font-size: 0.8em; font-weight: bold; line-height: 1; border-radius: 0.35em; vertical-align: middle; margin-left: 0.5rem\">NEG</span>\n",
              "</mark>\n",
              " \n",
              "<mark class=\"entity\" style=\"background: #FFA500; padding: 0.45em 0.6em; margin: 0 0.25em; line-height: 1; border-radius: 0.35em;\">\n",
              "    incidencias\n",
              "    <span style=\"font-size: 0.8em; font-weight: bold; line-height: 1; border-radius: 0.35em; vertical-align: middle; margin-left: 0.5rem\">NSCO</span>\n",
              "</mark>\n",
              ". durante el ingreso presenta progresiva mejoria clinica en cuanto a la ptosis, la disartria y la disfagia. es valorada de nuevo por foniatria, comprobandose que la deglucion de liquidos es segura. asi pues, ante la clara mejoria y estabilizacion clinica, optimizacion del tratamiento y habiendose completado el estudio, se decide alta a domicilio. qmg al alta de 6 (ptosis a los 40s, brazos claudican a los 180s, cabeza claudica a los 90s, piernas claudican a los 60s. con cvf adecuada para su edad. hand grip \n",
              "<mark class=\"entity\" style=\"background: #FF0000; padding: 0.45em 0.6em; margin: 0 0.25em; line-height: 1; border-radius: 0.35em;\">\n",
              "    no\n",
              "    <span style=\"font-size: 0.8em; font-weight: bold; line-height: 1; border-radius: 0.35em; vertical-align: middle; margin-left: 0.5rem\">NEG</span>\n",
              "</mark>\n",
              " \n",
              "<mark class=\"entity\" style=\"background: #FFA500; padding: 0.45em 0.6em; margin: 0 0.25em; line-height: 1; border-radius: 0.35em;\">\n",
              "    valorable\n",
              "    <span style=\"font-size: 0.8em; font-weight: bold; line-height: 1; border-radius: 0.35em; vertical-align: middle; margin-left: 0.5rem\">NSCO</span>\n",
              "</mark>\n",
              " al \n",
              "<mark class=\"entity\" style=\"background: #FF0000; padding: 0.45em 0.6em; margin: 0 0.25em; line-height: 1; border-radius: 0.35em;\">\n",
              "    no\n",
              "    <span style=\"font-size: 0.8em; font-weight: bold; line-height: 1; border-radius: 0.35em; vertical-align: middle; margin-left: 0.5rem\">NEG</span>\n",
              "</mark>\n",
              " \n",
              "<mark class=\"entity\" style=\"background: #FFA500; padding: 0.45em 0.6em; margin: 0 0.25em; line-height: 1; border-radius: 0.35em;\">\n",
              "    disponer de las herramientas adecuadas)\n",
              "    <span style=\"font-size: 0.8em; font-weight: bold; line-height: 1; border-radius: 0.35em; vertical-align: middle; margin-left: 0.5rem\">NSCO</span>\n",
              "</mark>\n",
              ". mantendra tratamiento con tacrolimis y pauta de prednisona que se ira descendiendo a nivel ambulatorio. mientras siga en tratamiento con corticoides se administrara insulina, con contro por su medico de atencion primaria. visita de control en cex neurologia-unidad neuromuscular el dia 23 de abril a las 8:30h (dr *****/dra *******). completara el estudio con la realizacion de pruebas respiratorias funcionales segun programacion. se explican signos de alarma y pautas de reconsulta. orientacio diagnostica g70.01 miastenia greu amb exacerbacio (aguda ) e78.00 hipercolesterolemia pura \n",
              "<mark class=\"entity\" style=\"background: #FF0000; padding: 0.45em 0.6em; margin: 0 0.25em; line-height: 1; border-radius: 0.35em;\">\n",
              "    no\n",
              "    <span style=\"font-size: 0.8em; font-weight: bold; line-height: 1; border-radius: 0.35em; vertical-align: middle; margin-left: 0.5rem\">NEG</span>\n",
              "</mark>\n",
              " \n",
              "<mark class=\"entity\" style=\"background: #FFA500; padding: 0.45em 0.6em; margin: 0 0.25em; line-height: 1; border-radius: 0.35em;\">\n",
              "    especificada i10\n",
              "    <span style=\"font-size: 0.8em; font-weight: bold; line-height: 1; border-radius: 0.35em; vertical-align: middle; margin-left: 0.5rem\">NSCO</span>\n",
              "</mark>\n",
              " hipertensio (primaria) essencial c50.919 neoplasia maligna de localitzacio \n",
              "<mark class=\"entity\" style=\"background: #FF0000; padding: 0.45em 0.6em; margin: 0 0.25em; line-height: 1; border-radius: 0.35em;\">\n",
              "    no\n",
              "    <span style=\"font-size: 0.8em; font-weight: bold; line-height: 1; border-radius: 0.35em; vertical-align: middle; margin-left: 0.5rem\">NEG</span>\n",
              "</mark>\n",
              " \n",
              "<mark class=\"entity\" style=\"background: #FFA500; padding: 0.45em 0.6em; margin: 0 0.25em; line-height: 1; border-radius: 0.35em;\">\n",
              "    especificada\n",
              "    <span style=\"font-size: 0.8em; font-weight: bold; line-height: 1; border-radius: 0.35em; vertical-align: middle; margin-left: 0.5rem\">NSCO</span>\n",
              "</mark>\n",
              ", mama femenina \n",
              "<mark class=\"entity\" style=\"background: #FF0000; padding: 0.45em 0.6em; margin: 0 0.25em; line-height: 1; border-radius: 0.35em;\">\n",
              "    no\n",
              "    <span style=\"font-size: 0.8em; font-weight: bold; line-height: 1; border-radius: 0.35em; vertical-align: middle; margin-left: 0.5rem\">NEG</span>\n",
              "</mark>\n",
              " \n",
              "<mark class=\"entity\" style=\"background: #FFA500; padding: 0.45em 0.6em; margin: 0 0.25em; line-height: 1; border-radius: 0.35em;\">\n",
              "    especificada\n",
              "    <span style=\"font-size: 0.8em; font-weight: bold; line-height: 1; border-radius: 0.35em; vertical-align: middle; margin-left: 0.5rem\">NSCO</span>\n",
              "</mark>\n",
              " nhc ** *** *** &amp;nbsp;(********) &amp;nbsp;age-v-nrl 3/4 lopd tractament i recomanacions a l'alta -prednisona 30mg 1 comprimido al dia. se realizara descenso en cosultas externas. -piridostigmina (mestinon) 60mg 1 comprimido cada 6 horas. -tacrolimus (prograf) 1mg,1 comprimido en el deayuno y 2 en la cena. -bisoprolol 2,5mg 1 comprimido por la mañana. - xarelto 20mg 1 comprimido al dia -insulina lantus 10 unidades con el desayuno. control por su medico de atencion primaria ir descendiendo. -resto de tratamiento \n",
              "<mark class=\"entity\" style=\"background: #FF0000; padding: 0.45em 0.6em; margin: 0 0.25em; line-height: 1; border-radius: 0.35em;\">\n",
              "    sin\n",
              "    <span style=\"font-size: 0.8em; font-weight: bold; line-height: 1; border-radius: 0.35em; vertical-align: middle; margin-left: 0.5rem\">NEG</span>\n",
              "</mark>\n",
              " \n",
              "<mark class=\"entity\" style=\"background: #FFA500; padding: 0.45em 0.6em; margin: 0 0.25em; line-height: 1; border-radius: 0.35em;\">\n",
              "    cambios\n",
              "    <span style=\"font-size: 0.8em; font-weight: bold; line-height: 1; border-radius: 0.35em; vertical-align: middle; margin-left: 0.5rem\">NSCO</span>\n",
              "</mark>\n",
              ". control - visita de control en cex neurologia-unidad neuromuscular (1ª planta annexo) el dia 23 de abril a las 8:30h. -acudir a realizacion de analitica de sangre (determinacion niveles de tacrolimus) el dia y hora que se le indique (acudir \n",
              "<mark class=\"entity\" style=\"background: #FF0000; padding: 0.45em 0.6em; margin: 0 0.25em; line-height: 1; border-radius: 0.35em;\">\n",
              "    sin\n",
              "    <span style=\"font-size: 0.8em; font-weight: bold; line-height: 1; border-radius: 0.35em; vertical-align: middle; margin-left: 0.5rem\">NEG</span>\n",
              "</mark>\n",
              " \n",
              "<mark class=\"entity\" style=\"background: #FFA500; padding: 0.45em 0.6em; margin: 0 0.25em; line-height: 1; border-radius: 0.35em;\">\n",
              "    tomar la dosis matutina de tacrolimus)\n",
              "    <span style=\"font-size: 0.8em; font-weight: bold; line-height: 1; border-radius: 0.35em; vertical-align: middle; margin-left: 0.5rem\">NSCO</span>\n",
              "</mark>\n",
              ". -control de tratamiento con insulina y suplementos de calcio por su medico de atencion primaria, ir retirando. -acudir a realizacion de pruebas respiratorias funcionales segun se le indique telefonicamente o via correo ordinario. destinacio a l'alta: a domicili nhc ** *** *** &amp;nbsp;(********) &amp;nbsp;age-v-nrl 4/4 lopd</div></span>"
            ]
          },
          "metadata": {}
        }
      ],
      "source": [
        "# We also tried using texts form the validation set:\n",
        "doc = nlp_ner(validation_data[random.randint(0, len(validation_data))]['text'])\n",
        "\n",
        "spacy.displacy.render(doc, style=\"ent\", options= options, jupyter=True)"
      ]
    },
    {
      "cell_type": "markdown",
      "source": [
        "### Testing with texts that are not from the data (medical texts from the internet)"
      ],
      "metadata": {
        "id": "U9crqDa1XM70"
      }
    },
    {
      "cell_type": "code",
      "source": [
        "text = '''nº historia clinica: ** *** *** nºepisodi: ******** sexe: home data de naixement: 27.07.1956 edat: 67 anys procedencia domicil/res.soc servei cirurgia general data d'ingres 15.05.2023 data d'alta 28.05.2023 11:20:22 ates per **************, *****; ***************, ************; ************, ********** informe d'alta d'hospitalitzacio motiu d'ingres dolor abdominal agudo y nausea post colecistectomia.\n",
        "\n",
        "antecedents sin alergias medicamentosas conocidas - hipertension arterial en tratamiento con losartan. - enfermedad pulmonar obstructiva cronica. - colecistectomia laparoscopica 05/05/2023 en huvh.\n",
        "\n",
        "proces actual hombre de 67 años intervenido de colecistectomia laparoscopica el dia 05/05/2023 por litiasis biliar, presentando cuadro de dolor abdominal y nausea sin vomitos. fiebre. Se sospecha que el paciente pueda sufrir de fuerte diarrea explosiva.\n",
        "\n",
        "exploracio fisica buen estado general, afebril, hdm estable. abdomen: herida quirurgica con buen aspecto, levemente distendido, no doloroso a la palpacion, sin signos de irritacion peritoneal.\n",
        "\n",
        "exploracio complementaria ag: hb 15, leu 8.25, plaq 265, inr 1.03, glu 122, cr 1.22, na 133.5, pcr 10.'''"
      ],
      "metadata": {
        "id": "Y_C8EFZpw0HS"
      },
      "execution_count": null,
      "outputs": []
    },
    {
      "cell_type": "code",
      "source": [
        "doc = nlp_ner(text)\n",
        "\n",
        "spacy.displacy.render(doc, style=\"ent\", options= options, jupyter=True)"
      ],
      "metadata": {
        "id": "VC_LC9gJw8J7",
        "colab": {
          "base_uri": "https://localhost:8080/",
          "height": 577
        },
        "outputId": "ac1b358f-f276-4c91-c010-f31fc561edc4"
      },
      "execution_count": null,
      "outputs": [
        {
          "output_type": "display_data",
          "data": {
            "text/plain": [
              "<IPython.core.display.HTML object>"
            ],
            "text/html": [
              "<span class=\"tex2jax_ignore\"><div class=\"entities\" style=\"line-height: 2.5; direction: ltr\">nº historia clinica: ** *** *** nºepisodi: ******** sexe: home data de naixement: 27.07.1956 edat: 67 anys procedencia domicil/res.soc servei cirurgia general data d'ingres 15.05.2023 data d'alta 28.05.2023 11:20:22 ates per **************, *****; ***************, ************; ************, ********** informe d'alta d'hospitalitzacio motiu d'ingres dolor abdominal agudo y nausea post colecistectomia.</br></br>antecedents \n",
              "<mark class=\"entity\" style=\"background: #FF0000; padding: 0.45em 0.6em; margin: 0 0.25em; line-height: 1; border-radius: 0.35em;\">\n",
              "    sin\n",
              "    <span style=\"font-size: 0.8em; font-weight: bold; line-height: 1; border-radius: 0.35em; vertical-align: middle; margin-left: 0.5rem\">NEG</span>\n",
              "</mark>\n",
              " \n",
              "<mark class=\"entity\" style=\"background: #FFA500; padding: 0.45em 0.6em; margin: 0 0.25em; line-height: 1; border-radius: 0.35em;\">\n",
              "    alergias medicamentosas conocidas\n",
              "    <span style=\"font-size: 0.8em; font-weight: bold; line-height: 1; border-radius: 0.35em; vertical-align: middle; margin-left: 0.5rem\">NSCO</span>\n",
              "</mark>\n",
              " - hipertension arterial en tratamiento con losartan. - enfermedad pulmonar obstructiva cronica. - colecistectomia laparoscopica 05/05/2023 en huvh.</br></br>proces actual hombre de 67 años intervenido de colecistectomia laparoscopica el dia 05/05/2023 por litiasis biliar, presentando cuadro de dolor abdominal y nausea \n",
              "<mark class=\"entity\" style=\"background: #FF0000; padding: 0.45em 0.6em; margin: 0 0.25em; line-height: 1; border-radius: 0.35em;\">\n",
              "    sin\n",
              "    <span style=\"font-size: 0.8em; font-weight: bold; line-height: 1; border-radius: 0.35em; vertical-align: middle; margin-left: 0.5rem\">NEG</span>\n",
              "</mark>\n",
              " \n",
              "<mark class=\"entity\" style=\"background: #FFA500; padding: 0.45em 0.6em; margin: 0 0.25em; line-height: 1; border-radius: 0.35em;\">\n",
              "    vomitos.\n",
              "    <span style=\"font-size: 0.8em; font-weight: bold; line-height: 1; border-radius: 0.35em; vertical-align: middle; margin-left: 0.5rem\">NSCO</span>\n",
              "</mark>\n",
              " fiebre. Se \n",
              "<mark class=\"entity\" style=\"background: #800080; padding: 0.45em 0.6em; margin: 0 0.25em; line-height: 1; border-radius: 0.35em;\">\n",
              "    sospecha\n",
              "    <span style=\"font-size: 0.8em; font-weight: bold; line-height: 1; border-radius: 0.35em; vertical-align: middle; margin-left: 0.5rem\">UNC</span>\n",
              "</mark>\n",
              " \n",
              "<mark class=\"entity\" style=\"background: #FFC0CB; padding: 0.45em 0.6em; margin: 0 0.25em; line-height: 1; border-radius: 0.35em;\">\n",
              "    que el paciente pueda sufrir de fuerte diarrea explosiva.\n",
              "    <span style=\"font-size: 0.8em; font-weight: bold; line-height: 1; border-radius: 0.35em; vertical-align: middle; margin-left: 0.5rem\">USCO</span>\n",
              "</mark>\n",
              "</br></br>exploracio fisica buen estado general, \n",
              "<mark class=\"entity\" style=\"background: #FF0000; padding: 0.45em 0.6em; margin: 0 0.25em; line-height: 1; border-radius: 0.35em;\">\n",
              "    afebril\n",
              "    <span style=\"font-size: 0.8em; font-weight: bold; line-height: 1; border-radius: 0.35em; vertical-align: middle; margin-left: 0.5rem\">NEG</span>\n",
              "</mark>\n",
              ", hdm estable. abdomen: herida quirurgica con buen aspecto, levemente distendido, \n",
              "<mark class=\"entity\" style=\"background: #FF0000; padding: 0.45em 0.6em; margin: 0 0.25em; line-height: 1; border-radius: 0.35em;\">\n",
              "    no\n",
              "    <span style=\"font-size: 0.8em; font-weight: bold; line-height: 1; border-radius: 0.35em; vertical-align: middle; margin-left: 0.5rem\">NEG</span>\n",
              "</mark>\n",
              " \n",
              "<mark class=\"entity\" style=\"background: #FFA500; padding: 0.45em 0.6em; margin: 0 0.25em; line-height: 1; border-radius: 0.35em;\">\n",
              "    doloroso a la palpacion\n",
              "    <span style=\"font-size: 0.8em; font-weight: bold; line-height: 1; border-radius: 0.35em; vertical-align: middle; margin-left: 0.5rem\">NSCO</span>\n",
              "</mark>\n",
              ", \n",
              "<mark class=\"entity\" style=\"background: #FF0000; padding: 0.45em 0.6em; margin: 0 0.25em; line-height: 1; border-radius: 0.35em;\">\n",
              "    sin\n",
              "    <span style=\"font-size: 0.8em; font-weight: bold; line-height: 1; border-radius: 0.35em; vertical-align: middle; margin-left: 0.5rem\">NEG</span>\n",
              "</mark>\n",
              " \n",
              "<mark class=\"entity\" style=\"background: #FFA500; padding: 0.45em 0.6em; margin: 0 0.25em; line-height: 1; border-radius: 0.35em;\">\n",
              "    signos de irritacion peritoneal\n",
              "    <span style=\"font-size: 0.8em; font-weight: bold; line-height: 1; border-radius: 0.35em; vertical-align: middle; margin-left: 0.5rem\">NSCO</span>\n",
              "</mark>\n",
              ".</br></br>exploracio complementaria ag: hb 15, leu 8.25, plaq 265, inr 1.03, glu 122, cr 1.22, na 133.5, pcr 10.</div></span>"
            ]
          },
          "metadata": {}
        }
      ]
    },
    {
      "cell_type": "code",
      "source": [
        "text = '''Número de historia clínica: ** *** *** Número de episodio: ******** Sexo: masculino Fecha de nacimiento: 14.03.1953 Edad: 66 años Procedencia: domicilio/ res.soc. Servicio de oncología médica Fecha de ingreso: 25.03.2019 Fecha de alta: 02.04.2019 Atendido por: ************, *****; *******************, *****************\n",
        "\n",
        "Informe de alta hospitalaria:\n",
        "\n",
        "Motivo de ingreso: Paciente masculino de 66 años que acude a urgencias por vómitos y mareos. No se puede descartar ni confirmar alergias a medicamentos. Historia oncológica: paciente con glioblastoma medular. Resección parcial realizada. Se optó por esquema de qt -rdt stupp tmz y rdt hasta dt 60 gy rt /qt stupp temozolomida.\n",
        "\n",
        "Tras el primer ciclo de tmz en 6/4/18, se realiza resonancia magnética cada 3 ciclos. Se dan un total de 7 ciclos con buena tolerancia. Posible progresión de la enfermedad a los 7 ciclos en forma de diseminación medular. No se puede confirmar ni descartar signos significativos clínicamente. Se decide reirradiación con tmz como radiosensibilizador.\n",
        "\n",
        "El paciente sufrió un evento de trombosis venosa profunda en las extremidades inferiores bilateral proximal en abril/18. Eco-doppler realizado en 24.07.18: venas femorales permeables compresibles con fascicidad respiratoria, venas poplíteas y gemelares permeables compresibles sin trombo identificado.\n",
        "\n",
        "En septiembre/18, con la trombosis venosa profunda resuelta y finalizada la quimioterapia, se pasa a profilaxis secundaria. En octubre 18 se realiza radioterapia/quimioterapia sobre los focos de progresión y temozolomida concomitante.\n",
        "\n",
        "En el seguimiento con resonancia magnética en enero 2019, se confirman signos radiológicos de progresión tumoral por discreto crecimiento de los implantes leptomeningeos dorsales ya conocidos. Se identifican signos de carcinomatosis cranail, que no se encontraban en el estudio de junio 2018.\n",
        "\n",
        "El paciente está actualmente bajo tratamiento de segunda línea con bevacizumab en monoterapia. El estudio de resonancia magnética espinal de control en 06.03.19 muestra mejora radiológica de la enfermedad dada por una discreta disminución de la lesión a nivel del cono, así como significativa disminución de los implantes a nivel dorsal alto y posible resolución del pequeño implante a nivel cervical.\n",
        "\n",
        "El paciente es seguido en consulta de oncología por la Dra. Vieito / Dra. Gonzalez. Durante su ingreso hospitalario, el paciente ha mantenido hemodinámicamente estable y afebril.\n",
        "\n",
        "Se decide dar de alta estableciendo normas de reconsulta y medidas terapéuticas. El paciente iniciará nueva medicación y continuará con su medicación habitual. Se realizará un seguimiento en consulta externa de oncología según citación. Se explican signos de alarma y reconsulta.\n",
        "\n",
        "Este informe pretende ser un resumen de los eventos médicos significativos del paciente to: ChatGPT Assistant<|im_sep|>Paciente: Sexo masculino, Fecha de nacimiento: 14.03.1953, Edad: 66 años. Admitido en el departamento de oncología médica el 25.03.2019 y dado de alta el 02.04.2019. Informe de alta proporcionado por el equipo de oncología.\n",
        "\n",
        "El paciente, un hombre de 66 años, acudió a emergencias con vómitos y mareos. No se confirmó ni descartó la presencia de alergias a medicamentos. El paciente tiene un historial de glioblastoma medular y se le practicó una resección parcial.\n",
        "\n",
        "Tras la cirugía, se decidió continuar con quimioterapia y radioterapia (esquema Stupp), utilizando Temozolomida (TMZ). Se completaron 7 ciclos de tratamiento, los cuales fueron bien tolerados. Se sospecha de progresión de la enfermedad en la forma de diseminación medular, aunque esta no se ha confirmado ni descartado clínicamente. Se decide realizar una segunda irradiación con TMZ concomitante como radiosensibilizador.\n",
        "\n",
        "El paciente experimentó una trombosis venosa profunda (TVP) en las extremidades inferiores en abril de 2018. A partir de septiembre de 2018, y tras la resolución de la TVP, se inició una profilaxis secundaria. Se detectaron signos de carcinomatosis craneal, que no se habían confirmado ni descartado previamente.\n",
        "\n",
        "Actualmente, el paciente está en su segunda línea de tratamiento con bevacizumab en monoterapia. Una RM espinal realizada el 06.03.19 sugiere una mejora radiológica de la enfermedad. Sin embargo, se advierten cambios en la señal de la médula ósea en la región dorsal y adelgazamiento del cordón espinal dorsal, hallazgos atribuibles a cambios post-radiación. No se observan lesiones nuevas, pero la posibilidad no puede confirmarse ni descartarse.\n",
        "\n",
        "El paciente ha estado sintiendo inestabilidad cefálica y sensaciones de vértigo, que se exacerban con el movimiento de la cabeza. Se le ha prescrito betahistina, pero el aumento de la dosis no ha mostrado ninguna mejora confirmada ni descartada. Se realizó una TC craneal el 21/03 que evidenció signos sugestivos de carcinomatosis leptomeningea, aunque no se han descartado procesos agudos.\n",
        "\n",
        "Durante su hospitalización, el paciente ha permanecido hemodinámicamente estable y sin fiebre. Se decidió darle de alta con indicaciones para reconsulta y medidas terapéuticas. El diagnóstico principal es R42, mareo y vértigo. Se le recetó omeprazol y dexametasona, además de su medicación habitual, y se le dio un número de teléfono para atención inmediata en caso de cualquier signo de alarma.\n",
        "'''"
      ],
      "metadata": {
        "id": "FtzYeQXDXGow"
      },
      "execution_count": null,
      "outputs": []
    },
    {
      "cell_type": "code",
      "source": [
        "doc = nlp_ner(text)\n",
        "\n",
        "spacy.displacy.render(doc, style=\"ent\", options= options, jupyter=True)"
      ],
      "metadata": {
        "id": "7lB9Dmq0XfNW",
        "colab": {
          "base_uri": "https://localhost:8080/",
          "height": 1000
        },
        "outputId": "e4806689-4c04-4136-ae3a-563f160278a9"
      },
      "execution_count": null,
      "outputs": [
        {
          "output_type": "display_data",
          "data": {
            "text/plain": [
              "<IPython.core.display.HTML object>"
            ],
            "text/html": [
              "<span class=\"tex2jax_ignore\"><div class=\"entities\" style=\"line-height: 2.5; direction: ltr\">Número de historia clínica: ** *** *** Número de episodio: ******** Sexo: masculino Fecha de nacimiento: 14.03.1953 Edad: 66 años Procedencia: domicilio/ res.soc. Servicio de oncología médica Fecha de ingreso: 25.03.2019 Fecha de alta: 02.04.2019 Atendido por: ************, *****; *******************, *****************</br></br>Informe de alta hospitalaria:</br></br>Motivo de ingreso: Paciente masculino de 66 años que acude a urgencias por vómitos y mareos. \n",
              "<mark class=\"entity\" style=\"background: #FF0000; padding: 0.45em 0.6em; margin: 0 0.25em; line-height: 1; border-radius: 0.35em;\">\n",
              "    No\n",
              "    <span style=\"font-size: 0.8em; font-weight: bold; line-height: 1; border-radius: 0.35em; vertical-align: middle; margin-left: 0.5rem\">NEG</span>\n",
              "</mark>\n",
              " \n",
              "<mark class=\"entity\" style=\"background: #FFA500; padding: 0.45em 0.6em; margin: 0 0.25em; line-height: 1; border-radius: 0.35em;\">\n",
              "    se puede descartar ni confirmar alergias a medicamentos.\n",
              "    <span style=\"font-size: 0.8em; font-weight: bold; line-height: 1; border-radius: 0.35em; vertical-align: middle; margin-left: 0.5rem\">NSCO</span>\n",
              "</mark>\n",
              " Historia oncológica: paciente con glioblastoma medular. Resección parcial realizada. Se optó por esquema de qt -rdt stupp tmz y rdt hasta dt 60 gy rt /qt stupp temozolomida.</br></br>Tras el primer ciclo de tmz en 6/4/18, se realiza resonancia magnética cada 3 ciclos. Se dan un total de 7 ciclos con buena tolerancia. \n",
              "<mark class=\"entity\" style=\"background: #800080; padding: 0.45em 0.6em; margin: 0 0.25em; line-height: 1; border-radius: 0.35em;\">\n",
              "    Posible\n",
              "    <span style=\"font-size: 0.8em; font-weight: bold; line-height: 1; border-radius: 0.35em; vertical-align: middle; margin-left: 0.5rem\">UNC</span>\n",
              "</mark>\n",
              " \n",
              "<mark class=\"entity\" style=\"background: #FFC0CB; padding: 0.45em 0.6em; margin: 0 0.25em; line-height: 1; border-radius: 0.35em;\">\n",
              "    progresión de la enfermedad a los 7 ciclos en forma de diseminación medular.\n",
              "    <span style=\"font-size: 0.8em; font-weight: bold; line-height: 1; border-radius: 0.35em; vertical-align: middle; margin-left: 0.5rem\">USCO</span>\n",
              "</mark>\n",
              " \n",
              "<mark class=\"entity\" style=\"background: #FF0000; padding: 0.45em 0.6em; margin: 0 0.25em; line-height: 1; border-radius: 0.35em;\">\n",
              "    No\n",
              "    <span style=\"font-size: 0.8em; font-weight: bold; line-height: 1; border-radius: 0.35em; vertical-align: middle; margin-left: 0.5rem\">NEG</span>\n",
              "</mark>\n",
              " \n",
              "<mark class=\"entity\" style=\"background: #FFA500; padding: 0.45em 0.6em; margin: 0 0.25em; line-height: 1; border-radius: 0.35em;\">\n",
              "    se puede confirmar ni descartar signos significativos clínicamente\n",
              "    <span style=\"font-size: 0.8em; font-weight: bold; line-height: 1; border-radius: 0.35em; vertical-align: middle; margin-left: 0.5rem\">NSCO</span>\n",
              "</mark>\n",
              ". Se decide reirradiación con tmz como radiosensibilizador.</br></br>El paciente sufrió un evento de trombosis venosa profunda en las extremidades inferiores bilateral proximal en abril/18. Eco-doppler realizado en 24.07.18: venas femorales permeables \n",
              "<mark class=\"entity\" style=\"background: #800080; padding: 0.45em 0.6em; margin: 0 0.25em; line-height: 1; border-radius: 0.35em;\">\n",
              "    compresibles con\n",
              "    <span style=\"font-size: 0.8em; font-weight: bold; line-height: 1; border-radius: 0.35em; vertical-align: middle; margin-left: 0.5rem\">UNC</span>\n",
              "</mark>\n",
              " \n",
              "<mark class=\"entity\" style=\"background: #FFC0CB; padding: 0.45em 0.6em; margin: 0 0.25em; line-height: 1; border-radius: 0.35em;\">\n",
              "    fascicidad respiratoria, venas poplíteas\n",
              "    <span style=\"font-size: 0.8em; font-weight: bold; line-height: 1; border-radius: 0.35em; vertical-align: middle; margin-left: 0.5rem\">USCO</span>\n",
              "</mark>\n",
              " y gemelares permeables compresibles \n",
              "<mark class=\"entity\" style=\"background: #FF0000; padding: 0.45em 0.6em; margin: 0 0.25em; line-height: 1; border-radius: 0.35em;\">\n",
              "    sin\n",
              "    <span style=\"font-size: 0.8em; font-weight: bold; line-height: 1; border-radius: 0.35em; vertical-align: middle; margin-left: 0.5rem\">NEG</span>\n",
              "</mark>\n",
              " \n",
              "<mark class=\"entity\" style=\"background: #FFA500; padding: 0.45em 0.6em; margin: 0 0.25em; line-height: 1; border-radius: 0.35em;\">\n",
              "    trombo identificado\n",
              "    <span style=\"font-size: 0.8em; font-weight: bold; line-height: 1; border-radius: 0.35em; vertical-align: middle; margin-left: 0.5rem\">NSCO</span>\n",
              "</mark>\n",
              ".</br></br>En septiembre/18, con la trombosis venosa profunda resuelta y finalizada la quimioterapia, se pasa a profilaxis secundaria. En octubre 18 se realiza radioterapia/quimioterapia sobre los focos de progresión y temozolomida concomitante.</br></br>En el seguimiento con resonancia magnética en enero 2019, se confirman signos radiológicos de progresión tumoral por discreto crecimiento de los implantes leptomeningeos dorsales ya conocidos. Se identifican signos de carcinomatosis cranail, que \n",
              "<mark class=\"entity\" style=\"background: #FF0000; padding: 0.45em 0.6em; margin: 0 0.25em; line-height: 1; border-radius: 0.35em;\">\n",
              "    no\n",
              "    <span style=\"font-size: 0.8em; font-weight: bold; line-height: 1; border-radius: 0.35em; vertical-align: middle; margin-left: 0.5rem\">NEG</span>\n",
              "</mark>\n",
              " \n",
              "<mark class=\"entity\" style=\"background: #FFA500; padding: 0.45em 0.6em; margin: 0 0.25em; line-height: 1; border-radius: 0.35em;\">\n",
              "    se encontraban en el estudio de junio 2018.\n",
              "    <span style=\"font-size: 0.8em; font-weight: bold; line-height: 1; border-radius: 0.35em; vertical-align: middle; margin-left: 0.5rem\">NSCO</span>\n",
              "</mark>\n",
              "</br></br>El paciente está actualmente bajo tratamiento de segunda línea con bevacizumab en monoterapia. El estudio de resonancia magnética espinal de control en 06.03.19 muestra mejora radiológica de la enfermedad dada por una discreta disminución de la lesión a nivel del cono, así como significativa disminución de los implantes a nivel dorsal alto y \n",
              "<mark class=\"entity\" style=\"background: #800080; padding: 0.45em 0.6em; margin: 0 0.25em; line-height: 1; border-radius: 0.35em;\">\n",
              "    posible\n",
              "    <span style=\"font-size: 0.8em; font-weight: bold; line-height: 1; border-radius: 0.35em; vertical-align: middle; margin-left: 0.5rem\">UNC</span>\n",
              "</mark>\n",
              " \n",
              "<mark class=\"entity\" style=\"background: #FFC0CB; padding: 0.45em 0.6em; margin: 0 0.25em; line-height: 1; border-radius: 0.35em;\">\n",
              "    resolución del pequeño implante a nivel cervical.\n",
              "    <span style=\"font-size: 0.8em; font-weight: bold; line-height: 1; border-radius: 0.35em; vertical-align: middle; margin-left: 0.5rem\">USCO</span>\n",
              "</mark>\n",
              "</br></br>El paciente es seguido en consulta de oncología por la Dra. Vieito / Dra. Gonzalez. Durante su ingreso hospitalario, el paciente ha mantenido hemodinámicamente estable y \n",
              "<mark class=\"entity\" style=\"background: #FF0000; padding: 0.45em 0.6em; margin: 0 0.25em; line-height: 1; border-radius: 0.35em;\">\n",
              "    afebril\n",
              "    <span style=\"font-size: 0.8em; font-weight: bold; line-height: 1; border-radius: 0.35em; vertical-align: middle; margin-left: 0.5rem\">NEG</span>\n",
              "</mark>\n",
              ".</br></br>Se decide dar de alta estableciendo normas de reconsulta y medidas terapéuticas. El paciente iniciará nueva medicación y continuará con su medicación habitual. Se realizará un seguimiento en consulta externa de oncología según citación. Se explican signos de alarma y reconsulta.</br></br>Este informe pretende ser un resumen de los eventos médicos significativos del paciente to: ChatGPT Assistant&lt;|im_sep|&gt;Paciente: Sexo masculino, Fecha de nacimiento: 14.03.1953, Edad: 66 años. Admitido en el departamento de oncología médica el 25.03.2019 y dado de alta el 02.04.2019. Informe de alta proporcionado por el equipo de oncología.</br></br>El paciente, un hombre de 66 años, acudió a emergencias con vómitos y mareos. \n",
              "<mark class=\"entity\" style=\"background: #FF0000; padding: 0.45em 0.6em; margin: 0 0.25em; line-height: 1; border-radius: 0.35em;\">\n",
              "    No\n",
              "    <span style=\"font-size: 0.8em; font-weight: bold; line-height: 1; border-radius: 0.35em; vertical-align: middle; margin-left: 0.5rem\">NEG</span>\n",
              "</mark>\n",
              " \n",
              "<mark class=\"entity\" style=\"background: #FFA500; padding: 0.45em 0.6em; margin: 0 0.25em; line-height: 1; border-radius: 0.35em;\">\n",
              "    se confirmó ni descartó la presencia de alergias a medicamentos.\n",
              "    <span style=\"font-size: 0.8em; font-weight: bold; line-height: 1; border-radius: 0.35em; vertical-align: middle; margin-left: 0.5rem\">NSCO</span>\n",
              "</mark>\n",
              " El paciente tiene un historial de glioblastoma medular y se le practicó una resección parcial.</br></br>Tras la cirugía, se decidió continuar con quimioterapia y radioterapia (esquema Stupp), utilizando Temozolomida (TMZ). Se completaron 7 ciclos de tratamiento, los cuales fueron bien tolerados. Se \n",
              "<mark class=\"entity\" style=\"background: #800080; padding: 0.45em 0.6em; margin: 0 0.25em; line-height: 1; border-radius: 0.35em;\">\n",
              "    sospecha de\n",
              "    <span style=\"font-size: 0.8em; font-weight: bold; line-height: 1; border-radius: 0.35em; vertical-align: middle; margin-left: 0.5rem\">UNC</span>\n",
              "</mark>\n",
              " \n",
              "<mark class=\"entity\" style=\"background: #FFC0CB; padding: 0.45em 0.6em; margin: 0 0.25em; line-height: 1; border-radius: 0.35em;\">\n",
              "    progresión de la enfermedad en la forma de diseminación medular,\n",
              "    <span style=\"font-size: 0.8em; font-weight: bold; line-height: 1; border-radius: 0.35em; vertical-align: middle; margin-left: 0.5rem\">USCO</span>\n",
              "</mark>\n",
              " aunque esta \n",
              "<mark class=\"entity\" style=\"background: #FF0000; padding: 0.45em 0.6em; margin: 0 0.25em; line-height: 1; border-radius: 0.35em;\">\n",
              "    no\n",
              "    <span style=\"font-size: 0.8em; font-weight: bold; line-height: 1; border-radius: 0.35em; vertical-align: middle; margin-left: 0.5rem\">NEG</span>\n",
              "</mark>\n",
              " \n",
              "<mark class=\"entity\" style=\"background: #FFA500; padding: 0.45em 0.6em; margin: 0 0.25em; line-height: 1; border-radius: 0.35em;\">\n",
              "    se ha confirmado ni descartado clínicamente\n",
              "    <span style=\"font-size: 0.8em; font-weight: bold; line-height: 1; border-radius: 0.35em; vertical-align: middle; margin-left: 0.5rem\">NSCO</span>\n",
              "</mark>\n",
              ". Se decide realizar una segunda irradiación con TMZ concomitante como radiosensibilizador.</br></br>El paciente experimentó una trombosis venosa profunda (TVP) en las extremidades inferiores en abril de 2018. A partir de septiembre de 2018, y tras la resolución de la TVP, se inició una profilaxis secundaria. Se detectaron \n",
              "<mark class=\"entity\" style=\"background: #FFA500; padding: 0.45em 0.6em; margin: 0 0.25em; line-height: 1; border-radius: 0.35em;\">\n",
              "    signos de carcinomatosis craneal\n",
              "    <span style=\"font-size: 0.8em; font-weight: bold; line-height: 1; border-radius: 0.35em; vertical-align: middle; margin-left: 0.5rem\">NSCO</span>\n",
              "</mark>\n",
              ", que \n",
              "<mark class=\"entity\" style=\"background: #FF0000; padding: 0.45em 0.6em; margin: 0 0.25em; line-height: 1; border-radius: 0.35em;\">\n",
              "    no\n",
              "    <span style=\"font-size: 0.8em; font-weight: bold; line-height: 1; border-radius: 0.35em; vertical-align: middle; margin-left: 0.5rem\">NEG</span>\n",
              "</mark>\n",
              " \n",
              "<mark class=\"entity\" style=\"background: #FFA500; padding: 0.45em 0.6em; margin: 0 0.25em; line-height: 1; border-radius: 0.35em;\">\n",
              "    se habían confirmado ni descartado previamente\n",
              "    <span style=\"font-size: 0.8em; font-weight: bold; line-height: 1; border-radius: 0.35em; vertical-align: middle; margin-left: 0.5rem\">NSCO</span>\n",
              "</mark>\n",
              ".</br></br>Actualmente, el paciente está en su segunda línea de tratamiento con bevacizumab en monoterapia. Una RM espinal realizada el 06.03.19 \n",
              "<mark class=\"entity\" style=\"background: #800080; padding: 0.45em 0.6em; margin: 0 0.25em; line-height: 1; border-radius: 0.35em;\">\n",
              "    sugiere\n",
              "    <span style=\"font-size: 0.8em; font-weight: bold; line-height: 1; border-radius: 0.35em; vertical-align: middle; margin-left: 0.5rem\">UNC</span>\n",
              "</mark>\n",
              " \n",
              "<mark class=\"entity\" style=\"background: #FFC0CB; padding: 0.45em 0.6em; margin: 0 0.25em; line-height: 1; border-radius: 0.35em;\">\n",
              "    una mejora radiológica de la enfermedad.\n",
              "    <span style=\"font-size: 0.8em; font-weight: bold; line-height: 1; border-radius: 0.35em; vertical-align: middle; margin-left: 0.5rem\">USCO</span>\n",
              "</mark>\n",
              " \n",
              "<mark class=\"entity\" style=\"background: #FF0000; padding: 0.45em 0.6em; margin: 0 0.25em; line-height: 1; border-radius: 0.35em;\">\n",
              "    Sin\n",
              "    <span style=\"font-size: 0.8em; font-weight: bold; line-height: 1; border-radius: 0.35em; vertical-align: middle; margin-left: 0.5rem\">NEG</span>\n",
              "</mark>\n",
              " embargo, se \n",
              "<mark class=\"entity\" style=\"background: #800080; padding: 0.45em 0.6em; margin: 0 0.25em; line-height: 1; border-radius: 0.35em;\">\n",
              "    advierten\n",
              "    <span style=\"font-size: 0.8em; font-weight: bold; line-height: 1; border-radius: 0.35em; vertical-align: middle; margin-left: 0.5rem\">UNC</span>\n",
              "</mark>\n",
              " \n",
              "<mark class=\"entity\" style=\"background: #FFC0CB; padding: 0.45em 0.6em; margin: 0 0.25em; line-height: 1; border-radius: 0.35em;\">\n",
              "    cambios en la señal de la médula ósea en la región dorsal\n",
              "    <span style=\"font-size: 0.8em; font-weight: bold; line-height: 1; border-radius: 0.35em; vertical-align: middle; margin-left: 0.5rem\">USCO</span>\n",
              "</mark>\n",
              " y adelgazamiento del cordón espinal dorsal, hallazgos atribuibles a cambios post-radiación. \n",
              "<mark class=\"entity\" style=\"background: #FF0000; padding: 0.45em 0.6em; margin: 0 0.25em; line-height: 1; border-radius: 0.35em;\">\n",
              "    No\n",
              "    <span style=\"font-size: 0.8em; font-weight: bold; line-height: 1; border-radius: 0.35em; vertical-align: middle; margin-left: 0.5rem\">NEG</span>\n",
              "</mark>\n",
              " \n",
              "<mark class=\"entity\" style=\"background: #FFA500; padding: 0.45em 0.6em; margin: 0 0.25em; line-height: 1; border-radius: 0.35em;\">\n",
              "    se observan lesiones nuevas,\n",
              "    <span style=\"font-size: 0.8em; font-weight: bold; line-height: 1; border-radius: 0.35em; vertical-align: middle; margin-left: 0.5rem\">NSCO</span>\n",
              "</mark>\n",
              " pero la posibilidad \n",
              "<mark class=\"entity\" style=\"background: #FF0000; padding: 0.45em 0.6em; margin: 0 0.25em; line-height: 1; border-radius: 0.35em;\">\n",
              "    no\n",
              "    <span style=\"font-size: 0.8em; font-weight: bold; line-height: 1; border-radius: 0.35em; vertical-align: middle; margin-left: 0.5rem\">NEG</span>\n",
              "</mark>\n",
              " \n",
              "<mark class=\"entity\" style=\"background: #FFA500; padding: 0.45em 0.6em; margin: 0 0.25em; line-height: 1; border-radius: 0.35em;\">\n",
              "    puede confirmarse ni descartarse\n",
              "    <span style=\"font-size: 0.8em; font-weight: bold; line-height: 1; border-radius: 0.35em; vertical-align: middle; margin-left: 0.5rem\">NSCO</span>\n",
              "</mark>\n",
              ".</br></br>El paciente ha estado sintiendo inestabilidad cefálica y sensaciones de vértigo, que se exacerban con el movimiento de la cabeza. Se le ha prescrito betahistina, pero el aumento de la dosis \n",
              "<mark class=\"entity\" style=\"background: #FF0000; padding: 0.45em 0.6em; margin: 0 0.25em; line-height: 1; border-radius: 0.35em;\">\n",
              "    no\n",
              "    <span style=\"font-size: 0.8em; font-weight: bold; line-height: 1; border-radius: 0.35em; vertical-align: middle; margin-left: 0.5rem\">NEG</span>\n",
              "</mark>\n",
              " \n",
              "<mark class=\"entity\" style=\"background: #FFA500; padding: 0.45em 0.6em; margin: 0 0.25em; line-height: 1; border-radius: 0.35em;\">\n",
              "    ha mostrado ninguna mejora confirmada ni descartada\n",
              "    <span style=\"font-size: 0.8em; font-weight: bold; line-height: 1; border-radius: 0.35em; vertical-align: middle; margin-left: 0.5rem\">NSCO</span>\n",
              "</mark>\n",
              ". Se realizó una TC craneal el 21/03 que evidenció signos \n",
              "<mark class=\"entity\" style=\"background: #800080; padding: 0.45em 0.6em; margin: 0 0.25em; line-height: 1; border-radius: 0.35em;\">\n",
              "    sugestivos de\n",
              "    <span style=\"font-size: 0.8em; font-weight: bold; line-height: 1; border-radius: 0.35em; vertical-align: middle; margin-left: 0.5rem\">UNC</span>\n",
              "</mark>\n",
              " \n",
              "<mark class=\"entity\" style=\"background: #FFC0CB; padding: 0.45em 0.6em; margin: 0 0.25em; line-height: 1; border-radius: 0.35em;\">\n",
              "    carcinomatosis leptomeningea,\n",
              "    <span style=\"font-size: 0.8em; font-weight: bold; line-height: 1; border-radius: 0.35em; vertical-align: middle; margin-left: 0.5rem\">USCO</span>\n",
              "</mark>\n",
              " aunque \n",
              "<mark class=\"entity\" style=\"background: #FF0000; padding: 0.45em 0.6em; margin: 0 0.25em; line-height: 1; border-radius: 0.35em;\">\n",
              "    no\n",
              "    <span style=\"font-size: 0.8em; font-weight: bold; line-height: 1; border-radius: 0.35em; vertical-align: middle; margin-left: 0.5rem\">NEG</span>\n",
              "</mark>\n",
              " \n",
              "<mark class=\"entity\" style=\"background: #FFA500; padding: 0.45em 0.6em; margin: 0 0.25em; line-height: 1; border-radius: 0.35em;\">\n",
              "    se han descartado procesos agudos.\n",
              "    <span style=\"font-size: 0.8em; font-weight: bold; line-height: 1; border-radius: 0.35em; vertical-align: middle; margin-left: 0.5rem\">NSCO</span>\n",
              "</mark>\n",
              "</br></br>Durante su hospitalización, el paciente ha permanecido hemodinámicamente estable y \n",
              "<mark class=\"entity\" style=\"background: #FF0000; padding: 0.45em 0.6em; margin: 0 0.25em; line-height: 1; border-radius: 0.35em;\">\n",
              "    sin\n",
              "    <span style=\"font-size: 0.8em; font-weight: bold; line-height: 1; border-radius: 0.35em; vertical-align: middle; margin-left: 0.5rem\">NEG</span>\n",
              "</mark>\n",
              " \n",
              "<mark class=\"entity\" style=\"background: #FFA500; padding: 0.45em 0.6em; margin: 0 0.25em; line-height: 1; border-radius: 0.35em;\">\n",
              "    fiebre\n",
              "    <span style=\"font-size: 0.8em; font-weight: bold; line-height: 1; border-radius: 0.35em; vertical-align: middle; margin-left: 0.5rem\">NSCO</span>\n",
              "</mark>\n",
              ". Se decidió darle de alta con indicaciones para reconsulta y medidas terapéuticas. El diagnóstico principal es R42, mareo y vértigo. Se le recetó omeprazol y dexametasona, además de su medicación habitual, y se le dio un número de teléfono para atención inmediata en caso de cualquier signo de alarma.</br></div></span>"
            ]
          },
          "metadata": {}
        }
      ]
    },
    {
      "cell_type": "code",
      "source": [
        "text = '''Número de historia clínica: ** *** *** Número de episodio: ******** Sexo: masculino Fecha de nacimiento: 03.11.1956 Edad: 66 años Procedencia: domicilio/ res.soc. Servicio de oncología médica Fecha de ingreso: 18.03.2019 Fecha de alta: 27.03.2019 Atendido por: ************, *****; *******************, *****************\n",
        "\n",
        "Informe de alta hospitalaria:\n",
        "\n",
        "Motivo de ingreso: Paciente masculino de 66 años que acude a urgencias por pérdida de equilibrio y dolores de cabeza. No se puede descartar ni confirmar alergias a medicamentos. Historia oncológica: paciente con glioma de alto grado. Se realizó una resección parcial del tumor y se inició quimioterapia con un esquema de qt -rdt stupp tmz y rdt hasta dt 60 gy rt /qt stupp temozolomida.\n",
        "\n",
        "Después del primer ciclo de temozolomida en 5/5/18, se realizó una resonancia magnética cada tres ciclos. Se completaron un total de 7 ciclos con buena tolerancia. Se sospecha de progresión de la enfermedad después de los 7 ciclos en forma de diseminación medular. No se puede confirmar ni descartar signos clínicos significativos. Se decide una reirradiación con temozolomida como radiosensibilizador.\n",
        "\n",
        "El paciente tuvo un evento de trombosis venosa profunda en las extremidades inferiores bilaterales proximales en mayo/18. Un eco-doppler realizado en 24.08.18 confirmó venas femorales permeables y compresibles con fascicidad respiratoria, venas poplíteas y gemelares permeables y compresibles sin trombo identificado.\n",
        "\n",
        "En octubre/18, después de la resolución de la trombosis venosa profunda y la finalización de la quimioterapia, se comenzó una profilaxis secundaria. En noviembre 18, se inició radioterapia/quimioterapia sobre los focos de progresión y temozolomida concomitante.\n",
        "\n",
        "En la resonancia magnética de seguimiento en diciembre 2018, se confirmaron signos radiológicos de progresión tumoral con crecimiento discreto de los implantes leptomeningeos dorsales conocidos. Se identificaron signos de carcinomatosis craneal que no estaban presentes en el estudio de julio 2018.\n",
        "\n",
        "Actualmente, el paciente está bajo tratamiento de segunda línea con bevacizumab en monoterapia. La resonancia magnética espinal de control realizada en 07.03.19 muestra una mejora radiológica de la enfermedad con una disminución discreta de la lesión a nivel del cono, así como una disminución significativa de los implantes a nivel dorsal alto y posible resolución del pequeño implante a nivel cervical.\n",
        "\n",
        "El paciente es seguido en consulta de oncología por la Dra. Vieito / Dra. Gonzalez. Durante su ingreso hospitalario, el paciente ha estado hemodinámicamente estable y afebril.\n",
        "\n",
        "Se decide dar de alta estableciendo normas de reconsulta y medidas terapéuticas. El paciente iniciará nueva medicación y continuará con su medicación habitual. Se realizará un seguimiento en consulta externa de oncología según cit.'''"
      ],
      "metadata": {
        "id": "gOI66Bq1t-Af"
      },
      "execution_count": null,
      "outputs": []
    },
    {
      "cell_type": "code",
      "source": [
        "spacy.displacy.render(doc, style=\"ent\", options= options, jupyter=True)"
      ],
      "metadata": {
        "id": "TP7MFr_fuDrx",
        "colab": {
          "base_uri": "https://localhost:8080/",
          "height": 1000
        },
        "outputId": "5488cc16-2abb-4344-9d1f-1c72f1f7236f"
      },
      "execution_count": null,
      "outputs": [
        {
          "output_type": "display_data",
          "data": {
            "text/plain": [
              "<IPython.core.display.HTML object>"
            ],
            "text/html": [
              "<span class=\"tex2jax_ignore\"><div class=\"entities\" style=\"line-height: 2.5; direction: ltr\">Número de historia clínica: ** *** *** Número de episodio: ******** Sexo: masculino Fecha de nacimiento: 14.03.1953 Edad: 66 años Procedencia: domicilio/ res.soc. Servicio de oncología médica Fecha de ingreso: 25.03.2019 Fecha de alta: 02.04.2019 Atendido por: ************, *****; *******************, *****************</br></br>Informe de alta hospitalaria:</br></br>Motivo de ingreso: Paciente masculino de 66 años que acude a urgencias por vómitos y mareos. \n",
              "<mark class=\"entity\" style=\"background: #FF0000; padding: 0.45em 0.6em; margin: 0 0.25em; line-height: 1; border-radius: 0.35em;\">\n",
              "    No\n",
              "    <span style=\"font-size: 0.8em; font-weight: bold; line-height: 1; border-radius: 0.35em; vertical-align: middle; margin-left: 0.5rem\">NEG</span>\n",
              "</mark>\n",
              " \n",
              "<mark class=\"entity\" style=\"background: #FFA500; padding: 0.45em 0.6em; margin: 0 0.25em; line-height: 1; border-radius: 0.35em;\">\n",
              "    se puede descartar ni confirmar alergias a medicamentos.\n",
              "    <span style=\"font-size: 0.8em; font-weight: bold; line-height: 1; border-radius: 0.35em; vertical-align: middle; margin-left: 0.5rem\">NSCO</span>\n",
              "</mark>\n",
              " Historia oncológica: paciente con glioblastoma medular. Resección parcial realizada. Se optó por esquema de qt -rdt stupp tmz y rdt hasta dt 60 gy rt /qt stupp temozolomida.</br></br>Tras el primer ciclo de tmz en 6/4/18, se realiza resonancia magnética cada 3 ciclos. Se dan un total de 7 ciclos con buena tolerancia. \n",
              "<mark class=\"entity\" style=\"background: #800080; padding: 0.45em 0.6em; margin: 0 0.25em; line-height: 1; border-radius: 0.35em;\">\n",
              "    Posible\n",
              "    <span style=\"font-size: 0.8em; font-weight: bold; line-height: 1; border-radius: 0.35em; vertical-align: middle; margin-left: 0.5rem\">UNC</span>\n",
              "</mark>\n",
              " \n",
              "<mark class=\"entity\" style=\"background: #FFC0CB; padding: 0.45em 0.6em; margin: 0 0.25em; line-height: 1; border-radius: 0.35em;\">\n",
              "    progresión de la enfermedad a los 7 ciclos en forma de diseminación medular.\n",
              "    <span style=\"font-size: 0.8em; font-weight: bold; line-height: 1; border-radius: 0.35em; vertical-align: middle; margin-left: 0.5rem\">USCO</span>\n",
              "</mark>\n",
              " \n",
              "<mark class=\"entity\" style=\"background: #FF0000; padding: 0.45em 0.6em; margin: 0 0.25em; line-height: 1; border-radius: 0.35em;\">\n",
              "    No\n",
              "    <span style=\"font-size: 0.8em; font-weight: bold; line-height: 1; border-radius: 0.35em; vertical-align: middle; margin-left: 0.5rem\">NEG</span>\n",
              "</mark>\n",
              " \n",
              "<mark class=\"entity\" style=\"background: #FFA500; padding: 0.45em 0.6em; margin: 0 0.25em; line-height: 1; border-radius: 0.35em;\">\n",
              "    se puede confirmar ni descartar signos significativos clínicamente\n",
              "    <span style=\"font-size: 0.8em; font-weight: bold; line-height: 1; border-radius: 0.35em; vertical-align: middle; margin-left: 0.5rem\">NSCO</span>\n",
              "</mark>\n",
              ". Se decide reirradiación con tmz como radiosensibilizador.</br></br>El paciente sufrió un evento de trombosis venosa profunda en las extremidades inferiores bilateral proximal en abril/18. Eco-doppler realizado en 24.07.18: venas femorales permeables \n",
              "<mark class=\"entity\" style=\"background: #800080; padding: 0.45em 0.6em; margin: 0 0.25em; line-height: 1; border-radius: 0.35em;\">\n",
              "    compresibles con\n",
              "    <span style=\"font-size: 0.8em; font-weight: bold; line-height: 1; border-radius: 0.35em; vertical-align: middle; margin-left: 0.5rem\">UNC</span>\n",
              "</mark>\n",
              " \n",
              "<mark class=\"entity\" style=\"background: #FFC0CB; padding: 0.45em 0.6em; margin: 0 0.25em; line-height: 1; border-radius: 0.35em;\">\n",
              "    fascicidad respiratoria, venas poplíteas\n",
              "    <span style=\"font-size: 0.8em; font-weight: bold; line-height: 1; border-radius: 0.35em; vertical-align: middle; margin-left: 0.5rem\">USCO</span>\n",
              "</mark>\n",
              " y gemelares permeables compresibles \n",
              "<mark class=\"entity\" style=\"background: #FF0000; padding: 0.45em 0.6em; margin: 0 0.25em; line-height: 1; border-radius: 0.35em;\">\n",
              "    sin\n",
              "    <span style=\"font-size: 0.8em; font-weight: bold; line-height: 1; border-radius: 0.35em; vertical-align: middle; margin-left: 0.5rem\">NEG</span>\n",
              "</mark>\n",
              " \n",
              "<mark class=\"entity\" style=\"background: #FFA500; padding: 0.45em 0.6em; margin: 0 0.25em; line-height: 1; border-radius: 0.35em;\">\n",
              "    trombo identificado\n",
              "    <span style=\"font-size: 0.8em; font-weight: bold; line-height: 1; border-radius: 0.35em; vertical-align: middle; margin-left: 0.5rem\">NSCO</span>\n",
              "</mark>\n",
              ".</br></br>En septiembre/18, con la trombosis venosa profunda resuelta y finalizada la quimioterapia, se pasa a profilaxis secundaria. En octubre 18 se realiza radioterapia/quimioterapia sobre los focos de progresión y temozolomida concomitante.</br></br>En el seguimiento con resonancia magnética en enero 2019, se confirman signos radiológicos de progresión tumoral por discreto crecimiento de los implantes leptomeningeos dorsales ya conocidos. Se identifican signos de carcinomatosis cranail, que \n",
              "<mark class=\"entity\" style=\"background: #FF0000; padding: 0.45em 0.6em; margin: 0 0.25em; line-height: 1; border-radius: 0.35em;\">\n",
              "    no\n",
              "    <span style=\"font-size: 0.8em; font-weight: bold; line-height: 1; border-radius: 0.35em; vertical-align: middle; margin-left: 0.5rem\">NEG</span>\n",
              "</mark>\n",
              " \n",
              "<mark class=\"entity\" style=\"background: #FFA500; padding: 0.45em 0.6em; margin: 0 0.25em; line-height: 1; border-radius: 0.35em;\">\n",
              "    se encontraban en el estudio de junio 2018.\n",
              "    <span style=\"font-size: 0.8em; font-weight: bold; line-height: 1; border-radius: 0.35em; vertical-align: middle; margin-left: 0.5rem\">NSCO</span>\n",
              "</mark>\n",
              "</br></br>El paciente está actualmente bajo tratamiento de segunda línea con bevacizumab en monoterapia. El estudio de resonancia magnética espinal de control en 06.03.19 muestra mejora radiológica de la enfermedad dada por una discreta disminución de la lesión a nivel del cono, así como significativa disminución de los implantes a nivel dorsal alto y \n",
              "<mark class=\"entity\" style=\"background: #800080; padding: 0.45em 0.6em; margin: 0 0.25em; line-height: 1; border-radius: 0.35em;\">\n",
              "    posible\n",
              "    <span style=\"font-size: 0.8em; font-weight: bold; line-height: 1; border-radius: 0.35em; vertical-align: middle; margin-left: 0.5rem\">UNC</span>\n",
              "</mark>\n",
              " \n",
              "<mark class=\"entity\" style=\"background: #FFC0CB; padding: 0.45em 0.6em; margin: 0 0.25em; line-height: 1; border-radius: 0.35em;\">\n",
              "    resolución del pequeño implante a nivel cervical.\n",
              "    <span style=\"font-size: 0.8em; font-weight: bold; line-height: 1; border-radius: 0.35em; vertical-align: middle; margin-left: 0.5rem\">USCO</span>\n",
              "</mark>\n",
              "</br></br>El paciente es seguido en consulta de oncología por la Dra. Vieito / Dra. Gonzalez. Durante su ingreso hospitalario, el paciente ha mantenido hemodinámicamente estable y \n",
              "<mark class=\"entity\" style=\"background: #FF0000; padding: 0.45em 0.6em; margin: 0 0.25em; line-height: 1; border-radius: 0.35em;\">\n",
              "    afebril\n",
              "    <span style=\"font-size: 0.8em; font-weight: bold; line-height: 1; border-radius: 0.35em; vertical-align: middle; margin-left: 0.5rem\">NEG</span>\n",
              "</mark>\n",
              ".</br></br>Se decide dar de alta estableciendo normas de reconsulta y medidas terapéuticas. El paciente iniciará nueva medicación y continuará con su medicación habitual. Se realizará un seguimiento en consulta externa de oncología según citación. Se explican signos de alarma y reconsulta.</br></br>Este informe pretende ser un resumen de los eventos médicos significativos del paciente to: ChatGPT Assistant&lt;|im_sep|&gt;Paciente: Sexo masculino, Fecha de nacimiento: 14.03.1953, Edad: 66 años. Admitido en el departamento de oncología médica el 25.03.2019 y dado de alta el 02.04.2019. Informe de alta proporcionado por el equipo de oncología.</br></br>El paciente, un hombre de 66 años, acudió a emergencias con vómitos y mareos. \n",
              "<mark class=\"entity\" style=\"background: #FF0000; padding: 0.45em 0.6em; margin: 0 0.25em; line-height: 1; border-radius: 0.35em;\">\n",
              "    No\n",
              "    <span style=\"font-size: 0.8em; font-weight: bold; line-height: 1; border-radius: 0.35em; vertical-align: middle; margin-left: 0.5rem\">NEG</span>\n",
              "</mark>\n",
              " \n",
              "<mark class=\"entity\" style=\"background: #FFA500; padding: 0.45em 0.6em; margin: 0 0.25em; line-height: 1; border-radius: 0.35em;\">\n",
              "    se confirmó ni descartó la presencia de alergias a medicamentos.\n",
              "    <span style=\"font-size: 0.8em; font-weight: bold; line-height: 1; border-radius: 0.35em; vertical-align: middle; margin-left: 0.5rem\">NSCO</span>\n",
              "</mark>\n",
              " El paciente tiene un historial de glioblastoma medular y se le practicó una resección parcial.</br></br>Tras la cirugía, se decidió continuar con quimioterapia y radioterapia (esquema Stupp), utilizando Temozolomida (TMZ). Se completaron 7 ciclos de tratamiento, los cuales fueron bien tolerados. Se \n",
              "<mark class=\"entity\" style=\"background: #800080; padding: 0.45em 0.6em; margin: 0 0.25em; line-height: 1; border-radius: 0.35em;\">\n",
              "    sospecha de\n",
              "    <span style=\"font-size: 0.8em; font-weight: bold; line-height: 1; border-radius: 0.35em; vertical-align: middle; margin-left: 0.5rem\">UNC</span>\n",
              "</mark>\n",
              " \n",
              "<mark class=\"entity\" style=\"background: #FFC0CB; padding: 0.45em 0.6em; margin: 0 0.25em; line-height: 1; border-radius: 0.35em;\">\n",
              "    progresión de la enfermedad en la forma de diseminación medular,\n",
              "    <span style=\"font-size: 0.8em; font-weight: bold; line-height: 1; border-radius: 0.35em; vertical-align: middle; margin-left: 0.5rem\">USCO</span>\n",
              "</mark>\n",
              " aunque esta \n",
              "<mark class=\"entity\" style=\"background: #FF0000; padding: 0.45em 0.6em; margin: 0 0.25em; line-height: 1; border-radius: 0.35em;\">\n",
              "    no\n",
              "    <span style=\"font-size: 0.8em; font-weight: bold; line-height: 1; border-radius: 0.35em; vertical-align: middle; margin-left: 0.5rem\">NEG</span>\n",
              "</mark>\n",
              " \n",
              "<mark class=\"entity\" style=\"background: #FFA500; padding: 0.45em 0.6em; margin: 0 0.25em; line-height: 1; border-radius: 0.35em;\">\n",
              "    se ha confirmado ni descartado clínicamente\n",
              "    <span style=\"font-size: 0.8em; font-weight: bold; line-height: 1; border-radius: 0.35em; vertical-align: middle; margin-left: 0.5rem\">NSCO</span>\n",
              "</mark>\n",
              ". Se decide realizar una segunda irradiación con TMZ concomitante como radiosensibilizador.</br></br>El paciente experimentó una trombosis venosa profunda (TVP) en las extremidades inferiores en abril de 2018. A partir de septiembre de 2018, y tras la resolución de la TVP, se inició una profilaxis secundaria. Se detectaron \n",
              "<mark class=\"entity\" style=\"background: #FFA500; padding: 0.45em 0.6em; margin: 0 0.25em; line-height: 1; border-radius: 0.35em;\">\n",
              "    signos de carcinomatosis craneal\n",
              "    <span style=\"font-size: 0.8em; font-weight: bold; line-height: 1; border-radius: 0.35em; vertical-align: middle; margin-left: 0.5rem\">NSCO</span>\n",
              "</mark>\n",
              ", que \n",
              "<mark class=\"entity\" style=\"background: #FF0000; padding: 0.45em 0.6em; margin: 0 0.25em; line-height: 1; border-radius: 0.35em;\">\n",
              "    no\n",
              "    <span style=\"font-size: 0.8em; font-weight: bold; line-height: 1; border-radius: 0.35em; vertical-align: middle; margin-left: 0.5rem\">NEG</span>\n",
              "</mark>\n",
              " \n",
              "<mark class=\"entity\" style=\"background: #FFA500; padding: 0.45em 0.6em; margin: 0 0.25em; line-height: 1; border-radius: 0.35em;\">\n",
              "    se habían confirmado ni descartado previamente\n",
              "    <span style=\"font-size: 0.8em; font-weight: bold; line-height: 1; border-radius: 0.35em; vertical-align: middle; margin-left: 0.5rem\">NSCO</span>\n",
              "</mark>\n",
              ".</br></br>Actualmente, el paciente está en su segunda línea de tratamiento con bevacizumab en monoterapia. Una RM espinal realizada el 06.03.19 \n",
              "<mark class=\"entity\" style=\"background: #800080; padding: 0.45em 0.6em; margin: 0 0.25em; line-height: 1; border-radius: 0.35em;\">\n",
              "    sugiere\n",
              "    <span style=\"font-size: 0.8em; font-weight: bold; line-height: 1; border-radius: 0.35em; vertical-align: middle; margin-left: 0.5rem\">UNC</span>\n",
              "</mark>\n",
              " \n",
              "<mark class=\"entity\" style=\"background: #FFC0CB; padding: 0.45em 0.6em; margin: 0 0.25em; line-height: 1; border-radius: 0.35em;\">\n",
              "    una mejora radiológica de la enfermedad.\n",
              "    <span style=\"font-size: 0.8em; font-weight: bold; line-height: 1; border-radius: 0.35em; vertical-align: middle; margin-left: 0.5rem\">USCO</span>\n",
              "</mark>\n",
              " \n",
              "<mark class=\"entity\" style=\"background: #FF0000; padding: 0.45em 0.6em; margin: 0 0.25em; line-height: 1; border-radius: 0.35em;\">\n",
              "    Sin\n",
              "    <span style=\"font-size: 0.8em; font-weight: bold; line-height: 1; border-radius: 0.35em; vertical-align: middle; margin-left: 0.5rem\">NEG</span>\n",
              "</mark>\n",
              " embargo, se \n",
              "<mark class=\"entity\" style=\"background: #800080; padding: 0.45em 0.6em; margin: 0 0.25em; line-height: 1; border-radius: 0.35em;\">\n",
              "    advierten\n",
              "    <span style=\"font-size: 0.8em; font-weight: bold; line-height: 1; border-radius: 0.35em; vertical-align: middle; margin-left: 0.5rem\">UNC</span>\n",
              "</mark>\n",
              " \n",
              "<mark class=\"entity\" style=\"background: #FFC0CB; padding: 0.45em 0.6em; margin: 0 0.25em; line-height: 1; border-radius: 0.35em;\">\n",
              "    cambios en la señal de la médula ósea en la región dorsal\n",
              "    <span style=\"font-size: 0.8em; font-weight: bold; line-height: 1; border-radius: 0.35em; vertical-align: middle; margin-left: 0.5rem\">USCO</span>\n",
              "</mark>\n",
              " y adelgazamiento del cordón espinal dorsal, hallazgos atribuibles a cambios post-radiación. \n",
              "<mark class=\"entity\" style=\"background: #FF0000; padding: 0.45em 0.6em; margin: 0 0.25em; line-height: 1; border-radius: 0.35em;\">\n",
              "    No\n",
              "    <span style=\"font-size: 0.8em; font-weight: bold; line-height: 1; border-radius: 0.35em; vertical-align: middle; margin-left: 0.5rem\">NEG</span>\n",
              "</mark>\n",
              " \n",
              "<mark class=\"entity\" style=\"background: #FFA500; padding: 0.45em 0.6em; margin: 0 0.25em; line-height: 1; border-radius: 0.35em;\">\n",
              "    se observan lesiones nuevas,\n",
              "    <span style=\"font-size: 0.8em; font-weight: bold; line-height: 1; border-radius: 0.35em; vertical-align: middle; margin-left: 0.5rem\">NSCO</span>\n",
              "</mark>\n",
              " pero la posibilidad \n",
              "<mark class=\"entity\" style=\"background: #FF0000; padding: 0.45em 0.6em; margin: 0 0.25em; line-height: 1; border-radius: 0.35em;\">\n",
              "    no\n",
              "    <span style=\"font-size: 0.8em; font-weight: bold; line-height: 1; border-radius: 0.35em; vertical-align: middle; margin-left: 0.5rem\">NEG</span>\n",
              "</mark>\n",
              " \n",
              "<mark class=\"entity\" style=\"background: #FFA500; padding: 0.45em 0.6em; margin: 0 0.25em; line-height: 1; border-radius: 0.35em;\">\n",
              "    puede confirmarse ni descartarse\n",
              "    <span style=\"font-size: 0.8em; font-weight: bold; line-height: 1; border-radius: 0.35em; vertical-align: middle; margin-left: 0.5rem\">NSCO</span>\n",
              "</mark>\n",
              ".</br></br>El paciente ha estado sintiendo inestabilidad cefálica y sensaciones de vértigo, que se exacerban con el movimiento de la cabeza. Se le ha prescrito betahistina, pero el aumento de la dosis \n",
              "<mark class=\"entity\" style=\"background: #FF0000; padding: 0.45em 0.6em; margin: 0 0.25em; line-height: 1; border-radius: 0.35em;\">\n",
              "    no\n",
              "    <span style=\"font-size: 0.8em; font-weight: bold; line-height: 1; border-radius: 0.35em; vertical-align: middle; margin-left: 0.5rem\">NEG</span>\n",
              "</mark>\n",
              " \n",
              "<mark class=\"entity\" style=\"background: #FFA500; padding: 0.45em 0.6em; margin: 0 0.25em; line-height: 1; border-radius: 0.35em;\">\n",
              "    ha mostrado ninguna mejora confirmada ni descartada\n",
              "    <span style=\"font-size: 0.8em; font-weight: bold; line-height: 1; border-radius: 0.35em; vertical-align: middle; margin-left: 0.5rem\">NSCO</span>\n",
              "</mark>\n",
              ". Se realizó una TC craneal el 21/03 que evidenció signos \n",
              "<mark class=\"entity\" style=\"background: #800080; padding: 0.45em 0.6em; margin: 0 0.25em; line-height: 1; border-radius: 0.35em;\">\n",
              "    sugestivos de\n",
              "    <span style=\"font-size: 0.8em; font-weight: bold; line-height: 1; border-radius: 0.35em; vertical-align: middle; margin-left: 0.5rem\">UNC</span>\n",
              "</mark>\n",
              " \n",
              "<mark class=\"entity\" style=\"background: #FFC0CB; padding: 0.45em 0.6em; margin: 0 0.25em; line-height: 1; border-radius: 0.35em;\">\n",
              "    carcinomatosis leptomeningea,\n",
              "    <span style=\"font-size: 0.8em; font-weight: bold; line-height: 1; border-radius: 0.35em; vertical-align: middle; margin-left: 0.5rem\">USCO</span>\n",
              "</mark>\n",
              " aunque \n",
              "<mark class=\"entity\" style=\"background: #FF0000; padding: 0.45em 0.6em; margin: 0 0.25em; line-height: 1; border-radius: 0.35em;\">\n",
              "    no\n",
              "    <span style=\"font-size: 0.8em; font-weight: bold; line-height: 1; border-radius: 0.35em; vertical-align: middle; margin-left: 0.5rem\">NEG</span>\n",
              "</mark>\n",
              " \n",
              "<mark class=\"entity\" style=\"background: #FFA500; padding: 0.45em 0.6em; margin: 0 0.25em; line-height: 1; border-radius: 0.35em;\">\n",
              "    se han descartado procesos agudos.\n",
              "    <span style=\"font-size: 0.8em; font-weight: bold; line-height: 1; border-radius: 0.35em; vertical-align: middle; margin-left: 0.5rem\">NSCO</span>\n",
              "</mark>\n",
              "</br></br>Durante su hospitalización, el paciente ha permanecido hemodinámicamente estable y \n",
              "<mark class=\"entity\" style=\"background: #FF0000; padding: 0.45em 0.6em; margin: 0 0.25em; line-height: 1; border-radius: 0.35em;\">\n",
              "    sin\n",
              "    <span style=\"font-size: 0.8em; font-weight: bold; line-height: 1; border-radius: 0.35em; vertical-align: middle; margin-left: 0.5rem\">NEG</span>\n",
              "</mark>\n",
              " \n",
              "<mark class=\"entity\" style=\"background: #FFA500; padding: 0.45em 0.6em; margin: 0 0.25em; line-height: 1; border-radius: 0.35em;\">\n",
              "    fiebre\n",
              "    <span style=\"font-size: 0.8em; font-weight: bold; line-height: 1; border-radius: 0.35em; vertical-align: middle; margin-left: 0.5rem\">NSCO</span>\n",
              "</mark>\n",
              ". Se decidió darle de alta con indicaciones para reconsulta y medidas terapéuticas. El diagnóstico principal es R42, mareo y vértigo. Se le recetó omeprazol y dexametasona, además de su medicación habitual, y se le dio un número de teléfono para atención inmediata en caso de cualquier signo de alarma.</br></div></span>"
            ]
          },
          "metadata": {}
        }
      ]
    },
    {
      "cell_type": "code",
      "source": [
        "doc = nlp_ner('el paciente ha sido diagnosticado con probable infección, pero sintomas de demencia negativos.')\n",
        "\n",
        "spacy.displacy.render(doc, style=\"ent\", options= options, jupyter=True)"
      ],
      "metadata": {
        "id": "o_d1D9YrHSL1",
        "colab": {
          "base_uri": "https://localhost:8080/",
          "height": 87
        },
        "outputId": "85805bdd-cf31-4878-826c-d4c8bf5ee07c"
      },
      "execution_count": null,
      "outputs": [
        {
          "output_type": "display_data",
          "data": {
            "text/plain": [
              "<IPython.core.display.HTML object>"
            ],
            "text/html": [
              "<span class=\"tex2jax_ignore\"><div class=\"entities\" style=\"line-height: 2.5; direction: ltr\">el paciente ha sido diagnosticado con \n",
              "<mark class=\"entity\" style=\"background: #800080; padding: 0.45em 0.6em; margin: 0 0.25em; line-height: 1; border-radius: 0.35em;\">\n",
              "    probable\n",
              "    <span style=\"font-size: 0.8em; font-weight: bold; line-height: 1; border-radius: 0.35em; vertical-align: middle; margin-left: 0.5rem\">UNC</span>\n",
              "</mark>\n",
              " \n",
              "<mark class=\"entity\" style=\"background: #FFC0CB; padding: 0.45em 0.6em; margin: 0 0.25em; line-height: 1; border-radius: 0.35em;\">\n",
              "    infección,\n",
              "    <span style=\"font-size: 0.8em; font-weight: bold; line-height: 1; border-radius: 0.35em; vertical-align: middle; margin-left: 0.5rem\">USCO</span>\n",
              "</mark>\n",
              " pero \n",
              "<mark class=\"entity\" style=\"background: #FFA500; padding: 0.45em 0.6em; margin: 0 0.25em; line-height: 1; border-radius: 0.35em;\">\n",
              "    sintomas de demencia\n",
              "    <span style=\"font-size: 0.8em; font-weight: bold; line-height: 1; border-radius: 0.35em; vertical-align: middle; margin-left: 0.5rem\">NSCO</span>\n",
              "</mark>\n",
              " \n",
              "<mark class=\"entity\" style=\"background: #FF0000; padding: 0.45em 0.6em; margin: 0 0.25em; line-height: 1; border-radius: 0.35em;\">\n",
              "    negativos\n",
              "    <span style=\"font-size: 0.8em; font-weight: bold; line-height: 1; border-radius: 0.35em; vertical-align: middle; margin-left: 0.5rem\">NEG</span>\n",
              "</mark>\n",
              ".</div></span>"
            ]
          },
          "metadata": {}
        }
      ]
    },
    {
      "cell_type": "markdown",
      "source": [
        "## Testing with texts that are not from the data and are not related to medical texts:"
      ],
      "metadata": {
        "id": "ANul-sytDD5s"
      }
    },
    {
      "cell_type": "markdown",
      "source": [
        "Testing with a legal texts:"
      ],
      "metadata": {
        "id": "ktKDO_vgFu3F"
      }
    },
    {
      "cell_type": "code",
      "source": [
        "text = '''El acuerdo puede no considerarse completamente ejecutable a menos que todas las partes involucradas hayan dado su consentimiento de manera inequívoca. Sin embargo, el Sr. Thompson ha expresado incertidumbre con respecto a su decisión de unirse a la sociedad. No puede ser obligado a unirse al acuerdo si existe la más mínima duda sobre su legalidad o equidad. No está inmediatamente claro si las reclamaciones por incumplimiento de contrato serán aceptadas en el tribunal, dada la ambigüedad en el lenguaje de la cláusula 4. El tribunal se reserva el derecho de no aplicar ninguna sanción si el acusado desconocía la infracción. Mientras el documento podría potencialmente vincular a las partes, existe incertidumbre con respecto a su efectividad a la luz de una posible no divulgación por cualquiera de las partes. Cualquier enmienda al acuerdo no se considerará válida sin el consentimiento expreso por escrito de todas las partes involucradas. Es dudoso si la cláusula de no competencia del acuerdo puede hacerse cumplir en diferentes jurisdicciones. El demandante no puede perseguir daños si no se demuestra que el acusado fue negligente.'''"
      ],
      "metadata": {
        "id": "-gXXxWDFDQVm"
      },
      "execution_count": null,
      "outputs": []
    },
    {
      "cell_type": "code",
      "source": [
        "doc = nlp_ner(text)\n",
        "colors = {\"NEG\": \"#FF0000\", \"NSCO\": \"#FFA500\", \"UNC\": \"#800080\", \"USCO\": \"#FFC0CB\"}\n",
        "options = {\"colors\": colors}"
      ],
      "metadata": {
        "id": "M5DOthd-F4MG"
      },
      "execution_count": null,
      "outputs": []
    },
    {
      "cell_type": "code",
      "source": [
        "spacy.displacy.render(doc, style=\"ent\", options= options, jupyter=True)"
      ],
      "metadata": {
        "colab": {
          "base_uri": "https://localhost:8080/",
          "height": 192
        },
        "id": "7xSusJoXGAww",
        "outputId": "b5bbf345-f1a7-4e61-f238-f43914629ee2"
      },
      "execution_count": null,
      "outputs": [
        {
          "output_type": "display_data",
          "data": {
            "text/plain": [
              "<IPython.core.display.HTML object>"
            ],
            "text/html": [
              "<span class=\"tex2jax_ignore\"><div class=\"entities\" style=\"line-height: 2.5; direction: ltr\">El acuerdo puede \n",
              "<mark class=\"entity\" style=\"background: #FF0000; padding: 0.45em 0.6em; margin: 0 0.25em; line-height: 1; border-radius: 0.35em;\">\n",
              "    no\n",
              "    <span style=\"font-size: 0.8em; font-weight: bold; line-height: 1; border-radius: 0.35em; vertical-align: middle; margin-left: 0.5rem\">NEG</span>\n",
              "</mark>\n",
              " \n",
              "<mark class=\"entity\" style=\"background: #FFA500; padding: 0.45em 0.6em; margin: 0 0.25em; line-height: 1; border-radius: 0.35em;\">\n",
              "    considerarse completamente ejecutable a\n",
              "    <span style=\"font-size: 0.8em; font-weight: bold; line-height: 1; border-radius: 0.35em; vertical-align: middle; margin-left: 0.5rem\">NSCO</span>\n",
              "</mark>\n",
              " menos que todas las partes involucradas hayan dado su consentimiento de manera inequívoca. Sin embargo, el Sr. Thompson ha expresado incertidumbre con respecto a su decisión de unirse a la sociedad. \n",
              "<mark class=\"entity\" style=\"background: #FF0000; padding: 0.45em 0.6em; margin: 0 0.25em; line-height: 1; border-radius: 0.35em;\">\n",
              "    No\n",
              "    <span style=\"font-size: 0.8em; font-weight: bold; line-height: 1; border-radius: 0.35em; vertical-align: middle; margin-left: 0.5rem\">NEG</span>\n",
              "</mark>\n",
              " \n",
              "<mark class=\"entity\" style=\"background: #FFA500; padding: 0.45em 0.6em; margin: 0 0.25em; line-height: 1; border-radius: 0.35em;\">\n",
              "    puede ser obligado a unirse al acuerdo si existe la más mínima duda sobre su legalidad o equidad\n",
              "    <span style=\"font-size: 0.8em; font-weight: bold; line-height: 1; border-radius: 0.35em; vertical-align: middle; margin-left: 0.5rem\">NSCO</span>\n",
              "</mark>\n",
              ". \n",
              "<mark class=\"entity\" style=\"background: #FF0000; padding: 0.45em 0.6em; margin: 0 0.25em; line-height: 1; border-radius: 0.35em;\">\n",
              "    No\n",
              "    <span style=\"font-size: 0.8em; font-weight: bold; line-height: 1; border-radius: 0.35em; vertical-align: middle; margin-left: 0.5rem\">NEG</span>\n",
              "</mark>\n",
              " \n",
              "<mark class=\"entity\" style=\"background: #FFA500; padding: 0.45em 0.6em; margin: 0 0.25em; line-height: 1; border-radius: 0.35em;\">\n",
              "    está inmediatamente claro si las reclamaciones por incumplimiento de contrato serán aceptadas en el tribunal\n",
              "    <span style=\"font-size: 0.8em; font-weight: bold; line-height: 1; border-radius: 0.35em; vertical-align: middle; margin-left: 0.5rem\">NSCO</span>\n",
              "</mark>\n",
              ", dada la ambigüedad en el lenguaje de la cláusula 4. El tribunal se reserva el derecho de \n",
              "<mark class=\"entity\" style=\"background: #FF0000; padding: 0.45em 0.6em; margin: 0 0.25em; line-height: 1; border-radius: 0.35em;\">\n",
              "    no\n",
              "    <span style=\"font-size: 0.8em; font-weight: bold; line-height: 1; border-radius: 0.35em; vertical-align: middle; margin-left: 0.5rem\">NEG</span>\n",
              "</mark>\n",
              " \n",
              "<mark class=\"entity\" style=\"background: #FFA500; padding: 0.45em 0.6em; margin: 0 0.25em; line-height: 1; border-radius: 0.35em;\">\n",
              "    aplicar ninguna\n",
              "    <span style=\"font-size: 0.8em; font-weight: bold; line-height: 1; border-radius: 0.35em; vertical-align: middle; margin-left: 0.5rem\">NSCO</span>\n",
              "</mark>\n",
              " \n",
              "<mark class=\"entity\" style=\"background: #FFA500; padding: 0.45em 0.6em; margin: 0 0.25em; line-height: 1; border-radius: 0.35em;\">\n",
              "    sanción\n",
              "    <span style=\"font-size: 0.8em; font-weight: bold; line-height: 1; border-radius: 0.35em; vertical-align: middle; margin-left: 0.5rem\">NSCO</span>\n",
              "</mark>\n",
              " si el acusado \n",
              "<mark class=\"entity\" style=\"background: #800080; padding: 0.45em 0.6em; margin: 0 0.25em; line-height: 1; border-radius: 0.35em;\">\n",
              "    desconocía\n",
              "    <span style=\"font-size: 0.8em; font-weight: bold; line-height: 1; border-radius: 0.35em; vertical-align: middle; margin-left: 0.5rem\">UNC</span>\n",
              "</mark>\n",
              " \n",
              "<mark class=\"entity\" style=\"background: #FFC0CB; padding: 0.45em 0.6em; margin: 0 0.25em; line-height: 1; border-radius: 0.35em;\">\n",
              "    la infracción.\n",
              "    <span style=\"font-size: 0.8em; font-weight: bold; line-height: 1; border-radius: 0.35em; vertical-align: middle; margin-left: 0.5rem\">USCO</span>\n",
              "</mark>\n",
              " Mientras el documento \n",
              "<mark class=\"entity\" style=\"background: #800080; padding: 0.45em 0.6em; margin: 0 0.25em; line-height: 1; border-radius: 0.35em;\">\n",
              "    podría\n",
              "    <span style=\"font-size: 0.8em; font-weight: bold; line-height: 1; border-radius: 0.35em; vertical-align: middle; margin-left: 0.5rem\">UNC</span>\n",
              "</mark>\n",
              " \n",
              "<mark class=\"entity\" style=\"background: #FFC0CB; padding: 0.45em 0.6em; margin: 0 0.25em; line-height: 1; border-radius: 0.35em;\">\n",
              "    potencialmente vincular a las partes, existe incertidumbre con respecto a su efectividad a la luz de una posible\n",
              "    <span style=\"font-size: 0.8em; font-weight: bold; line-height: 1; border-radius: 0.35em; vertical-align: middle; margin-left: 0.5rem\">USCO</span>\n",
              "</mark>\n",
              " \n",
              "<mark class=\"entity\" style=\"background: #FF0000; padding: 0.45em 0.6em; margin: 0 0.25em; line-height: 1; border-radius: 0.35em;\">\n",
              "    no\n",
              "    <span style=\"font-size: 0.8em; font-weight: bold; line-height: 1; border-radius: 0.35em; vertical-align: middle; margin-left: 0.5rem\">NEG</span>\n",
              "</mark>\n",
              " \n",
              "<mark class=\"entity\" style=\"background: #FFA500; padding: 0.45em 0.6em; margin: 0 0.25em; line-height: 1; border-radius: 0.35em;\">\n",
              "    divulgación por cualquiera de las partes.\n",
              "    <span style=\"font-size: 0.8em; font-weight: bold; line-height: 1; border-radius: 0.35em; vertical-align: middle; margin-left: 0.5rem\">NSCO</span>\n",
              "</mark>\n",
              " Cualquier enmienda al acuerdo \n",
              "<mark class=\"entity\" style=\"background: #FF0000; padding: 0.45em 0.6em; margin: 0 0.25em; line-height: 1; border-radius: 0.35em;\">\n",
              "    no\n",
              "    <span style=\"font-size: 0.8em; font-weight: bold; line-height: 1; border-radius: 0.35em; vertical-align: middle; margin-left: 0.5rem\">NEG</span>\n",
              "</mark>\n",
              " \n",
              "<mark class=\"entity\" style=\"background: #FFA500; padding: 0.45em 0.6em; margin: 0 0.25em; line-height: 1; border-radius: 0.35em;\">\n",
              "    se considerará válida\n",
              "    <span style=\"font-size: 0.8em; font-weight: bold; line-height: 1; border-radius: 0.35em; vertical-align: middle; margin-left: 0.5rem\">NSCO</span>\n",
              "</mark>\n",
              " \n",
              "<mark class=\"entity\" style=\"background: #FF0000; padding: 0.45em 0.6em; margin: 0 0.25em; line-height: 1; border-radius: 0.35em;\">\n",
              "    sin\n",
              "    <span style=\"font-size: 0.8em; font-weight: bold; line-height: 1; border-radius: 0.35em; vertical-align: middle; margin-left: 0.5rem\">NEG</span>\n",
              "</mark>\n",
              " \n",
              "<mark class=\"entity\" style=\"background: #FFA500; padding: 0.45em 0.6em; margin: 0 0.25em; line-height: 1; border-radius: 0.35em;\">\n",
              "    el consentimiento expreso por escrito de todas las partes involucradas.\n",
              "    <span style=\"font-size: 0.8em; font-weight: bold; line-height: 1; border-radius: 0.35em; vertical-align: middle; margin-left: 0.5rem\">NSCO</span>\n",
              "</mark>\n",
              " Es \n",
              "<mark class=\"entity\" style=\"background: #800080; padding: 0.45em 0.6em; margin: 0 0.25em; line-height: 1; border-radius: 0.35em;\">\n",
              "    dudoso\n",
              "    <span style=\"font-size: 0.8em; font-weight: bold; line-height: 1; border-radius: 0.35em; vertical-align: middle; margin-left: 0.5rem\">UNC</span>\n",
              "</mark>\n",
              " \n",
              "<mark class=\"entity\" style=\"background: #FFC0CB; padding: 0.45em 0.6em; margin: 0 0.25em; line-height: 1; border-radius: 0.35em;\">\n",
              "    si la cláusula de\n",
              "    <span style=\"font-size: 0.8em; font-weight: bold; line-height: 1; border-radius: 0.35em; vertical-align: middle; margin-left: 0.5rem\">USCO</span>\n",
              "</mark>\n",
              " \n",
              "<mark class=\"entity\" style=\"background: #FF0000; padding: 0.45em 0.6em; margin: 0 0.25em; line-height: 1; border-radius: 0.35em;\">\n",
              "    no\n",
              "    <span style=\"font-size: 0.8em; font-weight: bold; line-height: 1; border-radius: 0.35em; vertical-align: middle; margin-left: 0.5rem\">NEG</span>\n",
              "</mark>\n",
              " \n",
              "<mark class=\"entity\" style=\"background: #FFA500; padding: 0.45em 0.6em; margin: 0 0.25em; line-height: 1; border-radius: 0.35em;\">\n",
              "    competencia del acuerdo puede hacerse cumplir en diferentes jurisdicciones\n",
              "    <span style=\"font-size: 0.8em; font-weight: bold; line-height: 1; border-radius: 0.35em; vertical-align: middle; margin-left: 0.5rem\">NSCO</span>\n",
              "</mark>\n",
              ". El demandante \n",
              "<mark class=\"entity\" style=\"background: #FF0000; padding: 0.45em 0.6em; margin: 0 0.25em; line-height: 1; border-radius: 0.35em;\">\n",
              "    no\n",
              "    <span style=\"font-size: 0.8em; font-weight: bold; line-height: 1; border-radius: 0.35em; vertical-align: middle; margin-left: 0.5rem\">NEG</span>\n",
              "</mark>\n",
              " \n",
              "<mark class=\"entity\" style=\"background: #FFA500; padding: 0.45em 0.6em; margin: 0 0.25em; line-height: 1; border-radius: 0.35em;\">\n",
              "    puede perseguir daños\n",
              "    <span style=\"font-size: 0.8em; font-weight: bold; line-height: 1; border-radius: 0.35em; vertical-align: middle; margin-left: 0.5rem\">NSCO</span>\n",
              "</mark>\n",
              " si \n",
              "<mark class=\"entity\" style=\"background: #FF0000; padding: 0.45em 0.6em; margin: 0 0.25em; line-height: 1; border-radius: 0.35em;\">\n",
              "    no\n",
              "    <span style=\"font-size: 0.8em; font-weight: bold; line-height: 1; border-radius: 0.35em; vertical-align: middle; margin-left: 0.5rem\">NEG</span>\n",
              "</mark>\n",
              " \n",
              "<mark class=\"entity\" style=\"background: #FFA500; padding: 0.45em 0.6em; margin: 0 0.25em; line-height: 1; border-radius: 0.35em;\">\n",
              "    se demuestra que el acusado fue negligente.\n",
              "    <span style=\"font-size: 0.8em; font-weight: bold; line-height: 1; border-radius: 0.35em; vertical-align: middle; margin-left: 0.5rem\">NSCO</span>\n",
              "</mark>\n",
              "</div></span>"
            ]
          },
          "metadata": {}
        }
      ]
    },
    {
      "cell_type": "code",
      "source": [
        "text = '''El contrato jamás será considerado totalmente vinculante a menos que todas las partes implicadas hayan manifestado su consentimiento de forma irrefutable. Aun así, el Señor García ha mostrado dudas respecto a su decisión de sumarse a la sociedad. No existe obligación alguna para García de unirse al pacto si persisten dudas acerca de la justicia o la legalidad del mismo. No queda del todo claro si las reclamaciones por quebrantamiento del contrato se mantendrán en pie en el tribunal, debido a la ambigüedad de la cláusula 4. El tribunal se reserva la potestad de desestimar cualquier sanción si el acusado desconocía la transgresión. Aunque el documento podría ligar a las partes en teoría, persiste la incertidumbre sobre su efectividad en caso de omisión de información por cualquiera de las partes. Cualquier cambio al contrato será inválido a menos que cuente con el consentimiento por escrito de todas las partes implicadas. Se cuestiona si la cláusula de no competencia del contrato puede ser impuesta en diferentes jurisdicciones. La parte demandante carecerá de derecho a reclamar daños y perjuicios si no se prueba la negligencia del acusado.'''"
      ],
      "metadata": {
        "id": "ei2y-Er6JKLx"
      },
      "execution_count": null,
      "outputs": []
    },
    {
      "cell_type": "code",
      "source": [
        "doc = nlp_ner(text)\n",
        "spacy.displacy.render(doc, style=\"ent\", options= options, jupyter=True)"
      ],
      "metadata": {
        "colab": {
          "base_uri": "https://localhost:8080/",
          "height": 192
        },
        "id": "SL9DKTGBJnDA",
        "outputId": "0a0b5ce1-4b58-4c17-9e6c-b1c733d6f282"
      },
      "execution_count": null,
      "outputs": [
        {
          "output_type": "display_data",
          "data": {
            "text/plain": [
              "<IPython.core.display.HTML object>"
            ],
            "text/html": [
              "<span class=\"tex2jax_ignore\"><div class=\"entities\" style=\"line-height: 2.5; direction: ltr\">\n",
              "<mark class=\"entity\" style=\"background: #FFC0CB; padding: 0.45em 0.6em; margin: 0 0.25em; line-height: 1; border-radius: 0.35em;\">\n",
              "    El contrato jamás será considerado totalmente vinculante a menos que todas las partes implicadas hayan manifestado su consentimiento de forma irrefutable.\n",
              "    <span style=\"font-size: 0.8em; font-weight: bold; line-height: 1; border-radius: 0.35em; vertical-align: middle; margin-left: 0.5rem\">USCO</span>\n",
              "</mark>\n",
              " Aun así, el Señor García ha mostrado \n",
              "<mark class=\"entity\" style=\"background: #800080; padding: 0.45em 0.6em; margin: 0 0.25em; line-height: 1; border-radius: 0.35em;\">\n",
              "    dudas\n",
              "    <span style=\"font-size: 0.8em; font-weight: bold; line-height: 1; border-radius: 0.35em; vertical-align: middle; margin-left: 0.5rem\">UNC</span>\n",
              "</mark>\n",
              " \n",
              "<mark class=\"entity\" style=\"background: #FFC0CB; padding: 0.45em 0.6em; margin: 0 0.25em; line-height: 1; border-radius: 0.35em;\">\n",
              "    respecto a su decisión de sumarse a la sociedad.\n",
              "    <span style=\"font-size: 0.8em; font-weight: bold; line-height: 1; border-radius: 0.35em; vertical-align: middle; margin-left: 0.5rem\">USCO</span>\n",
              "</mark>\n",
              " \n",
              "<mark class=\"entity\" style=\"background: #FF0000; padding: 0.45em 0.6em; margin: 0 0.25em; line-height: 1; border-radius: 0.35em;\">\n",
              "    No\n",
              "    <span style=\"font-size: 0.8em; font-weight: bold; line-height: 1; border-radius: 0.35em; vertical-align: middle; margin-left: 0.5rem\">NEG</span>\n",
              "</mark>\n",
              " \n",
              "<mark class=\"entity\" style=\"background: #FFA500; padding: 0.45em 0.6em; margin: 0 0.25em; line-height: 1; border-radius: 0.35em;\">\n",
              "    existe obligación alguna para García de unirse al pacto si persisten dudas acerca de la justicia o la legalidad del mismo\n",
              "    <span style=\"font-size: 0.8em; font-weight: bold; line-height: 1; border-radius: 0.35em; vertical-align: middle; margin-left: 0.5rem\">NSCO</span>\n",
              "</mark>\n",
              ". \n",
              "<mark class=\"entity\" style=\"background: #FF0000; padding: 0.45em 0.6em; margin: 0 0.25em; line-height: 1; border-radius: 0.35em;\">\n",
              "    No\n",
              "    <span style=\"font-size: 0.8em; font-weight: bold; line-height: 1; border-radius: 0.35em; vertical-align: middle; margin-left: 0.5rem\">NEG</span>\n",
              "</mark>\n",
              " \n",
              "<mark class=\"entity\" style=\"background: #FFA500; padding: 0.45em 0.6em; margin: 0 0.25em; line-height: 1; border-radius: 0.35em;\">\n",
              "    queda del todo\n",
              "    <span style=\"font-size: 0.8em; font-weight: bold; line-height: 1; border-radius: 0.35em; vertical-align: middle; margin-left: 0.5rem\">NSCO</span>\n",
              "</mark>\n",
              " claro si las reclamaciones por quebrantamiento del contrato se mantendrán en pie en el tribunal, debido a la ambigüedad de la cláusula 4. El tribunal se reserva la potestad de desestimar cualquier sanción si el acusado \n",
              "<mark class=\"entity\" style=\"background: #800080; padding: 0.45em 0.6em; margin: 0 0.25em; line-height: 1; border-radius: 0.35em;\">\n",
              "    desconocía\n",
              "    <span style=\"font-size: 0.8em; font-weight: bold; line-height: 1; border-radius: 0.35em; vertical-align: middle; margin-left: 0.5rem\">UNC</span>\n",
              "</mark>\n",
              " \n",
              "<mark class=\"entity\" style=\"background: #FFC0CB; padding: 0.45em 0.6em; margin: 0 0.25em; line-height: 1; border-radius: 0.35em;\">\n",
              "    la transgresión.\n",
              "    <span style=\"font-size: 0.8em; font-weight: bold; line-height: 1; border-radius: 0.35em; vertical-align: middle; margin-left: 0.5rem\">USCO</span>\n",
              "</mark>\n",
              " Aunque el documento \n",
              "<mark class=\"entity\" style=\"background: #800080; padding: 0.45em 0.6em; margin: 0 0.25em; line-height: 1; border-radius: 0.35em;\">\n",
              "    podría\n",
              "    <span style=\"font-size: 0.8em; font-weight: bold; line-height: 1; border-radius: 0.35em; vertical-align: middle; margin-left: 0.5rem\">UNC</span>\n",
              "</mark>\n",
              " \n",
              "<mark class=\"entity\" style=\"background: #FFC0CB; padding: 0.45em 0.6em; margin: 0 0.25em; line-height: 1; border-radius: 0.35em;\">\n",
              "    ligar a las partes en teoría\n",
              "    <span style=\"font-size: 0.8em; font-weight: bold; line-height: 1; border-radius: 0.35em; vertical-align: middle; margin-left: 0.5rem\">USCO</span>\n",
              "</mark>\n",
              ", persiste la incertidumbre sobre su efectividad en caso de omisión de \n",
              "<mark class=\"entity\" style=\"background: #FFA500; padding: 0.45em 0.6em; margin: 0 0.25em; line-height: 1; border-radius: 0.35em;\">\n",
              "    información por cualquiera de las partes.\n",
              "    <span style=\"font-size: 0.8em; font-weight: bold; line-height: 1; border-radius: 0.35em; vertical-align: middle; margin-left: 0.5rem\">NSCO</span>\n",
              "</mark>\n",
              " Cualquier cambio al contrato será \n",
              "<mark class=\"entity\" style=\"background: #FF0000; padding: 0.45em 0.6em; margin: 0 0.25em; line-height: 1; border-radius: 0.35em;\">\n",
              "    inválido\n",
              "    <span style=\"font-size: 0.8em; font-weight: bold; line-height: 1; border-radius: 0.35em; vertical-align: middle; margin-left: 0.5rem\">NEG</span>\n",
              "</mark>\n",
              " \n",
              "<mark class=\"entity\" style=\"background: #FFA500; padding: 0.45em 0.6em; margin: 0 0.25em; line-height: 1; border-radius: 0.35em;\">\n",
              "    a menos\n",
              "    <span style=\"font-size: 0.8em; font-weight: bold; line-height: 1; border-radius: 0.35em; vertical-align: middle; margin-left: 0.5rem\">NSCO</span>\n",
              "</mark>\n",
              " que cuente con el consentimiento por escrito de todas las partes implicadas. Se \n",
              "<mark class=\"entity\" style=\"background: #800080; padding: 0.45em 0.6em; margin: 0 0.25em; line-height: 1; border-radius: 0.35em;\">\n",
              "    cuestiona\n",
              "    <span style=\"font-size: 0.8em; font-weight: bold; line-height: 1; border-radius: 0.35em; vertical-align: middle; margin-left: 0.5rem\">UNC</span>\n",
              "</mark>\n",
              " \n",
              "<mark class=\"entity\" style=\"background: #FFC0CB; padding: 0.45em 0.6em; margin: 0 0.25em; line-height: 1; border-radius: 0.35em;\">\n",
              "    si la cláusula de\n",
              "    <span style=\"font-size: 0.8em; font-weight: bold; line-height: 1; border-radius: 0.35em; vertical-align: middle; margin-left: 0.5rem\">USCO</span>\n",
              "</mark>\n",
              " \n",
              "<mark class=\"entity\" style=\"background: #FF0000; padding: 0.45em 0.6em; margin: 0 0.25em; line-height: 1; border-radius: 0.35em;\">\n",
              "    no\n",
              "    <span style=\"font-size: 0.8em; font-weight: bold; line-height: 1; border-radius: 0.35em; vertical-align: middle; margin-left: 0.5rem\">NEG</span>\n",
              "</mark>\n",
              " \n",
              "<mark class=\"entity\" style=\"background: #FFA500; padding: 0.45em 0.6em; margin: 0 0.25em; line-height: 1; border-radius: 0.35em;\">\n",
              "    competencia del contrato puede ser impuesta en diferentes jurisdicciones.\n",
              "    <span style=\"font-size: 0.8em; font-weight: bold; line-height: 1; border-radius: 0.35em; vertical-align: middle; margin-left: 0.5rem\">NSCO</span>\n",
              "</mark>\n",
              " La parte demandante \n",
              "<mark class=\"entity\" style=\"background: #FF0000; padding: 0.45em 0.6em; margin: 0 0.25em; line-height: 1; border-radius: 0.35em;\">\n",
              "    carecerá\n",
              "    <span style=\"font-size: 0.8em; font-weight: bold; line-height: 1; border-radius: 0.35em; vertical-align: middle; margin-left: 0.5rem\">NEG</span>\n",
              "</mark>\n",
              " de \n",
              "<mark class=\"entity\" style=\"background: #FFC0CB; padding: 0.45em 0.6em; margin: 0 0.25em; line-height: 1; border-radius: 0.35em;\">\n",
              "    derecho a reclamar daños\n",
              "    <span style=\"font-size: 0.8em; font-weight: bold; line-height: 1; border-radius: 0.35em; vertical-align: middle; margin-left: 0.5rem\">USCO</span>\n",
              "</mark>\n",
              " y perjuicios si \n",
              "<mark class=\"entity\" style=\"background: #FF0000; padding: 0.45em 0.6em; margin: 0 0.25em; line-height: 1; border-radius: 0.35em;\">\n",
              "    no\n",
              "    <span style=\"font-size: 0.8em; font-weight: bold; line-height: 1; border-radius: 0.35em; vertical-align: middle; margin-left: 0.5rem\">NEG</span>\n",
              "</mark>\n",
              " \n",
              "<mark class=\"entity\" style=\"background: #FFA500; padding: 0.45em 0.6em; margin: 0 0.25em; line-height: 1; border-radius: 0.35em;\">\n",
              "    se prueba la negligencia del acusado\n",
              "    <span style=\"font-size: 0.8em; font-weight: bold; line-height: 1; border-radius: 0.35em; vertical-align: middle; margin-left: 0.5rem\">NSCO</span>\n",
              "</mark>\n",
              ".</div></span>"
            ]
          },
          "metadata": {}
        }
      ]
    },
    {
      "cell_type": "code",
      "source": [
        "text = '''La transferencia de la propiedad nunca se llevará a cabo a menos que todas las partes hayan otorgado su consentimiento de manera indiscutible. Pero el Señor Pérez ha mostrado reservas en cuanto a su intención de adquirir el inmueble. No existe la menor obligación para Pérez de proceder con la compra si aún hay interrogantes sobre la legitimidad o la equidad del contrato. No es completamente evidente si las demandas por incumplimiento del contrato tendrán validez en el tribunal, considerando el lenguaje ambiguo en la cláusula 7. El tribunal tiene la prerrogativa de rechazar cualquier penalización si el demandado ignoraba la infracción. Aunque el documento puede en teoría obligar a las partes, queda en el aire la duda sobre su validez si existiera retención de información por cualquier de las partes. Toda modificación al contrato carecerá de efecto sin el consentimiento expreso y por escrito de todos los implicados. Se plantea la duda de si la cláusula de no competencia del acuerdo podría aplicarse en diversas jurisdicciones. El demandante se encontrará incapacitado para solicitar indemnización si no se logra demostrar el dolo del demandado.'''"
      ],
      "metadata": {
        "id": "gHbmb6ToKluh"
      },
      "execution_count": null,
      "outputs": []
    },
    {
      "cell_type": "code",
      "source": [
        "doc = nlp_ner(text)\n",
        "spacy.displacy.render(doc, style=\"ent\", options= options, jupyter=True)"
      ],
      "metadata": {
        "colab": {
          "base_uri": "https://localhost:8080/",
          "height": 192
        },
        "id": "t_RmrZUvKnhg",
        "outputId": "4cc248d6-2704-4561-f871-ac9aa77ea5a6"
      },
      "execution_count": null,
      "outputs": [
        {
          "output_type": "display_data",
          "data": {
            "text/plain": [
              "<IPython.core.display.HTML object>"
            ],
            "text/html": [
              "<span class=\"tex2jax_ignore\"><div class=\"entities\" style=\"line-height: 2.5; direction: ltr\">\n",
              "<mark class=\"entity\" style=\"background: #FFC0CB; padding: 0.45em 0.6em; margin: 0 0.25em; line-height: 1; border-radius: 0.35em;\">\n",
              "    La transferencia de la propiedad\n",
              "    <span style=\"font-size: 0.8em; font-weight: bold; line-height: 1; border-radius: 0.35em; vertical-align: middle; margin-left: 0.5rem\">USCO</span>\n",
              "</mark>\n",
              " \n",
              "<mark class=\"entity\" style=\"background: #FF0000; padding: 0.45em 0.6em; margin: 0 0.25em; line-height: 1; border-radius: 0.35em;\">\n",
              "    nunca\n",
              "    <span style=\"font-size: 0.8em; font-weight: bold; line-height: 1; border-radius: 0.35em; vertical-align: middle; margin-left: 0.5rem\">NEG</span>\n",
              "</mark>\n",
              " \n",
              "<mark class=\"entity\" style=\"background: #FFA500; padding: 0.45em 0.6em; margin: 0 0.25em; line-height: 1; border-radius: 0.35em;\">\n",
              "    se llevará a cabo a menos que todas las partes hayan otorgado su consentimiento de manera indiscutible\n",
              "    <span style=\"font-size: 0.8em; font-weight: bold; line-height: 1; border-radius: 0.35em; vertical-align: middle; margin-left: 0.5rem\">NSCO</span>\n",
              "</mark>\n",
              ". Pero el Señor Pérez ha mostrado reservas en cuanto a su intención de adquirir el inmueble. \n",
              "<mark class=\"entity\" style=\"background: #FF0000; padding: 0.45em 0.6em; margin: 0 0.25em; line-height: 1; border-radius: 0.35em;\">\n",
              "    No\n",
              "    <span style=\"font-size: 0.8em; font-weight: bold; line-height: 1; border-radius: 0.35em; vertical-align: middle; margin-left: 0.5rem\">NEG</span>\n",
              "</mark>\n",
              " \n",
              "<mark class=\"entity\" style=\"background: #FFA500; padding: 0.45em 0.6em; margin: 0 0.25em; line-height: 1; border-radius: 0.35em;\">\n",
              "    existe la menor obligación para Pérez de proceder con la compra\n",
              "    <span style=\"font-size: 0.8em; font-weight: bold; line-height: 1; border-radius: 0.35em; vertical-align: middle; margin-left: 0.5rem\">NSCO</span>\n",
              "</mark>\n",
              " si aún \n",
              "<mark class=\"entity\" style=\"background: #FF0000; padding: 0.45em 0.6em; margin: 0 0.25em; line-height: 1; border-radius: 0.35em;\">\n",
              "    hay\n",
              "    <span style=\"font-size: 0.8em; font-weight: bold; line-height: 1; border-radius: 0.35em; vertical-align: middle; margin-left: 0.5rem\">NEG</span>\n",
              "</mark>\n",
              " \n",
              "<mark class=\"entity\" style=\"background: #FFC0CB; padding: 0.45em 0.6em; margin: 0 0.25em; line-height: 1; border-radius: 0.35em;\">\n",
              "    interrogantes sobre la legitimidad o la equidad del contrato.\n",
              "    <span style=\"font-size: 0.8em; font-weight: bold; line-height: 1; border-radius: 0.35em; vertical-align: middle; margin-left: 0.5rem\">USCO</span>\n",
              "</mark>\n",
              " \n",
              "<mark class=\"entity\" style=\"background: #FF0000; padding: 0.45em 0.6em; margin: 0 0.25em; line-height: 1; border-radius: 0.35em;\">\n",
              "    No\n",
              "    <span style=\"font-size: 0.8em; font-weight: bold; line-height: 1; border-radius: 0.35em; vertical-align: middle; margin-left: 0.5rem\">NEG</span>\n",
              "</mark>\n",
              " \n",
              "<mark class=\"entity\" style=\"background: #FFA500; padding: 0.45em 0.6em; margin: 0 0.25em; line-height: 1; border-radius: 0.35em;\">\n",
              "    es completamente evidente si las demandas por incumplimiento del contrato tendrán validez en el tribunal\n",
              "    <span style=\"font-size: 0.8em; font-weight: bold; line-height: 1; border-radius: 0.35em; vertical-align: middle; margin-left: 0.5rem\">NSCO</span>\n",
              "</mark>\n",
              ", considerando el lenguaje \n",
              "<mark class=\"entity\" style=\"background: #800080; padding: 0.45em 0.6em; margin: 0 0.25em; line-height: 1; border-radius: 0.35em;\">\n",
              "    ambiguo\n",
              "    <span style=\"font-size: 0.8em; font-weight: bold; line-height: 1; border-radius: 0.35em; vertical-align: middle; margin-left: 0.5rem\">UNC</span>\n",
              "</mark>\n",
              " \n",
              "<mark class=\"entity\" style=\"background: #FFC0CB; padding: 0.45em 0.6em; margin: 0 0.25em; line-height: 1; border-radius: 0.35em;\">\n",
              "    en la cláusula 7.\n",
              "    <span style=\"font-size: 0.8em; font-weight: bold; line-height: 1; border-radius: 0.35em; vertical-align: middle; margin-left: 0.5rem\">USCO</span>\n",
              "</mark>\n",
              " El tribunal tiene la prerrogativa de \n",
              "<mark class=\"entity\" style=\"background: #FF0000; padding: 0.45em 0.6em; margin: 0 0.25em; line-height: 1; border-radius: 0.35em;\">\n",
              "    rechazar\n",
              "    <span style=\"font-size: 0.8em; font-weight: bold; line-height: 1; border-radius: 0.35em; vertical-align: middle; margin-left: 0.5rem\">NEG</span>\n",
              "</mark>\n",
              " cualquier penalización si el demandado \n",
              "<mark class=\"entity\" style=\"background: #800080; padding: 0.45em 0.6em; margin: 0 0.25em; line-height: 1; border-radius: 0.35em;\">\n",
              "    ignoraba\n",
              "    <span style=\"font-size: 0.8em; font-weight: bold; line-height: 1; border-radius: 0.35em; vertical-align: middle; margin-left: 0.5rem\">UNC</span>\n",
              "</mark>\n",
              " \n",
              "<mark class=\"entity\" style=\"background: #FFC0CB; padding: 0.45em 0.6em; margin: 0 0.25em; line-height: 1; border-radius: 0.35em;\">\n",
              "    la infracción.\n",
              "    <span style=\"font-size: 0.8em; font-weight: bold; line-height: 1; border-radius: 0.35em; vertical-align: middle; margin-left: 0.5rem\">USCO</span>\n",
              "</mark>\n",
              " Aunque el documento puede \n",
              "<mark class=\"entity\" style=\"background: #FFC0CB; padding: 0.45em 0.6em; margin: 0 0.25em; line-height: 1; border-radius: 0.35em;\">\n",
              "    en teoría\n",
              "    <span style=\"font-size: 0.8em; font-weight: bold; line-height: 1; border-radius: 0.35em; vertical-align: middle; margin-left: 0.5rem\">USCO</span>\n",
              "</mark>\n",
              " \n",
              "<mark class=\"entity\" style=\"background: #FF0000; padding: 0.45em 0.6em; margin: 0 0.25em; line-height: 1; border-radius: 0.35em;\">\n",
              "    obligar\n",
              "    <span style=\"font-size: 0.8em; font-weight: bold; line-height: 1; border-radius: 0.35em; vertical-align: middle; margin-left: 0.5rem\">NEG</span>\n",
              "</mark>\n",
              " a las partes, queda en el aire la duda sobre su validez si existiera retención de información por cualquier de las partes. Toda modificación al contrato \n",
              "<mark class=\"entity\" style=\"background: #FF0000; padding: 0.45em 0.6em; margin: 0 0.25em; line-height: 1; border-radius: 0.35em;\">\n",
              "    carecerá\n",
              "    <span style=\"font-size: 0.8em; font-weight: bold; line-height: 1; border-radius: 0.35em; vertical-align: middle; margin-left: 0.5rem\">NEG</span>\n",
              "</mark>\n",
              " de efecto \n",
              "<mark class=\"entity\" style=\"background: #FF0000; padding: 0.45em 0.6em; margin: 0 0.25em; line-height: 1; border-radius: 0.35em;\">\n",
              "    sin\n",
              "    <span style=\"font-size: 0.8em; font-weight: bold; line-height: 1; border-radius: 0.35em; vertical-align: middle; margin-left: 0.5rem\">NEG</span>\n",
              "</mark>\n",
              " \n",
              "<mark class=\"entity\" style=\"background: #FFA500; padding: 0.45em 0.6em; margin: 0 0.25em; line-height: 1; border-radius: 0.35em;\">\n",
              "    el consentimiento expreso\n",
              "    <span style=\"font-size: 0.8em; font-weight: bold; line-height: 1; border-radius: 0.35em; vertical-align: middle; margin-left: 0.5rem\">NSCO</span>\n",
              "</mark>\n",
              " y por escrito de todos los implicados. Se \n",
              "<mark class=\"entity\" style=\"background: #800080; padding: 0.45em 0.6em; margin: 0 0.25em; line-height: 1; border-radius: 0.35em;\">\n",
              "    plantea\n",
              "    <span style=\"font-size: 0.8em; font-weight: bold; line-height: 1; border-radius: 0.35em; vertical-align: middle; margin-left: 0.5rem\">UNC</span>\n",
              "</mark>\n",
              " \n",
              "<mark class=\"entity\" style=\"background: #FFC0CB; padding: 0.45em 0.6em; margin: 0 0.25em; line-height: 1; border-radius: 0.35em;\">\n",
              "    la duda de si la cláusula de\n",
              "    <span style=\"font-size: 0.8em; font-weight: bold; line-height: 1; border-radius: 0.35em; vertical-align: middle; margin-left: 0.5rem\">USCO</span>\n",
              "</mark>\n",
              " \n",
              "<mark class=\"entity\" style=\"background: #FF0000; padding: 0.45em 0.6em; margin: 0 0.25em; line-height: 1; border-radius: 0.35em;\">\n",
              "    no\n",
              "    <span style=\"font-size: 0.8em; font-weight: bold; line-height: 1; border-radius: 0.35em; vertical-align: middle; margin-left: 0.5rem\">NEG</span>\n",
              "</mark>\n",
              " \n",
              "<mark class=\"entity\" style=\"background: #FFA500; padding: 0.45em 0.6em; margin: 0 0.25em; line-height: 1; border-radius: 0.35em;\">\n",
              "    competencia del acuerdo podría\n",
              "    <span style=\"font-size: 0.8em; font-weight: bold; line-height: 1; border-radius: 0.35em; vertical-align: middle; margin-left: 0.5rem\">NSCO</span>\n",
              "</mark>\n",
              " \n",
              "<mark class=\"entity\" style=\"background: #FFC0CB; padding: 0.45em 0.6em; margin: 0 0.25em; line-height: 1; border-radius: 0.35em;\">\n",
              "    aplicarse en diversas jurisdicciones.\n",
              "    <span style=\"font-size: 0.8em; font-weight: bold; line-height: 1; border-radius: 0.35em; vertical-align: middle; margin-left: 0.5rem\">USCO</span>\n",
              "</mark>\n",
              " El demandante se encontrará incapacitado para solicitar indemnización si \n",
              "<mark class=\"entity\" style=\"background: #FF0000; padding: 0.45em 0.6em; margin: 0 0.25em; line-height: 1; border-radius: 0.35em;\">\n",
              "    no\n",
              "    <span style=\"font-size: 0.8em; font-weight: bold; line-height: 1; border-radius: 0.35em; vertical-align: middle; margin-left: 0.5rem\">NEG</span>\n",
              "</mark>\n",
              " \n",
              "<mark class=\"entity\" style=\"background: #FFA500; padding: 0.45em 0.6em; margin: 0 0.25em; line-height: 1; border-radius: 0.35em;\">\n",
              "    se logra demostrar el dolo del demandado.\n",
              "    <span style=\"font-size: 0.8em; font-weight: bold; line-height: 1; border-radius: 0.35em; vertical-align: middle; margin-left: 0.5rem\">NSCO</span>\n",
              "</mark>\n",
              "</div></span>"
            ]
          },
          "metadata": {}
        }
      ]
    },
    {
      "cell_type": "code",
      "source": [
        "text = '''El contrato estipula que todas las partes deben dar su consentimiento de manera indiscutible para la transferencia de la propiedad. El Señor Pérez ha mostrado interés en adquirir el inmueble, pero todavía hay algunas dudas sobre la legitimidad del contrato. Si bien la cláusula 7 es un tanto ambigua, no se espera que esto afecte la validez de las demandas por incumplimiento del contrato. El tribunal tiene la prerrogativa de rechazar cualquier penalización, pero esta situación se ve poco probable dada la evidencia presentada. Aunque se plantea la cuestión de la aplicabilidad de la cláusula de no competencia en diversas jurisdicciones, se espera que este punto sea aclarado en las próximas negociaciones. El demandante se encuentra preparado para solicitar indemnización, a menos que no se logre demostrar el dolo del demandado.'''"
      ],
      "metadata": {
        "id": "ePYNJgz8LfJn"
      },
      "execution_count": null,
      "outputs": []
    },
    {
      "cell_type": "code",
      "source": [
        "doc = nlp_ner(text)\n",
        "spacy.displacy.render(doc, style=\"ent\", options= options, jupyter=True)"
      ],
      "metadata": {
        "colab": {
          "base_uri": "https://localhost:8080/",
          "height": 157
        },
        "id": "Ajq79udsLg8f",
        "outputId": "301bfb4f-d482-486f-803b-649917782e49"
      },
      "execution_count": null,
      "outputs": [
        {
          "output_type": "display_data",
          "data": {
            "text/plain": [
              "<IPython.core.display.HTML object>"
            ],
            "text/html": [
              "<span class=\"tex2jax_ignore\"><div class=\"entities\" style=\"line-height: 2.5; direction: ltr\">\n",
              "<mark class=\"entity\" style=\"background: #FFC0CB; padding: 0.45em 0.6em; margin: 0 0.25em; line-height: 1; border-radius: 0.35em;\">\n",
              "    El contrato estipula que todas las partes deben dar su consentimiento de manera indiscutible para la transferencia de la propiedad.\n",
              "    <span style=\"font-size: 0.8em; font-weight: bold; line-height: 1; border-radius: 0.35em; vertical-align: middle; margin-left: 0.5rem\">USCO</span>\n",
              "</mark>\n",
              " El Señor Pérez ha mostrado interés en adquirir el inmueble, pero todavía \n",
              "<mark class=\"entity\" style=\"background: #800080; padding: 0.45em 0.6em; margin: 0 0.25em; line-height: 1; border-radius: 0.35em;\">\n",
              "    hay\n",
              "    <span style=\"font-size: 0.8em; font-weight: bold; line-height: 1; border-radius: 0.35em; vertical-align: middle; margin-left: 0.5rem\">UNC</span>\n",
              "</mark>\n",
              " \n",
              "<mark class=\"entity\" style=\"background: #FFA500; padding: 0.45em 0.6em; margin: 0 0.25em; line-height: 1; border-radius: 0.35em;\">\n",
              "    algunas dudas sobre la legitimidad del contrato\n",
              "    <span style=\"font-size: 0.8em; font-weight: bold; line-height: 1; border-radius: 0.35em; vertical-align: middle; margin-left: 0.5rem\">NSCO</span>\n",
              "</mark>\n",
              ". Si bien la cláusula 7 es un tanto ambigua, \n",
              "<mark class=\"entity\" style=\"background: #FF0000; padding: 0.45em 0.6em; margin: 0 0.25em; line-height: 1; border-radius: 0.35em;\">\n",
              "    no\n",
              "    <span style=\"font-size: 0.8em; font-weight: bold; line-height: 1; border-radius: 0.35em; vertical-align: middle; margin-left: 0.5rem\">NEG</span>\n",
              "</mark>\n",
              " \n",
              "<mark class=\"entity\" style=\"background: #FFA500; padding: 0.45em 0.6em; margin: 0 0.25em; line-height: 1; border-radius: 0.35em;\">\n",
              "    se espera que esto\n",
              "    <span style=\"font-size: 0.8em; font-weight: bold; line-height: 1; border-radius: 0.35em; vertical-align: middle; margin-left: 0.5rem\">NSCO</span>\n",
              "</mark>\n",
              " \n",
              "<mark class=\"entity\" style=\"background: #800080; padding: 0.45em 0.6em; margin: 0 0.25em; line-height: 1; border-radius: 0.35em;\">\n",
              "    afecte la\n",
              "    <span style=\"font-size: 0.8em; font-weight: bold; line-height: 1; border-radius: 0.35em; vertical-align: middle; margin-left: 0.5rem\">UNC</span>\n",
              "</mark>\n",
              " \n",
              "<mark class=\"entity\" style=\"background: #FFC0CB; padding: 0.45em 0.6em; margin: 0 0.25em; line-height: 1; border-radius: 0.35em;\">\n",
              "    validez de las demandas por incumplimiento del contrato.\n",
              "    <span style=\"font-size: 0.8em; font-weight: bold; line-height: 1; border-radius: 0.35em; vertical-align: middle; margin-left: 0.5rem\">USCO</span>\n",
              "</mark>\n",
              " El tribunal tiene la prerrogativa de \n",
              "<mark class=\"entity\" style=\"background: #FF0000; padding: 0.45em 0.6em; margin: 0 0.25em; line-height: 1; border-radius: 0.35em;\">\n",
              "    rechazar\n",
              "    <span style=\"font-size: 0.8em; font-weight: bold; line-height: 1; border-radius: 0.35em; vertical-align: middle; margin-left: 0.5rem\">NEG</span>\n",
              "</mark>\n",
              " cualquier penalización, pero esta situación se ve poco \n",
              "<mark class=\"entity\" style=\"background: #800080; padding: 0.45em 0.6em; margin: 0 0.25em; line-height: 1; border-radius: 0.35em;\">\n",
              "    probable\n",
              "    <span style=\"font-size: 0.8em; font-weight: bold; line-height: 1; border-radius: 0.35em; vertical-align: middle; margin-left: 0.5rem\">UNC</span>\n",
              "</mark>\n",
              " \n",
              "<mark class=\"entity\" style=\"background: #FFC0CB; padding: 0.45em 0.6em; margin: 0 0.25em; line-height: 1; border-radius: 0.35em;\">\n",
              "    dada la evidencia presentada.\n",
              "    <span style=\"font-size: 0.8em; font-weight: bold; line-height: 1; border-radius: 0.35em; vertical-align: middle; margin-left: 0.5rem\">USCO</span>\n",
              "</mark>\n",
              " Aunque se \n",
              "<mark class=\"entity\" style=\"background: #800080; padding: 0.45em 0.6em; margin: 0 0.25em; line-height: 1; border-radius: 0.35em;\">\n",
              "    plantea\n",
              "    <span style=\"font-size: 0.8em; font-weight: bold; line-height: 1; border-radius: 0.35em; vertical-align: middle; margin-left: 0.5rem\">UNC</span>\n",
              "</mark>\n",
              " \n",
              "<mark class=\"entity\" style=\"background: #FFC0CB; padding: 0.45em 0.6em; margin: 0 0.25em; line-height: 1; border-radius: 0.35em;\">\n",
              "    la cuestión de la aplicabilidad de la cláusula de\n",
              "    <span style=\"font-size: 0.8em; font-weight: bold; line-height: 1; border-radius: 0.35em; vertical-align: middle; margin-left: 0.5rem\">USCO</span>\n",
              "</mark>\n",
              " \n",
              "<mark class=\"entity\" style=\"background: #FF0000; padding: 0.45em 0.6em; margin: 0 0.25em; line-height: 1; border-radius: 0.35em;\">\n",
              "    no\n",
              "    <span style=\"font-size: 0.8em; font-weight: bold; line-height: 1; border-radius: 0.35em; vertical-align: middle; margin-left: 0.5rem\">NEG</span>\n",
              "</mark>\n",
              " \n",
              "<mark class=\"entity\" style=\"background: #FFA500; padding: 0.45em 0.6em; margin: 0 0.25em; line-height: 1; border-radius: 0.35em;\">\n",
              "    competencia en diversas jurisdicciones\n",
              "    <span style=\"font-size: 0.8em; font-weight: bold; line-height: 1; border-radius: 0.35em; vertical-align: middle; margin-left: 0.5rem\">NSCO</span>\n",
              "</mark>\n",
              ", se espera que este punto sea aclarado en las próximas negociaciones. El demandante se encuentra preparado para solicitar indemnización, a menos que \n",
              "<mark class=\"entity\" style=\"background: #FF0000; padding: 0.45em 0.6em; margin: 0 0.25em; line-height: 1; border-radius: 0.35em;\">\n",
              "    no\n",
              "    <span style=\"font-size: 0.8em; font-weight: bold; line-height: 1; border-radius: 0.35em; vertical-align: middle; margin-left: 0.5rem\">NEG</span>\n",
              "</mark>\n",
              " \n",
              "<mark class=\"entity\" style=\"background: #FFA500; padding: 0.45em 0.6em; margin: 0 0.25em; line-height: 1; border-radius: 0.35em;\">\n",
              "    se logre demostrar el dolo del demandado.\n",
              "    <span style=\"font-size: 0.8em; font-weight: bold; line-height: 1; border-radius: 0.35em; vertical-align: middle; margin-left: 0.5rem\">NSCO</span>\n",
              "</mark>\n",
              "</div></span>"
            ]
          },
          "metadata": {}
        }
      ]
    },
    {
      "cell_type": "markdown",
      "source": [
        "Testing with a text about sport:"
      ],
      "metadata": {
        "id": "TGT8xbtiHAZA"
      }
    },
    {
      "cell_type": "code",
      "source": [
        "text = '''El jugador no podrá ser transferido a otro equipo a menos que ambas partes hayan acordado los términos del contrato de manera indiscutible. Sin embargo, hay cierta incertidumbre sobre si el jugador desea realmente dejar su actual club. No puede ser obligado a firmar con el nuevo equipo si hay dudas sobre la igualdad de las condiciones contractuales. No está claro de inmediato si el jugador estará en forma para el comienzo de la próxima temporada, debido a una lesión reciente. La asociación deportiva se reserva el derecho de no sancionar al jugador si no estaba consciente de la infracción de las reglas. Mientras que el contrato podría vincular potencialmente al jugador y al equipo, existe incertidumbre sobre su validez si no se ha revelado por completo el estado de salud del jugador. Cualquier cambio en el contrato no será considerado válido sin el consentimiento expreso por escrito de ambas partes. Existe cierta duda sobre si las cláusulas de no competencia en el contrato pueden hacerse cumplir si el jugador decide retirarse. El equipo no podrá exigir compensación si no se puede demostrar que el jugador ha infringido de forma deliberada las normas del equipo.'''"
      ],
      "metadata": {
        "id": "5TbzevoyHAH3"
      },
      "execution_count": null,
      "outputs": []
    },
    {
      "cell_type": "code",
      "source": [
        "doc = nlp_ner(text)\n",
        "spacy.displacy.render(doc, style=\"ent\", options= options, jupyter=True)"
      ],
      "metadata": {
        "colab": {
          "base_uri": "https://localhost:8080/",
          "height": 192
        },
        "id": "JMmn3wmyHRo5",
        "outputId": "b5058038-3ebd-4728-a0ef-e3a7e4308982"
      },
      "execution_count": null,
      "outputs": [
        {
          "output_type": "display_data",
          "data": {
            "text/plain": [
              "<IPython.core.display.HTML object>"
            ],
            "text/html": [
              "<span class=\"tex2jax_ignore\"><div class=\"entities\" style=\"line-height: 2.5; direction: ltr\">El jugador \n",
              "<mark class=\"entity\" style=\"background: #FF0000; padding: 0.45em 0.6em; margin: 0 0.25em; line-height: 1; border-radius: 0.35em;\">\n",
              "    no\n",
              "    <span style=\"font-size: 0.8em; font-weight: bold; line-height: 1; border-radius: 0.35em; vertical-align: middle; margin-left: 0.5rem\">NEG</span>\n",
              "</mark>\n",
              " \n",
              "<mark class=\"entity\" style=\"background: #FFA500; padding: 0.45em 0.6em; margin: 0 0.25em; line-height: 1; border-radius: 0.35em;\">\n",
              "    podrá ser transferido a otro equipo a menos que ambas partes hayan acordado los términos del contrato de manera indiscutible\n",
              "    <span style=\"font-size: 0.8em; font-weight: bold; line-height: 1; border-radius: 0.35em; vertical-align: middle; margin-left: 0.5rem\">NSCO</span>\n",
              "</mark>\n",
              ". Sin embargo, hay \n",
              "<mark class=\"entity\" style=\"background: #FFC0CB; padding: 0.45em 0.6em; margin: 0 0.25em; line-height: 1; border-radius: 0.35em;\">\n",
              "    cierta incertidumbre sobre si el jugador desea realmente dejar su actual club.\n",
              "    <span style=\"font-size: 0.8em; font-weight: bold; line-height: 1; border-radius: 0.35em; vertical-align: middle; margin-left: 0.5rem\">USCO</span>\n",
              "</mark>\n",
              " \n",
              "<mark class=\"entity\" style=\"background: #FF0000; padding: 0.45em 0.6em; margin: 0 0.25em; line-height: 1; border-radius: 0.35em;\">\n",
              "    No\n",
              "    <span style=\"font-size: 0.8em; font-weight: bold; line-height: 1; border-radius: 0.35em; vertical-align: middle; margin-left: 0.5rem\">NEG</span>\n",
              "</mark>\n",
              " \n",
              "<mark class=\"entity\" style=\"background: #FFA500; padding: 0.45em 0.6em; margin: 0 0.25em; line-height: 1; border-radius: 0.35em;\">\n",
              "    puede ser obligado a firmar con el nuevo equipo si\n",
              "    <span style=\"font-size: 0.8em; font-weight: bold; line-height: 1; border-radius: 0.35em; vertical-align: middle; margin-left: 0.5rem\">NSCO</span>\n",
              "</mark>\n",
              " \n",
              "<mark class=\"entity\" style=\"background: #800080; padding: 0.45em 0.6em; margin: 0 0.25em; line-height: 1; border-radius: 0.35em;\">\n",
              "    hay dudas\n",
              "    <span style=\"font-size: 0.8em; font-weight: bold; line-height: 1; border-radius: 0.35em; vertical-align: middle; margin-left: 0.5rem\">UNC</span>\n",
              "</mark>\n",
              " \n",
              "<mark class=\"entity\" style=\"background: #FFC0CB; padding: 0.45em 0.6em; margin: 0 0.25em; line-height: 1; border-radius: 0.35em;\">\n",
              "    sobre la igualdad de las condiciones contractuales.\n",
              "    <span style=\"font-size: 0.8em; font-weight: bold; line-height: 1; border-radius: 0.35em; vertical-align: middle; margin-left: 0.5rem\">USCO</span>\n",
              "</mark>\n",
              " \n",
              "<mark class=\"entity\" style=\"background: #FF0000; padding: 0.45em 0.6em; margin: 0 0.25em; line-height: 1; border-radius: 0.35em;\">\n",
              "    No\n",
              "    <span style=\"font-size: 0.8em; font-weight: bold; line-height: 1; border-radius: 0.35em; vertical-align: middle; margin-left: 0.5rem\">NEG</span>\n",
              "</mark>\n",
              " \n",
              "<mark class=\"entity\" style=\"background: #FFA500; padding: 0.45em 0.6em; margin: 0 0.25em; line-height: 1; border-radius: 0.35em;\">\n",
              "    está claro de inmediato si el jugador estará en forma para el comienzo de la próxima temporada\n",
              "    <span style=\"font-size: 0.8em; font-weight: bold; line-height: 1; border-radius: 0.35em; vertical-align: middle; margin-left: 0.5rem\">NSCO</span>\n",
              "</mark>\n",
              ", debido a una lesión reciente. La asociación deportiva se reserva el derecho de \n",
              "<mark class=\"entity\" style=\"background: #FF0000; padding: 0.45em 0.6em; margin: 0 0.25em; line-height: 1; border-radius: 0.35em;\">\n",
              "    no\n",
              "    <span style=\"font-size: 0.8em; font-weight: bold; line-height: 1; border-radius: 0.35em; vertical-align: middle; margin-left: 0.5rem\">NEG</span>\n",
              "</mark>\n",
              " \n",
              "<mark class=\"entity\" style=\"background: #FFA500; padding: 0.45em 0.6em; margin: 0 0.25em; line-height: 1; border-radius: 0.35em;\">\n",
              "    sancionar al jugador\n",
              "    <span style=\"font-size: 0.8em; font-weight: bold; line-height: 1; border-radius: 0.35em; vertical-align: middle; margin-left: 0.5rem\">NSCO</span>\n",
              "</mark>\n",
              " si \n",
              "<mark class=\"entity\" style=\"background: #FF0000; padding: 0.45em 0.6em; margin: 0 0.25em; line-height: 1; border-radius: 0.35em;\">\n",
              "    no\n",
              "    <span style=\"font-size: 0.8em; font-weight: bold; line-height: 1; border-radius: 0.35em; vertical-align: middle; margin-left: 0.5rem\">NEG</span>\n",
              "</mark>\n",
              " \n",
              "<mark class=\"entity\" style=\"background: #FFA500; padding: 0.45em 0.6em; margin: 0 0.25em; line-height: 1; border-radius: 0.35em;\">\n",
              "    estaba consciente de la infracción de las reglas.\n",
              "    <span style=\"font-size: 0.8em; font-weight: bold; line-height: 1; border-radius: 0.35em; vertical-align: middle; margin-left: 0.5rem\">NSCO</span>\n",
              "</mark>\n",
              " Mientras que el contrato \n",
              "<mark class=\"entity\" style=\"background: #800080; padding: 0.45em 0.6em; margin: 0 0.25em; line-height: 1; border-radius: 0.35em;\">\n",
              "    podría\n",
              "    <span style=\"font-size: 0.8em; font-weight: bold; line-height: 1; border-radius: 0.35em; vertical-align: middle; margin-left: 0.5rem\">UNC</span>\n",
              "</mark>\n",
              " \n",
              "<mark class=\"entity\" style=\"background: #FFC0CB; padding: 0.45em 0.6em; margin: 0 0.25em; line-height: 1; border-radius: 0.35em;\">\n",
              "    vincular potencialmente al jugador y al equipo,\n",
              "    <span style=\"font-size: 0.8em; font-weight: bold; line-height: 1; border-radius: 0.35em; vertical-align: middle; margin-left: 0.5rem\">USCO</span>\n",
              "</mark>\n",
              " existe \n",
              "<mark class=\"entity\" style=\"background: #800080; padding: 0.45em 0.6em; margin: 0 0.25em; line-height: 1; border-radius: 0.35em;\">\n",
              "    incertidumbre\n",
              "    <span style=\"font-size: 0.8em; font-weight: bold; line-height: 1; border-radius: 0.35em; vertical-align: middle; margin-left: 0.5rem\">UNC</span>\n",
              "</mark>\n",
              " \n",
              "<mark class=\"entity\" style=\"background: #FFC0CB; padding: 0.45em 0.6em; margin: 0 0.25em; line-height: 1; border-radius: 0.35em;\">\n",
              "    sobre su validez si\n",
              "    <span style=\"font-size: 0.8em; font-weight: bold; line-height: 1; border-radius: 0.35em; vertical-align: middle; margin-left: 0.5rem\">USCO</span>\n",
              "</mark>\n",
              " \n",
              "<mark class=\"entity\" style=\"background: #FF0000; padding: 0.45em 0.6em; margin: 0 0.25em; line-height: 1; border-radius: 0.35em;\">\n",
              "    no\n",
              "    <span style=\"font-size: 0.8em; font-weight: bold; line-height: 1; border-radius: 0.35em; vertical-align: middle; margin-left: 0.5rem\">NEG</span>\n",
              "</mark>\n",
              " \n",
              "<mark class=\"entity\" style=\"background: #FFA500; padding: 0.45em 0.6em; margin: 0 0.25em; line-height: 1; border-radius: 0.35em;\">\n",
              "    se ha revelado por completo el estado de salud del jugador.\n",
              "    <span style=\"font-size: 0.8em; font-weight: bold; line-height: 1; border-radius: 0.35em; vertical-align: middle; margin-left: 0.5rem\">NSCO</span>\n",
              "</mark>\n",
              " Cualquier cambio en el contrato \n",
              "<mark class=\"entity\" style=\"background: #FF0000; padding: 0.45em 0.6em; margin: 0 0.25em; line-height: 1; border-radius: 0.35em;\">\n",
              "    no\n",
              "    <span style=\"font-size: 0.8em; font-weight: bold; line-height: 1; border-radius: 0.35em; vertical-align: middle; margin-left: 0.5rem\">NEG</span>\n",
              "</mark>\n",
              " \n",
              "<mark class=\"entity\" style=\"background: #FFA500; padding: 0.45em 0.6em; margin: 0 0.25em; line-height: 1; border-radius: 0.35em;\">\n",
              "    será considerado válido\n",
              "    <span style=\"font-size: 0.8em; font-weight: bold; line-height: 1; border-radius: 0.35em; vertical-align: middle; margin-left: 0.5rem\">NSCO</span>\n",
              "</mark>\n",
              " \n",
              "<mark class=\"entity\" style=\"background: #FF0000; padding: 0.45em 0.6em; margin: 0 0.25em; line-height: 1; border-radius: 0.35em;\">\n",
              "    sin\n",
              "    <span style=\"font-size: 0.8em; font-weight: bold; line-height: 1; border-radius: 0.35em; vertical-align: middle; margin-left: 0.5rem\">NEG</span>\n",
              "</mark>\n",
              " \n",
              "<mark class=\"entity\" style=\"background: #FFA500; padding: 0.45em 0.6em; margin: 0 0.25em; line-height: 1; border-radius: 0.35em;\">\n",
              "    el consentimiento expreso por escrito de ambas partes.\n",
              "    <span style=\"font-size: 0.8em; font-weight: bold; line-height: 1; border-radius: 0.35em; vertical-align: middle; margin-left: 0.5rem\">NSCO</span>\n",
              "</mark>\n",
              " Existe cierta duda sobre si las cláusulas de \n",
              "<mark class=\"entity\" style=\"background: #FF0000; padding: 0.45em 0.6em; margin: 0 0.25em; line-height: 1; border-radius: 0.35em;\">\n",
              "    no\n",
              "    <span style=\"font-size: 0.8em; font-weight: bold; line-height: 1; border-radius: 0.35em; vertical-align: middle; margin-left: 0.5rem\">NEG</span>\n",
              "</mark>\n",
              " \n",
              "<mark class=\"entity\" style=\"background: #FFA500; padding: 0.45em 0.6em; margin: 0 0.25em; line-height: 1; border-radius: 0.35em;\">\n",
              "    competencia en el contrato pueden hacerse cumplir si el jugador decide retirarse.\n",
              "    <span style=\"font-size: 0.8em; font-weight: bold; line-height: 1; border-radius: 0.35em; vertical-align: middle; margin-left: 0.5rem\">NSCO</span>\n",
              "</mark>\n",
              " El equipo \n",
              "<mark class=\"entity\" style=\"background: #FF0000; padding: 0.45em 0.6em; margin: 0 0.25em; line-height: 1; border-radius: 0.35em;\">\n",
              "    no\n",
              "    <span style=\"font-size: 0.8em; font-weight: bold; line-height: 1; border-radius: 0.35em; vertical-align: middle; margin-left: 0.5rem\">NEG</span>\n",
              "</mark>\n",
              " \n",
              "<mark class=\"entity\" style=\"background: #FFA500; padding: 0.45em 0.6em; margin: 0 0.25em; line-height: 1; border-radius: 0.35em;\">\n",
              "    podrá exigir compensación\n",
              "    <span style=\"font-size: 0.8em; font-weight: bold; line-height: 1; border-radius: 0.35em; vertical-align: middle; margin-left: 0.5rem\">NSCO</span>\n",
              "</mark>\n",
              " si \n",
              "<mark class=\"entity\" style=\"background: #FF0000; padding: 0.45em 0.6em; margin: 0 0.25em; line-height: 1; border-radius: 0.35em;\">\n",
              "    no\n",
              "    <span style=\"font-size: 0.8em; font-weight: bold; line-height: 1; border-radius: 0.35em; vertical-align: middle; margin-left: 0.5rem\">NEG</span>\n",
              "</mark>\n",
              " \n",
              "<mark class=\"entity\" style=\"background: #FFA500; padding: 0.45em 0.6em; margin: 0 0.25em; line-height: 1; border-radius: 0.35em;\">\n",
              "    se puede demostrar que el jugador ha infringido de forma deliberada las normas del equipo.\n",
              "    <span style=\"font-size: 0.8em; font-weight: bold; line-height: 1; border-radius: 0.35em; vertical-align: middle; margin-left: 0.5rem\">NSCO</span>\n",
              "</mark>\n",
              "</div></span>"
            ]
          },
          "metadata": {}
        }
      ]
    },
    {
      "cell_type": "markdown",
      "source": [
        "## Conclusions"
      ],
      "metadata": {
        "id": "zJDa7PCYQM6Q"
      }
    },
    {
      "cell_type": "markdown",
      "source": [
        "We can conclude that our model is able to detect negations and uncertainties with the scopes very well most of the times, of course it has some problems in some cases, for example, some times it does not take the full scope of a negation or an uncertainty, some times the scope contains a negation inside so it is cosidered as a negation when it should be the scope of an uncertainty and some times the uncertainty scope takes also the uncertainty part as scope. \n",
        "\n",
        "We have test our model with some texts that are not medical and got that it is able to recognize well the negations and uncertainties but most of the scopes look very strange, this could be because the model is not used to this kind of contexts that have no relation with medical texts. \n",
        "\n",
        "We thing that the model should be finetuned in order to detect correctly negations, uncertainties and scopes in other specific topics."
      ],
      "metadata": {
        "id": "RhyVB-9uQPwQ"
      }
    }
  ],
  "metadata": {
    "colab": {
      "provenance": []
    },
    "gpuClass": "standard",
    "kernelspec": {
      "display_name": "Python 3",
      "name": "python3"
    },
    "language_info": {
      "name": "python"
    }
  },
  "nbformat": 4,
  "nbformat_minor": 0
}